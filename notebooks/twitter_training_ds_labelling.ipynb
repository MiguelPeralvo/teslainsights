{
 "cells": [
  {
   "cell_type": "markdown",
   "metadata": {},
   "source": [
    "## Create bulls/bears datasets"
   ]
  },
  {
   "cell_type": "code",
   "execution_count": 131,
   "metadata": {},
   "outputs": [],
   "source": [
    "import json\n",
    "import datetime\n",
    "import pandas as pd\n",
    "import numpy as np\n",
    "import gc\n",
    "import glob\n",
    "import json\n",
    "import os\n",
    "import re\n",
    "import html\n",
    "import preprocessor as p\n",
    "import mysql.connector as sql\n",
    "from sshtunnel import SSHTunnelForwarder\n",
    "from sqlalchemy import create_engine\n",
    "from vaderSentiment.vaderSentiment import SentimentIntensityAnalyzer"
   ]
  },
  {
   "cell_type": "code",
   "execution_count": 132,
   "metadata": {},
   "outputs": [],
   "source": [
    "import traceback\n",
    "import logging\n",
    "logging.basicConfig(level=logging.INFO, format='%(asctime)s - %(name)s - %(levelname)s - %(message)s')\n",
    "logger = logging.getLogger(__name__)"
   ]
  },
  {
   "cell_type": "code",
   "execution_count": 133,
   "metadata": {},
   "outputs": [],
   "source": [
    "pd.options.display.float_format = '{:.6f}'.format\n",
    "pd.options.display.max_colwidth = 400\n",
    "p.set_options(p.OPT.URL, p.OPT.MENTION)\n",
    "analyzer = SentimentIntensityAnalyzer()"
   ]
  },
  {
   "cell_type": "code",
   "execution_count": 134,
   "metadata": {},
   "outputs": [],
   "source": [
    "ssh_username = os.getenv('AUTOMLPREDICTOR_DB_SSH_USER')\n",
    "ssh_password = os.getenv('AUTOMLPREDICTOR_DB_SSH_PASSWORD')\n",
    "\n",
    "db_host = os.getenv('AUTOMLPREDICTOR_DB_SERVER_IP', '127.0.0.1')\n",
    "db_user = 'root'\n",
    "db_password = os.getenv('AUTOMLPREDICTOR_DB_SQL_PASSWORD')\n",
    "db_port = 3306\n",
    "db = 'automlpredictor_db_dashboard'\n",
    "use_ssh = True"
   ]
  },
  {
   "cell_type": "code",
   "execution_count": 135,
   "metadata": {},
   "outputs": [],
   "source": [
    "data_path='./data/twitter'"
   ]
  },
  {
   "cell_type": "code",
   "execution_count": 136,
   "metadata": {},
   "outputs": [],
   "source": [
    "def get_friends_followers(leaders_path, friends_path, followers_path, intersect=True):\n",
    "    df_leaders = pd.read_json(leaders_path, lines=True, orient=str)\n",
    "    df_leaders['id'] = df_leaders[['id']].astype(np.int64)\n",
    "    \n",
    "    df_friends = pd.read_json(friends_path, lines=True, orient=str) # .reset_index(drop=True).set_index(['id'])\n",
    "    df_friends['id'] = df_friends[['id']].astype(np.int64)\n",
    "    \n",
    "    df_followers = pd.read_json(followers_path, lines=True, orient=str)# .reset_index(drop=True).set_index(['id'])\n",
    "    \n",
    "    if intersect:\n",
    "        df_followers = df_followers.reset_index(drop=True).set_index(['id'])\n",
    "        \n",
    "        df_merge = pd.merge(\n",
    "            df_friends[['id']], df_followers, left_on=['id'], \n",
    "            right_index=True, how='inner', sort=False\n",
    "        )\n",
    "    else:\n",
    "        df_merge = pd.concat([df_friends, df_followers]).drop_duplicates()\n",
    "    \n",
    "    df_union = pd.concat([df_merge, df_leaders]).drop_duplicates().reset_index(drop=True)#.set_index(['id'])\n",
    "    return df_union"
   ]
  },
  {
   "cell_type": "code",
   "execution_count": 137,
   "metadata": {},
   "outputs": [],
   "source": [
    "df_bears = get_friends_followers(f'{data_path}/bears_20180918.json',\n",
    "                                 f'{data_path}/bears_friends_20180916.json', \n",
    "                                 f'{data_path}/bears_followers_20180914.json', False)"
   ]
  },
  {
   "cell_type": "code",
   "execution_count": 138,
   "metadata": {},
   "outputs": [],
   "source": [
    "df_bulls = get_friends_followers(f'{data_path}/bulls_20180918.json',\n",
    "                                 f'{data_path}/bulls_friends_20180915.json', \n",
    "                                 f'{data_path}/bulls_followers_20180916.json', False)    "
   ]
  },
  {
   "cell_type": "code",
   "execution_count": 139,
   "metadata": {},
   "outputs": [],
   "source": [
    "bears_ids = set(df_bears['id'].values)\n",
    "df_bears['mixed'] = df_bears['id'].apply(lambda x: x in bulls_ids)"
   ]
  },
  {
   "cell_type": "code",
   "execution_count": 140,
   "metadata": {},
   "outputs": [],
   "source": [
    "df_bears = df_bears[~df_bears['mixed']]"
   ]
  },
  {
   "cell_type": "code",
   "execution_count": 141,
   "metadata": {},
   "outputs": [],
   "source": [
    "df_bears = df_bears[['id', 'name', 'screen_name']]"
   ]
  },
  {
   "cell_type": "code",
   "execution_count": 144,
   "metadata": {},
   "outputs": [],
   "source": [
    "df_bulls.to_json(\n",
    "    f'{data_path}/extended_bulls_20180918.json', orient='records', lines=True\n",
    ")"
   ]
  },
  {
   "cell_type": "code",
   "execution_count": 145,
   "metadata": {},
   "outputs": [],
   "source": [
    "df_bears.to_json(\n",
    "    f'{data_path}/extended_bears_20180918.json', orient='records', lines=True\n",
    ")"
   ]
  },
  {
   "cell_type": "code",
   "execution_count": 146,
   "metadata": {},
   "outputs": [],
   "source": [
    "df_bulls_bears = pd.concat(\n",
    "    [df_bulls, df_bears], keys=['Bullish', 'Bearish',]\n",
    ").reset_index().drop(['level_1'], axis=1).rename(\n",
    "    {'level_0': 'sentiment'}, axis=1\n",
    ").set_index(['screen_name'])"
   ]
  },
  {
   "cell_type": "code",
   "execution_count": 147,
   "metadata": {},
   "outputs": [],
   "source": [
    "# df_bulls_bears"
   ]
  },
  {
   "cell_type": "markdown",
   "metadata": {},
   "source": [
    "## Retrieve the posts to enrich"
   ]
  },
  {
   "cell_type": "code",
   "execution_count": 148,
   "metadata": {},
   "outputs": [],
   "source": [
    "def query(use_ssh, q, db_host, db_user, db_password, db_port, db, ssh_username, ssh_password, charset='utf8mb4'):\n",
    "\n",
    "    if use_ssh:\n",
    "        with SSHTunnelForwarder(\n",
    "                ssh_address_or_host=(db_host, 22),\n",
    "                ssh_password=ssh_password,\n",
    "                ssh_username=ssh_username,\n",
    "                remote_bind_address=('127.0.0.1', db_port)\n",
    "        ) as server:\n",
    "            conn = sql.connect(host='127.0.0.1',\n",
    "                               port=server.local_bind_port,\n",
    "                               user=db_user,\n",
    "                               passwd=db_password,\n",
    "                               db=db,\n",
    "                               charset=charset)\n",
    "            response = pd.read_sql_query(q, conn)\n",
    "            conn.close()\n",
    "            return response\n",
    "    else:\n",
    "        conn = sql.connect(host=db_host,\n",
    "                           port=db_port,\n",
    "                           user=db_user,\n",
    "                           passwd=db_password,\n",
    "                           db=db,\n",
    "                           charset=charset)\n",
    "        response = pd.read_sql_query(q, conn)\n",
    "        conn.close()\n",
    "        return response"
   ]
  },
  {
   "cell_type": "code",
   "execution_count": 149,
   "metadata": {},
   "outputs": [
    {
     "name": "stderr",
     "output_type": "stream",
     "text": [
      "2018-09-18 20:15:07,506 - paramiko.transport - INFO - Connected (version 2.0, client OpenSSH_7.2p2)\n",
      "2018-09-18 20:15:07,715 - paramiko.transport - INFO - Authentication (publickey) failed.\n",
      "2018-09-18 20:15:07,756 - paramiko.transport - INFO - Connected (version 2.0, client OpenSSH_7.2p2)\n",
      "2018-09-18 20:15:07,932 - paramiko.transport - INFO - Authentication (publickey) successful!\n"
     ]
    }
   ],
   "source": [
    "sql_posts_to_enrich = \"\"\"\n",
    "SELECT post_id, post_type, body, impact, link, user_name, \n",
    "created_at_epoch_ms, client_received_epoch_ms, \n",
    "sentiment_ml_model as original_ml_sentiment, \n",
    "sentiment_vader_normalized, \n",
    "sentiment_mixed as original_sentiment_mixed\n",
    "FROM automlpredictor_db_dashboard.analysis_posts_sentiment\n",
    " WHERE created_at_epoch_ms >=(SELECT UNIX_TIMESTAMP(NOW())*1000-(14*24*3600000)) \n",
    " AND post_type in ('twitter-topic', 'twitter-user');\n",
    "\"\"\"\n",
    "\n",
    "df_posts_to_enrich = query(\n",
    "    use_ssh, sql_posts_to_enrich, db_host, db_user, db_password, db_port, db, \n",
    "    ssh_username, ssh_password\n",
    ")\n"
   ]
  },
  {
   "cell_type": "code",
   "execution_count": 150,
   "metadata": {},
   "outputs": [],
   "source": [
    "df_posts_to_enrich.to_json(\n",
    "    f'{data_path}/twitter_posts_pre_enrichment_20180918.json.gz', \n",
    "    orient='records', lines=True, compression='gzip'\n",
    ")"
   ]
  },
  {
   "cell_type": "code",
   "execution_count": 151,
   "metadata": {
    "scrolled": false
   },
   "outputs": [],
   "source": [
    "df_posts_to_enrich = pd.read_json(\n",
    "    f'{data_path}/twitter_posts_pre_enrichment_20180918.json.gz', \n",
    "    lines=True, orient=str, compression='gzip'\n",
    ")"
   ]
  },
  {
   "cell_type": "code",
   "execution_count": 184,
   "metadata": {},
   "outputs": [],
   "source": [
    "# df_posts_to_enrich"
   ]
  },
  {
   "cell_type": "code",
   "execution_count": 172,
   "metadata": {},
   "outputs": [],
   "source": [
    "df_enriched = pd.merge(\n",
    "    df_posts_to_enrich, df_bulls_bears, left_on=['user_name'], \n",
    "    right_index=True, how='inner', sort=False\n",
    ")"
   ]
  },
  {
   "cell_type": "code",
   "execution_count": 183,
   "metadata": {},
   "outputs": [],
   "source": [
    "# df_enriched"
   ]
  },
  {
   "cell_type": "code",
   "execution_count": 174,
   "metadata": {},
   "outputs": [],
   "source": [
    "re1 = re.compile(r'  +')\n",
    "\n",
    "def fixup(x):\n",
    "    x = p.clean(x)\n",
    "    \n",
    "    x = x.replace('&#', \"#\").replace('#39;', \"'\").replace('amp;', '&').replace('#146;', \"'\").replace(\n",
    "        'nbsp;', ' ').replace('#36;', '$').replace('\\\\n', \"\\n\").replace('quot;', \"'\").replace(\n",
    "        '<br />', \"\\n\").replace('\\\\\"', '\"').replace('<unk>','u_n').replace(' @.@ ','.').replace(\n",
    "        ' @-@ ','-').replace('\\\\', ' \\\\ ')\n",
    "    return re1.sub(' ', html.unescape(x))"
   ]
  },
  {
   "cell_type": "code",
   "execution_count": 175,
   "metadata": {},
   "outputs": [],
   "source": [
    "df_enriched['clean_body'] = df_enriched['body'].apply(lambda body: fixup(body))"
   ]
  },
  {
   "cell_type": "code",
   "execution_count": 176,
   "metadata": {},
   "outputs": [],
   "source": [
    "df_enriched=df_enriched.reset_index().rename(index=str, columns={'index':'id'})"
   ]
  },
  {
   "cell_type": "code",
   "execution_count": 177,
   "metadata": {},
   "outputs": [],
   "source": [
    "df_enriched['repeat']=(df_enriched['impact']/100 + 1).astype(np.int32)"
   ]
  },
  {
   "cell_type": "code",
   "execution_count": 178,
   "metadata": {},
   "outputs": [
    {
     "data": {
      "text/plain": [
       "0         1\n",
       "1         1\n",
       "2         1\n",
       "3         1\n",
       "4         1\n",
       "5         1\n",
       "6         1\n",
       "7         1\n",
       "8         1\n",
       "9         1\n",
       "10        1\n",
       "11        1\n",
       "12        1\n",
       "13        1\n",
       "14        1\n",
       "15       35\n",
       "16        1\n",
       "17        1\n",
       "18        1\n",
       "19        1\n",
       "20        1\n",
       "21        1\n",
       "22        1\n",
       "23        1\n",
       "24        1\n",
       "25        1\n",
       "26        1\n",
       "27        1\n",
       "28        1\n",
       "29        1\n",
       "         ..\n",
       "23254     1\n",
       "23255     1\n",
       "23256     1\n",
       "23257     1\n",
       "23258     1\n",
       "23259     2\n",
       "23260     1\n",
       "23261     1\n",
       "23262     1\n",
       "23263     1\n",
       "23264     1\n",
       "23265     1\n",
       "23266     1\n",
       "23267     1\n",
       "23268     1\n",
       "23269     1\n",
       "23270     1\n",
       "23271     1\n",
       "23272     1\n",
       "23273     1\n",
       "23274     1\n",
       "23275     1\n",
       "23276     1\n",
       "23277     1\n",
       "23278     1\n",
       "23279     1\n",
       "23280     1\n",
       "23281     1\n",
       "23282     1\n",
       "23283     1\n",
       "Name: repeat, Length: 23284, dtype: int32"
      ]
     },
     "execution_count": 178,
     "metadata": {},
     "output_type": "execute_result"
    }
   ],
   "source": [
    "df_enriched['repeat']"
   ]
  },
  {
   "cell_type": "code",
   "execution_count": 181,
   "metadata": {},
   "outputs": [],
   "source": [
    "df_enriched_repeated = pd.DataFrame(np.repeat(df_enriched.values, df_enriched['repeat'].tolist(), axis=0))"
   ]
  },
  {
   "cell_type": "code",
   "execution_count": 182,
   "metadata": {},
   "outputs": [],
   "source": [
    "df_enriched_repeated.to_json(\n",
    "    f'{data_path}/twitter_posts_post_enriched_repeated_20180901_20180918.json.gz', \n",
    "    orient='records', lines=True, compression='gzip'\n",
    ")"
   ]
  },
  {
   "cell_type": "code",
   "execution_count": 78,
   "metadata": {},
   "outputs": [],
   "source": [
    "df_enriched_unknown_user = pd.merge(\n",
    "    df_posts_to_enrich, df_bulls_bears, left_on=['user_name'], \n",
    "    right_index=True, how='left', sort=False\n",
    ")"
   ]
  },
  {
   "cell_type": "code",
   "execution_count": 95,
   "metadata": {},
   "outputs": [],
   "source": [
    "df_enriched_unknown_user[\n",
    "    df_enriched_unknown_user['id'].isnull()\n",
    "]['user_name'].value_counts().rename_axis('screen_name').reset_index(name='counts').to_json(\n",
    "    f'{data_path}/twitter_unknown_users_20180901_20180918.json', \n",
    "    orient='records', lines=True\n",
    ")"
   ]
  }
 ],
 "metadata": {
  "kernelspec": {
   "display_name": "Python 3",
   "language": "python",
   "name": "python3"
  },
  "language_info": {
   "codemirror_mode": {
    "name": "ipython",
    "version": 3
   },
   "file_extension": ".py",
   "mimetype": "text/x-python",
   "name": "python",
   "nbconvert_exporter": "python",
   "pygments_lexer": "ipython3",
   "version": "3.6.5"
  }
 },
 "nbformat": 4,
 "nbformat_minor": 2
}
