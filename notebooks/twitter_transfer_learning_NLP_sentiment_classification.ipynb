{
 "cells": [
  {
   "cell_type": "markdown",
   "metadata": {},
   "source": [
    "# Transfer Learning for NLP: Sentiment Analysis on Twitter\n",
    "This notebook has used the \"Transfer Learning in NLP\" Feedlys' [notebook](https://github.com/feedly/ml-demos/blob/master/source/TransferLearningNLP.ipynb) described in this [article](https://blog.feedly.com/transfer-learning-in-nlp) as starting point.\n",
    "\n",
    "In this notebook, we show how transfer learning can be applied to detecting the sentiment of twitter posts related to Tesla, between bulls and bears.\n",
    "\n",
    "This notebook uses the work from [Howard and Ruder, Ulmfit](https://arxiv.org/pdf/1801.06146.pdf).\n",
    "The idea of the paper (and it implementation explained in the [fast.ai deep learning course](http://course.fast.ai/lessons/lesson10.html)) is to learn a language model trained on a very large dataset, e.g. a Wikipedia dump. The intuition is that if a model is able to predict the next word at each word, it means it has learnt something about the structure of the language we are using.\n",
    "\n",
    "[Word2vec](https://arxiv.org/pdf/1310.4546.pdf) and the likes have lead to huge improvements on various NLP tasks. This could be seen as a first step to transfer learning, where the pre-trained word vectors correspond to a transfer of the embedding layer.\n",
    "The ambition of [Ulmfit](https://arxiv.org/pdf/1801.06146.pdf) (and others like [ELMO](https://arxiv.org/pdf/1802.05365.pdf) or the [Transformer language model](https://s3-us-west-2.amazonaws.com/openai-assets/research-covers/language-unsupervised/language_understanding_paper.pdf) recently introduced) is to progressively move the NLP field to the state where Computer Vision has risen thanks to the ImageNet challenge. Thanks to the ImageNet chalenge, today it is easy to download a model pre-trained on massive dataset of images, remove the last layer and replace it by a classifier or a regressor depending on the interest. \n",
    "\n",
    "With Ulmfit, the goal is for everyone to be able to use a pre-trained language model and use it a backbone which we can use along with a classifier and a regressor. The game-changing apect of transfer learning is that we are no longer limited by the size of trzining data! With only a fraction of the data size that was necessary before, we can trtain a classifier/regressor and have very good result with few labelled data.\n",
    "\n",
    "Given that labelled text data are difficult to get, in comparison with unlabelled text data which is almost infinite, transfer learning is likely to change radically the field of NLP, and help lead to a maturity state closer to computyer vision.\n",
    "\n",
    "The architecture for the language model used in ULMFit is the [AWD-LSTM language model](https://arxiv.org/pdf/1708.02182.pdf) by Merity.\n",
    "\n",
    "While we are using this language model for this experiment, we keep an eye open to a recently proposed character language model with [Contextual String Embedings](http://alanakbik.github.io/papers/coling2018.pdf) by Akbik."
   ]
  },
  {
   "cell_type": "markdown",
   "metadata": {},
   "source": [
    "# Content of this notebook"
   ]
  },
  {
   "cell_type": "markdown",
   "metadata": {},
   "source": [
    "The data consists of around 150K Twitter posts that are either bullish or bearish. Training a model, with the whole training labelled dataset (150K Twitter posts) and our classifier results in a f1 score of 0.90.\n",
    "\n",
    "Note that if you are interested in Regression instead of classification, you can also do it following this [advice](http://forums.fast.ai/t/regression-using-ulmfit/18063/6)."
   ]
  },
  {
   "cell_type": "markdown",
   "metadata": {},
   "source": [
    "The notebook is organized as such:\n",
    "\n",
    "- Tokenize the reviews and create dictionaries\n",
    "- Download a pre-trained model and link the dictionary to the embedding layer of the model\n",
    "- Fine-tune the language model on the amaxon reviews texts\n",
    "\n",
    "We have then the backbone of our algorithm: a pre-trained language model fine-tuned on Twitter posts\n",
    "\n",
    "- Add a classifier to the language model and train the classifier layer only\n",
    "- Gradually defreeze successive layers to train different layers on the Twitter posts\n",
    "- Run a full classification task for several epochs\n",
    "- Use the model for inference!\n",
    "\n",
    "We end this notebook by looking at the specific effect of training size on the overall performance. This is to test the hypothesis that the ULMFit model does not need much labeled data to perform well."
   ]
  },
  {
   "cell_type": "markdown",
   "metadata": {},
   "source": [
    "# Data"
   ]
  },
  {
   "cell_type": "markdown",
   "metadata": {},
   "source": [
    "Also, we recommend working on a dedicated environment (e.g. mkvirtualenv fastai). Then clone the fastai github repo https://github.com/fastai/fastai and install requirements."
   ]
  },
  {
   "cell_type": "code",
   "execution_count": 1,
   "metadata": {},
   "outputs": [],
   "source": [
    "# root_path = '/home/ubuntu/data'\n",
    "# root_path = '/home/paperspace/data'\n",
    "# root_path = '/Users/Miguel/git/data'\n",
    "# path = './data/stocktwits_posts'\n",
    "path = './data/twitter'\n",
    "data_file_nonextension_name = 'twitter_posts_preprocessed_20180420_20180913'\n",
    "data_file = f'{path}/{data_file_nonextension_name}.json.gz'"
   ]
  },
  {
   "cell_type": "code",
   "execution_count": 2,
   "metadata": {},
   "outputs": [],
   "source": [
    "# ! pip install fastai==0.7\n",
    "# ! pip install --force-reinstall Pillow==5.0.0\n",
    "# ! pip install opencv-python\n",
    "# ! apt update && apt install -y libsm6 libxext6"
   ]
  },
  {
   "cell_type": "code",
   "execution_count": 3,
   "metadata": {},
   "outputs": [],
   "source": [
    "# ! conda install -y spacy"
   ]
  },
  {
   "cell_type": "code",
   "execution_count": 4,
   "metadata": {},
   "outputs": [],
   "source": [
    "# ! python -m spacy download en"
   ]
  },
  {
   "cell_type": "code",
   "execution_count": 5,
   "metadata": {},
   "outputs": [],
   "source": [
    "#! ln -s \"$root_path\" ./data"
   ]
  },
  {
   "cell_type": "code",
   "execution_count": 6,
   "metadata": {},
   "outputs": [],
   "source": [
    "#! mkdir \"$path\""
   ]
  },
  {
   "cell_type": "code",
   "execution_count": 7,
   "metadata": {
    "scrolled": true
   },
   "outputs": [],
   "source": [
    "from fastai.text import *\n",
    "from fastai.lm_rnn import *\n",
    "import html\n",
    "import os\n",
    "import pandas as pd\n",
    "import pickle\n",
    "import re\n",
    "from sklearn.metrics import accuracy_score, f1_score, precision_score, recall_score, classification_report, \\\n",
    "confusion_matrix\n",
    "from sklearn.model_selection import train_test_split\n",
    "from time import time"
   ]
  },
  {
   "cell_type": "markdown",
   "metadata": {},
   "source": [
    "# PREPARE DATASETS"
   ]
  },
  {
   "cell_type": "code",
   "execution_count": 8,
   "metadata": {},
   "outputs": [],
   "source": [
    "df_clean_twitter_posts = pd.read_json(\n",
    "    data_file, \n",
    "    orient='records', \n",
    "    lines=True, compression='gzip'\n",
    ")"
   ]
  },
  {
   "cell_type": "code",
   "execution_count": 9,
   "metadata": {},
   "outputs": [
    {
     "data": {
      "text/html": [
       "<div>\n",
       "<style scoped>\n",
       "    .dataframe tbody tr th:only-of-type {\n",
       "        vertical-align: middle;\n",
       "    }\n",
       "\n",
       "    .dataframe tbody tr th {\n",
       "        vertical-align: top;\n",
       "    }\n",
       "\n",
       "    .dataframe thead th {\n",
       "        text-align: right;\n",
       "    }\n",
       "</style>\n",
       "<table border=\"1\" class=\"dataframe\">\n",
       "  <thead>\n",
       "    <tr style=\"text-align: right;\">\n",
       "      <th></th>\n",
       "      <th>clean_body</th>\n",
       "      <th>sentiment</th>\n",
       "      <th>vader_sentiment</th>\n",
       "    </tr>\n",
       "  </thead>\n",
       "  <tbody>\n",
       "    <tr>\n",
       "      <th>0</th>\n",
       "      <td>RT : Yes should fix our oil addiction single h...</td>\n",
       "      <td>Bullish</td>\n",
       "      <td>0.4019</td>\n",
       "    </tr>\n",
       "    <tr>\n",
       "      <th>1</th>\n",
       "      <td>Next FUD from the TSLAQ camp. “TSLA could be d...</td>\n",
       "      <td>Bullish</td>\n",
       "      <td>-0.7925</td>\n",
       "    </tr>\n",
       "    <tr>\n",
       "      <th>2</th>\n",
       "      <td>RT : Performance 3 review: ‘The Eu marques per...</td>\n",
       "      <td>Bullish</td>\n",
       "      <td>0.0000</td>\n",
       "    </tr>\n",
       "    <tr>\n",
       "      <th>3</th>\n",
       "      <td>RT : This guy is like that creepy stalker chic...</td>\n",
       "      <td>Bullish</td>\n",
       "      <td>0.2023</td>\n",
       "    </tr>\n",
       "    <tr>\n",
       "      <th>4</th>\n",
       "      <td>RT : Yea, that \"not enough demand\" story is fr...</td>\n",
       "      <td>Bullish</td>\n",
       "      <td>0.3502</td>\n",
       "    </tr>\n",
       "  </tbody>\n",
       "</table>\n",
       "</div>"
      ],
      "text/plain": [
       "                                          clean_body sentiment  \\\n",
       "0  RT : Yes should fix our oil addiction single h...   Bullish   \n",
       "1  Next FUD from the TSLAQ camp. “TSLA could be d...   Bullish   \n",
       "2  RT : Performance 3 review: ‘The Eu marques per...   Bullish   \n",
       "3  RT : This guy is like that creepy stalker chic...   Bullish   \n",
       "4  RT : Yea, that \"not enough demand\" story is fr...   Bullish   \n",
       "\n",
       "   vader_sentiment  \n",
       "0           0.4019  \n",
       "1          -0.7925  \n",
       "2           0.0000  \n",
       "3           0.2023  \n",
       "4           0.3502  "
      ]
     },
     "execution_count": 9,
     "metadata": {},
     "output_type": "execute_result"
    }
   ],
   "source": [
    "df_clean_twitter_posts[['clean_body', 'sentiment', 'vader_sentiment']].head()"
   ]
  },
  {
   "cell_type": "code",
   "execution_count": 10,
   "metadata": {},
   "outputs": [],
   "source": [
    "label_cases = {\n",
    "    'Bullish': 1,\n",
    "    'Bearish': 0,\n",
    "}\n",
    "\n",
    "def calculate_numeric_label(text_label):\n",
    "    return label_cases[text_label]"
   ]
  },
  {
   "cell_type": "code",
   "execution_count": 11,
   "metadata": {},
   "outputs": [],
   "source": [
    "df_clean_twitter_posts['labels'] = df_clean_twitter_posts['sentiment'].apply(lambda text_label: calculate_numeric_label(text_label))"
   ]
  },
  {
   "cell_type": "code",
   "execution_count": 12,
   "metadata": {},
   "outputs": [],
   "source": [
    "df_clean_twitter_posts = df_clean_twitter_posts.rename({'clean_body': 'text'}, axis='columns')"
   ]
  },
  {
   "cell_type": "code",
   "execution_count": 13,
   "metadata": {},
   "outputs": [
    {
     "data": {
      "text/html": [
       "<div>\n",
       "<style scoped>\n",
       "    .dataframe tbody tr th:only-of-type {\n",
       "        vertical-align: middle;\n",
       "    }\n",
       "\n",
       "    .dataframe tbody tr th {\n",
       "        vertical-align: top;\n",
       "    }\n",
       "\n",
       "    .dataframe thead th {\n",
       "        text-align: right;\n",
       "    }\n",
       "</style>\n",
       "<table border=\"1\" class=\"dataframe\">\n",
       "  <thead>\n",
       "    <tr style=\"text-align: right;\">\n",
       "      <th></th>\n",
       "      <th>text</th>\n",
       "      <th>sentiment</th>\n",
       "      <th>labels</th>\n",
       "      <th>vader_sentiment</th>\n",
       "    </tr>\n",
       "  </thead>\n",
       "  <tbody>\n",
       "    <tr>\n",
       "      <th>0</th>\n",
       "      <td>RT : Yes should fix our oil addiction single h...</td>\n",
       "      <td>Bullish</td>\n",
       "      <td>1</td>\n",
       "      <td>0.4019</td>\n",
       "    </tr>\n",
       "    <tr>\n",
       "      <th>1</th>\n",
       "      <td>Next FUD from the TSLAQ camp. “TSLA could be d...</td>\n",
       "      <td>Bullish</td>\n",
       "      <td>1</td>\n",
       "      <td>-0.7925</td>\n",
       "    </tr>\n",
       "    <tr>\n",
       "      <th>2</th>\n",
       "      <td>RT : Performance 3 review: ‘The Eu marques per...</td>\n",
       "      <td>Bullish</td>\n",
       "      <td>1</td>\n",
       "      <td>0.0000</td>\n",
       "    </tr>\n",
       "    <tr>\n",
       "      <th>3</th>\n",
       "      <td>RT : This guy is like that creepy stalker chic...</td>\n",
       "      <td>Bullish</td>\n",
       "      <td>1</td>\n",
       "      <td>0.2023</td>\n",
       "    </tr>\n",
       "    <tr>\n",
       "      <th>4</th>\n",
       "      <td>RT : Yea, that \"not enough demand\" story is fr...</td>\n",
       "      <td>Bullish</td>\n",
       "      <td>1</td>\n",
       "      <td>0.3502</td>\n",
       "    </tr>\n",
       "  </tbody>\n",
       "</table>\n",
       "</div>"
      ],
      "text/plain": [
       "                                                text sentiment  labels  \\\n",
       "0  RT : Yes should fix our oil addiction single h...   Bullish       1   \n",
       "1  Next FUD from the TSLAQ camp. “TSLA could be d...   Bullish       1   \n",
       "2  RT : Performance 3 review: ‘The Eu marques per...   Bullish       1   \n",
       "3  RT : This guy is like that creepy stalker chic...   Bullish       1   \n",
       "4  RT : Yea, that \"not enough demand\" story is fr...   Bullish       1   \n",
       "\n",
       "   vader_sentiment  \n",
       "0           0.4019  \n",
       "1          -0.7925  \n",
       "2           0.0000  \n",
       "3           0.2023  \n",
       "4           0.3502  "
      ]
     },
     "execution_count": 13,
     "metadata": {},
     "output_type": "execute_result"
    }
   ],
   "source": [
    "df_clean_twitter_posts[['text', 'sentiment', 'labels', 'vader_sentiment']].head()"
   ]
  },
  {
   "cell_type": "code",
   "execution_count": 14,
   "metadata": {},
   "outputs": [
    {
     "name": "stdout",
     "output_type": "stream",
     "text": [
      "Int64Index([     0,      1,      2,      3,      4,      5,      6,      7,\n",
      "                 8,      9,\n",
      "            ...\n",
      "            158995, 158996, 158997, 158998, 158999, 159000, 159001, 159002,\n",
      "            159003, 159004],\n",
      "           dtype='int64', length=159005)\n"
     ]
    }
   ],
   "source": [
    "print(df_clean_twitter_posts.index)"
   ]
  },
  {
   "cell_type": "code",
   "execution_count": 15,
   "metadata": {},
   "outputs": [],
   "source": [
    "df_twitter_posts = df_clean_twitter_posts.query('labels!=2').reset_index(drop=True)"
   ]
  },
  {
   "cell_type": "code",
   "execution_count": 16,
   "metadata": {},
   "outputs": [
    {
     "name": "stdout",
     "output_type": "stream",
     "text": [
      "RangeIndex(start=0, stop=159005, step=1)\n"
     ]
    }
   ],
   "source": [
    "print(df_twitter_posts.index)"
   ]
  },
  {
   "cell_type": "markdown",
   "metadata": {},
   "source": [
    "# TRAIN/TEST"
   ]
  },
  {
   "cell_type": "code",
   "execution_count": 17,
   "metadata": {},
   "outputs": [],
   "source": [
    "def train_validate_test_split(df, train_percent=.75, validate_percent=0, seed=None):\n",
    "    np.random.seed(seed)\n",
    "    perm = np.random.permutation(df.index)\n",
    "    m = len(df.index)\n",
    "    train_end = int(train_percent * m)\n",
    "    validate_end = int(validate_percent * m) + train_end\n",
    "    train = df.iloc[perm[:train_end]]\n",
    "    validate = df.iloc[perm[train_end:validate_end]]\n",
    "    test = df.iloc[perm[validate_end:]]\n",
    "    return train, validate, test"
   ]
  },
  {
   "cell_type": "code",
   "execution_count": 18,
   "metadata": {},
   "outputs": [],
   "source": [
    "train, _, test = train_validate_test_split(df_twitter_posts)"
   ]
  },
  {
   "cell_type": "code",
   "execution_count": 19,
   "metadata": {},
   "outputs": [
    {
     "name": "stdout",
     "output_type": "stream",
     "text": [
      "The train data contains 119253 examples\n",
      "The test data contains 39752 examples\n"
     ]
    }
   ],
   "source": [
    "print(f'The train data contains {len(train)} examples')\n",
    "print(f'The test data contains {len(test)} examples')"
   ]
  },
  {
   "cell_type": "code",
   "execution_count": 94,
   "metadata": {},
   "outputs": [],
   "source": [
    "BOS = 'xbos'  # beginning-of-sentence tag\n",
    "FLD = 'xfld'  # data field tag\n",
    "\n",
    "PATH=Path(path)\n",
    "\n",
    "CLAS_PATH=PATH/'twitter_posts_class'\n",
    "CLAS_PATH.mkdir(exist_ok=True)\n",
    "\n",
    "LM_PATH=PATH/'twitter_posts_lm'\n",
    "LM_PATH.mkdir(exist_ok=True)"
   ]
  },
  {
   "cell_type": "code",
   "execution_count": 21,
   "metadata": {},
   "outputs": [],
   "source": [
    "df_trn = train[['labels','text']]\n",
    "df_val = test[['labels','text']]"
   ]
  },
  {
   "cell_type": "code",
   "execution_count": 22,
   "metadata": {},
   "outputs": [
    {
     "data": {
      "text/html": [
       "<div>\n",
       "<style scoped>\n",
       "    .dataframe tbody tr th:only-of-type {\n",
       "        vertical-align: middle;\n",
       "    }\n",
       "\n",
       "    .dataframe tbody tr th {\n",
       "        vertical-align: top;\n",
       "    }\n",
       "\n",
       "    .dataframe thead th {\n",
       "        text-align: right;\n",
       "    }\n",
       "</style>\n",
       "<table border=\"1\" class=\"dataframe\">\n",
       "  <thead>\n",
       "    <tr style=\"text-align: right;\">\n",
       "      <th></th>\n",
       "      <th>labels</th>\n",
       "      <th>text</th>\n",
       "    </tr>\n",
       "  </thead>\n",
       "  <tbody>\n",
       "    <tr>\n",
       "      <th>146107</th>\n",
       "      <td>1</td>\n",
       "      <td></td>\n",
       "    </tr>\n",
       "    <tr>\n",
       "      <th>152281</th>\n",
       "      <td>1</td>\n",
       "      <td>RT : Hey , pls cancel my Model 3 service appt ...</td>\n",
       "    </tr>\n",
       "    <tr>\n",
       "      <th>29180</th>\n",
       "      <td>1</td>\n",
       "      <td>I guess that works also...I was just keeping i...</td>\n",
       "    </tr>\n",
       "    <tr>\n",
       "      <th>42809</th>\n",
       "      <td>0</td>\n",
       "      <td>RT : The US has begun military exercises in Sy...</td>\n",
       "    </tr>\n",
       "    <tr>\n",
       "      <th>33991</th>\n",
       "      <td>0</td>\n",
       "      <td>China will stave off the reckoning until it co...</td>\n",
       "    </tr>\n",
       "    <tr>\n",
       "      <th>17611</th>\n",
       "      <td>1</td>\n",
       "      <td>RT : Musk just made a pretty big production fo...</td>\n",
       "    </tr>\n",
       "    <tr>\n",
       "      <th>45957</th>\n",
       "      <td>0</td>\n",
       "      <td>Trump To Declassify Bruce Ohr, Carter Page Doc...</td>\n",
       "    </tr>\n",
       "    <tr>\n",
       "      <th>140387</th>\n",
       "      <td>1</td>\n",
       "      <td>RT : Watch a Tesla Model X all-electric SUV to...</td>\n",
       "    </tr>\n",
       "    <tr>\n",
       "      <th>41827</th>\n",
       "      <td>0</td>\n",
       "      <td>\"This Is A Coup, Okay\": Bannon Weighs In On An...</td>\n",
       "    </tr>\n",
       "    <tr>\n",
       "      <th>87016</th>\n",
       "      <td>1</td>\n",
       "      <td>#BoringCompany Machine ‘Test-Driven’ With Xbox...</td>\n",
       "    </tr>\n",
       "  </tbody>\n",
       "</table>\n",
       "</div>"
      ],
      "text/plain": [
       "        labels                                               text\n",
       "146107       1                                                   \n",
       "152281       1  RT : Hey , pls cancel my Model 3 service appt ...\n",
       "29180        1  I guess that works also...I was just keeping i...\n",
       "42809        0  RT : The US has begun military exercises in Sy...\n",
       "33991        0  China will stave off the reckoning until it co...\n",
       "17611        1  RT : Musk just made a pretty big production fo...\n",
       "45957        0  Trump To Declassify Bruce Ohr, Carter Page Doc...\n",
       "140387       1  RT : Watch a Tesla Model X all-electric SUV to...\n",
       "41827        0  \"This Is A Coup, Okay\": Bannon Weighs In On An...\n",
       "87016        1  #BoringCompany Machine ‘Test-Driven’ With Xbox..."
      ]
     },
     "execution_count": 22,
     "metadata": {},
     "output_type": "execute_result"
    }
   ],
   "source": [
    "df_trn.head(10)"
   ]
  },
  {
   "cell_type": "code",
   "execution_count": 23,
   "metadata": {},
   "outputs": [],
   "source": [
    "# df_trn.to_csv(CLAS_PATH/'train.csv', header=False, index=False)\n",
    "# df_val.to_csv(CLAS_PATH/'test.csv', header=False, index=False)\n",
    "\n",
    "df_trn.to_json(\n",
    "    f'{CLAS_PATH}/{data_file_nonextension_name}_train.json.gz', \n",
    "    orient='records', \n",
    "    lines=True, compression='gzip'\n",
    ")\n",
    "\n",
    "df_val.to_json(\n",
    "    f'{CLAS_PATH}/{data_file_nonextension_name}_test.json.gz', \n",
    "    orient='records', \n",
    "    lines=True, compression='gzip'\n",
    ")\n"
   ]
  },
  {
   "cell_type": "code",
   "execution_count": 24,
   "metadata": {},
   "outputs": [],
   "source": [
    "CLASSES = ['Bearish', 'Bullish']\n",
    "(CLAS_PATH/'classes.txt').open('w').writelines(f'{o}\\n' for o in CLASSES)"
   ]
  },
  {
   "cell_type": "markdown",
   "metadata": {},
   "source": [
    "# Language Model"
   ]
  },
  {
   "cell_type": "code",
   "execution_count": 25,
   "metadata": {},
   "outputs": [
    {
     "name": "stderr",
     "output_type": "stream",
     "text": [
      "/home/paperspace/anaconda3/envs/fastai/lib/python3.6/site-packages/ipykernel_launcher.py:1: SettingWithCopyWarning: \n",
      "A value is trying to be set on a copy of a slice from a DataFrame.\n",
      "Try using .loc[row_indexer,col_indexer] = value instead\n",
      "\n",
      "See the caveats in the documentation: http://pandas.pydata.org/pandas-docs/stable/indexing.html#indexing-view-versus-copy\n",
      "  \"\"\"Entry point for launching an IPython kernel.\n",
      "/home/paperspace/anaconda3/envs/fastai/lib/python3.6/site-packages/ipykernel_launcher.py:2: SettingWithCopyWarning: \n",
      "A value is trying to be set on a copy of a slice from a DataFrame.\n",
      "Try using .loc[row_indexer,col_indexer] = value instead\n",
      "\n",
      "See the caveats in the documentation: http://pandas.pydata.org/pandas-docs/stable/indexing.html#indexing-view-versus-copy\n",
      "  \n"
     ]
    }
   ],
   "source": [
    "df_trn['labels'] = 0\n",
    "df_val['labels'] = 0"
   ]
  },
  {
   "cell_type": "code",
   "execution_count": 26,
   "metadata": {},
   "outputs": [],
   "source": [
    "# We're going to fine tune the language model so it's ok to take some of the test set in our train data\n",
    "# for the lm fine-tuning\n",
    "# df_trn.to_csv(LM_PATH/'train.csv', header=False, index=False)\n",
    "# df_val.to_csv(LM_PATH/'test.csv', header=False, index=False)\n",
    "\n",
    "df_trn.to_json(\n",
    "    f'{LM_PATH}/{data_file_nonextension_name}_train.json.gz', \n",
    "    orient='records', \n",
    "    lines=True, compression='gzip'\n",
    ")\n",
    "\n",
    "df_val.to_json(\n",
    "    f'{LM_PATH}/{data_file_nonextension_name}_test.json.gz', \n",
    "    orient='records', \n",
    "    lines=True, compression='gzip'\n",
    ")"
   ]
  },
  {
   "cell_type": "code",
   "execution_count": 27,
   "metadata": {},
   "outputs": [
    {
     "name": "stdout",
     "output_type": "stream",
     "text": [
      "0:labels\n",
      "1:text\n"
     ]
    }
   ],
   "source": [
    "df_trn = pd.read_json(\n",
    "    f'{LM_PATH}/{data_file_nonextension_name}_train.json.gz', \n",
    "    orient='records', \n",
    "    lines=True, compression='gzip'\n",
    ")# [['text', 'labels']]\n",
    "\n",
    "df_val = pd.read_json(\n",
    "    f'{LM_PATH}/{data_file_nonextension_name}_test.json.gz', \n",
    "    orient='records', \n",
    "    lines=True, compression='gzip'\n",
    ")\n",
    "\n",
    "for i, r in enumerate(df_val):\n",
    "    print(f'{i}:{r}')\n"
   ]
  },
  {
   "cell_type": "code",
   "execution_count": 28,
   "metadata": {},
   "outputs": [],
   "source": [
    "chunksize=6000"
   ]
  },
  {
   "cell_type": "code",
   "execution_count": 29,
   "metadata": {},
   "outputs": [],
   "source": [
    "# Here we use functions from the fast.ai course to get data\n",
    "re1 = re.compile(r'  +')\n",
    "\n",
    "def fixup(x):\n",
    "    x = x.replace('#39;', \"'\").replace('amp;', '&').replace('#146;', \"'\").replace(\n",
    "        'nbsp;', ' ').replace('#36;', '$').replace('\\\\n', \"\\n\").replace('quot;', \"'\").replace(\n",
    "        '<br />', \"\\n\").replace('\\\\\"', '\"').replace('<unk>','u_n').replace(' @.@ ','.').replace(\n",
    "        ' @-@ ','-').replace('\\\\', ' \\\\ ')\n",
    "    return re1.sub(' ', html.unescape(x))\n",
    "\n",
    "def get_texts(df, n_lbls=1):\n",
    "    labels = df.iloc[:,range(n_lbls)].values.astype(np.int64)\n",
    "    # print(df[n_lbls])\n",
    "    texts = f'\\n{BOS} {FLD} 1 ' + df[n_lbls].astype(str)\n",
    "    for i in range(n_lbls+1, len(df.columns)): \n",
    "        texts += f' {FLD} {i-n_lbls} ' + df[i].astype(str)\n",
    "    texts = list(texts.apply(fixup).values)\n",
    "\n",
    "    tok = Tokenizer().proc_all_mp(partition_by_cores(texts))\n",
    "    return tok, list(labels)\n",
    "\n",
    "def get_all(df, n_lbls):\n",
    "    tok, labels = [], []\n",
    "    for i, r in enumerate(df):\n",
    "        print(i)\n",
    "        df = r.rename(columns={x:y for x,y in zip(r.columns,range(0,len(r.columns)))})\n",
    "        # print(r)\n",
    "        tok_, labels_ = get_texts(df, n_lbls)\n",
    "        tok += tok_;\n",
    "        labels += labels_\n",
    "    return tok, labels\n",
    "\n",
    "# df_trn = pd.read_csv(LM_PATH/'train.csv', header=None, chunksize=chunksize)\n",
    "# df_val = pd.read_csv(LM_PATH/'test.csv', header=None, chunksize=chunksize)\n",
    "\n",
    "df_trn = pd.read_json(\n",
    "    f'{LM_PATH}/{data_file_nonextension_name}_train.json.gz', \n",
    "    orient='records', \n",
    "    lines=True, compression='gzip', chunksize=chunksize\n",
    ")# [['text', 'labels']]\n",
    "\n",
    "df_val = pd.read_json(\n",
    "    f'{LM_PATH}/{data_file_nonextension_name}_test.json.gz', \n",
    "    orient='records', \n",
    "    lines=True, compression='gzip', chunksize=chunksize\n",
    ")# [['text', 'labels']]\n",
    "\n"
   ]
  },
  {
   "cell_type": "code",
   "execution_count": 30,
   "metadata": {},
   "outputs": [
    {
     "name": "stdout",
     "output_type": "stream",
     "text": [
      "<class 'pandas.io.json.json.JsonReader'>\n"
     ]
    }
   ],
   "source": [
    "print(type(df_val))"
   ]
  },
  {
   "cell_type": "code",
   "execution_count": 31,
   "metadata": {},
   "outputs": [
    {
     "name": "stdout",
     "output_type": "stream",
     "text": [
      "0\n",
      "1\n",
      "2\n",
      "3\n",
      "4\n",
      "5\n",
      "6\n",
      "7\n",
      "8\n",
      "9\n",
      "10\n",
      "11\n",
      "12\n",
      "13\n",
      "14\n",
      "15\n",
      "16\n",
      "17\n",
      "18\n",
      "19\n",
      "0\n",
      "1\n",
      "2\n",
      "3\n",
      "4\n",
      "5\n",
      "6\n"
     ]
    }
   ],
   "source": [
    "# This cell can take quite some time if your dataset is large\n",
    "# Run it once and comment it for later use\n",
    "tok_trn, trn_labels = get_all(df_trn, 1)\n",
    "tok_val, val_labels = get_all(df_val, 1)"
   ]
  },
  {
   "cell_type": "code",
   "execution_count": 32,
   "metadata": {},
   "outputs": [],
   "source": [
    "# Run this cell once and comment everything but the load statements for later use\n",
    "(LM_PATH/'tmp').mkdir(exist_ok=True)\n",
    "np.save(LM_PATH/'tmp'/'tok_trn.npy', tok_trn)\n",
    "np.save(LM_PATH/'tmp'/'tok_val.npy', tok_val)"
   ]
  },
  {
   "cell_type": "code",
   "execution_count": 33,
   "metadata": {},
   "outputs": [],
   "source": [
    "tok_trn = np.load(LM_PATH/'tmp'/'tok_trn.npy')\n",
    "tok_val = np.load(LM_PATH/'tmp'/'tok_val.npy')"
   ]
  },
  {
   "cell_type": "code",
   "execution_count": 34,
   "metadata": {},
   "outputs": [
    {
     "data": {
      "text/plain": [
       "[('1', 122456),\n",
       " ('\\n', 119253),\n",
       " ('xbos', 119253),\n",
       " ('xfld', 119253),\n",
       " (':', 62575),\n",
       " ('the', 53157),\n",
       " ('.', 52153),\n",
       " ('t_up', 48519),\n",
       " ('rt', 47780),\n",
       " ('…', 42205),\n",
       " (',', 42023),\n",
       " ('to', 36313),\n",
       " ('a', 30955),\n",
       " ('in', 28997),\n",
       " ('of', 25777),\n",
       " ('tesla', 24318),\n",
       " ('is', 22878),\n",
       " ('and', 21085),\n",
       " ('#', 20470),\n",
       " ('-', 18611),\n",
       " ('$', 18501),\n",
       " ('\"', 16833),\n",
       " ('for', 16523),\n",
       " ('i', 15426),\n",
       " ('it', 13552)]"
      ]
     },
     "execution_count": 34,
     "metadata": {},
     "output_type": "execute_result"
    }
   ],
   "source": [
    "# Check the most common tokens\n",
    "freq = Counter(p for o in tok_trn for p in o)\n",
    "freq.most_common(25)"
   ]
  },
  {
   "cell_type": "code",
   "execution_count": 35,
   "metadata": {},
   "outputs": [
    {
     "data": {
      "text/plain": [
       "[('supernova', 1),\n",
       " ('psych', 1),\n",
       " ('cant', 1),\n",
       " ('forever', 1),\n",
       " ('immortal', 1),\n",
       " ('nephilim', 1),\n",
       " ('camping', 1),\n",
       " ('189wh', 1),\n",
       " ('k.', 1),\n",
       " ('gear', 1),\n",
       " ('fitsinatesla', 1),\n",
       " ('obtain', 1),\n",
       " ('fwiw', 1),\n",
       " ('zoom', 1),\n",
       " ('setup', 1),\n",
       " ('sho', 1),\n",
       " ('jeremy', 1),\n",
       " ('father', 1),\n",
       " ('tentufacturing', 1),\n",
       " ('smartest', 1),\n",
       " ('quits', 1),\n",
       " ('aws', 1),\n",
       " ('2170', 1),\n",
       " ('module', 1),\n",
       " ('manufactur', 1)]"
      ]
     },
     "execution_count": 35,
     "metadata": {},
     "output_type": "execute_result"
    }
   ],
   "source": [
    "# Check the least common tokens\n",
    "freq.most_common()[-25:]"
   ]
  },
  {
   "cell_type": "code",
   "execution_count": 36,
   "metadata": {},
   "outputs": [],
   "source": [
    "# Build your vocabulary by keeping only the most common tokens that appears frequently enough\n",
    "# and constrain the size of your vocabulary. We follow here the 60k recommendation.\n",
    "max_vocab = 60000\n",
    "min_freq = 2"
   ]
  },
  {
   "cell_type": "code",
   "execution_count": 37,
   "metadata": {},
   "outputs": [],
   "source": [
    "itos = [o for o,c in freq.most_common(max_vocab) if c>min_freq]\n",
    "itos.insert(0, '_pad_')\n",
    "itos.insert(0, '_unk_')\n",
    "\n",
    "stoi = collections.defaultdict(lambda:0, {v:k for k,v in enumerate(itos)})\n",
    "len(itos)\n",
    "\n",
    "trn_lm = np.array([[stoi[o] for o in p] for p in tok_trn])\n",
    "val_lm = np.array([[stoi[o] for o in p] for p in tok_val])\n",
    "\n",
    "np.save(LM_PATH/'tmp'/'trn_ids.npy', trn_lm)\n",
    "np.save(LM_PATH/'tmp'/'val_ids.npy', val_lm)\n",
    "pickle.dump(itos, open(LM_PATH/'tmp'/'itos.pkl', 'wb'))"
   ]
  },
  {
   "cell_type": "code",
   "execution_count": 38,
   "metadata": {},
   "outputs": [],
   "source": [
    "# Save everything\n",
    "trn_lm = np.load(LM_PATH/'tmp'/'trn_ids.npy')\n",
    "val_lm = np.load(LM_PATH/'tmp'/'val_ids.npy')\n",
    "itos = pickle.load(open(LM_PATH/'tmp'/'itos.pkl', 'rb'))"
   ]
  },
  {
   "cell_type": "code",
   "execution_count": 39,
   "metadata": {},
   "outputs": [
    {
     "data": {
      "text/plain": [
       "(6305, 119253)"
      ]
     },
     "execution_count": 39,
     "metadata": {},
     "output_type": "execute_result"
    }
   ],
   "source": [
    "vs=len(itos)\n",
    "vs,len(trn_lm)"
   ]
  },
  {
   "cell_type": "markdown",
   "metadata": {},
   "source": [
    "# Using pre trained Language Model"
   ]
  },
  {
   "cell_type": "code",
   "execution_count": 40,
   "metadata": {},
   "outputs": [
    {
     "name": "stdout",
     "output_type": "stream",
     "text": [
      "--2018-09-13 08:29:51--  http://files.fast.ai/models/wt103/\n",
      "Resolving files.fast.ai (files.fast.ai)... 67.205.15.147\n",
      "Connecting to files.fast.ai (files.fast.ai)|67.205.15.147|:80... connected.\n",
      "HTTP request sent, awaiting response... 200 OK\n",
      "Length: 857 [text/html]\n",
      "Saving to: ‘./data/twitter/models/wt103/index.html’\n",
      "\n",
      "models/wt103/index. 100%[===================>]     857  --.-KB/s    in 0s      \n",
      "\n",
      "2018-09-13 08:29:52 (37.3 MB/s) - ‘./data/twitter/models/wt103/index.html’ saved [857/857]\n",
      "\n",
      "Loading robots.txt; please ignore errors.\n",
      "--2018-09-13 08:29:52--  http://files.fast.ai/robots.txt\n",
      "Reusing existing connection to files.fast.ai:80.\n",
      "HTTP request sent, awaiting response... 404 Not Found\n",
      "2018-09-13 08:29:52 ERROR 404: Not Found.\n",
      "\n",
      "--2018-09-13 08:29:52--  http://files.fast.ai/models/wt103/?C=N;O=D\n",
      "Reusing existing connection to files.fast.ai:80.\n",
      "HTTP request sent, awaiting response... 200 OK\n",
      "Length: 857 [text/html]\n",
      "Saving to: ‘./data/twitter/models/wt103/index.html?C=N;O=D’\n",
      "\n",
      "models/wt103/index. 100%[===================>]     857  --.-KB/s    in 0s      \n",
      "\n",
      "2018-09-13 08:29:52 (89.3 MB/s) - ‘./data/twitter/models/wt103/index.html?C=N;O=D’ saved [857/857]\n",
      "\n",
      "--2018-09-13 08:29:52--  http://files.fast.ai/models/wt103/?C=M;O=A\n",
      "Reusing existing connection to files.fast.ai:80.\n",
      "HTTP request sent, awaiting response... 200 OK\n",
      "Length: 857 [text/html]\n",
      "Saving to: ‘./data/twitter/models/wt103/index.html?C=M;O=A’\n",
      "\n",
      "models/wt103/index. 100%[===================>]     857  --.-KB/s    in 0s      \n",
      "\n",
      "2018-09-13 08:29:52 (110 MB/s) - ‘./data/twitter/models/wt103/index.html?C=M;O=A’ saved [857/857]\n",
      "\n",
      "--2018-09-13 08:29:52--  http://files.fast.ai/models/wt103/?C=S;O=A\n",
      "Reusing existing connection to files.fast.ai:80.\n",
      "HTTP request sent, awaiting response... 200 OK\n",
      "Length: 857 [text/html]\n",
      "Saving to: ‘./data/twitter/models/wt103/index.html?C=S;O=A’\n",
      "\n",
      "models/wt103/index. 100%[===================>]     857  --.-KB/s    in 0s      \n",
      "\n",
      "2018-09-13 08:29:52 (173 MB/s) - ‘./data/twitter/models/wt103/index.html?C=S;O=A’ saved [857/857]\n",
      "\n",
      "--2018-09-13 08:29:52--  http://files.fast.ai/models/wt103/?C=D;O=A\n",
      "Reusing existing connection to files.fast.ai:80.\n",
      "HTTP request sent, awaiting response... 200 OK\n",
      "Length: 857 [text/html]\n",
      "Saving to: ‘./data/twitter/models/wt103/index.html?C=D;O=A’\n",
      "\n",
      "models/wt103/index. 100%[===================>]     857  --.-KB/s    in 0s      \n",
      "\n",
      "2018-09-13 08:29:52 (78.9 MB/s) - ‘./data/twitter/models/wt103/index.html?C=D;O=A’ saved [857/857]\n",
      "\n",
      "--2018-09-13 08:29:52--  http://files.fast.ai/models/wt103/bwd_wt103.h5\n",
      "Reusing existing connection to files.fast.ai:80.\n",
      "HTTP request sent, awaiting response... 200 OK\n",
      "Length: 462387687 (441M) [text/plain]\n",
      "Saving to: ‘./data/twitter/models/wt103/bwd_wt103.h5’\n",
      "\n",
      "models/wt103/bwd_wt 100%[===================>] 440.97M  13.5MB/s    in 58s     \n",
      "\n",
      "2018-09-13 08:30:50 (7.66 MB/s) - ‘./data/twitter/models/wt103/bwd_wt103.h5’ saved [462387687/462387687]\n",
      "\n",
      "--2018-09-13 08:30:50--  http://files.fast.ai/models/wt103/bwd_wt103_enc.h5\n",
      "Reusing existing connection to files.fast.ai:80.\n",
      "HTTP request sent, awaiting response... 200 OK\n",
      "Length: 462387634 (441M) [text/plain]\n",
      "Saving to: ‘./data/twitter/models/wt103/bwd_wt103_enc.h5’\n",
      "\n",
      "models/wt103/bwd_wt 100%[===================>] 440.97M  12.8MB/s    in 37s     \n",
      "\n",
      "2018-09-13 08:31:26 (12.0 MB/s) - ‘./data/twitter/models/wt103/bwd_wt103_enc.h5’ saved [462387634/462387634]\n",
      "\n",
      "--2018-09-13 08:31:26--  http://files.fast.ai/models/wt103/fwd_wt103.h5\n",
      "Reusing existing connection to files.fast.ai:80.\n",
      "HTTP request sent, awaiting response... 200 OK\n",
      "Length: 462387687 (441M) [text/plain]\n",
      "Saving to: ‘./data/twitter/models/wt103/fwd_wt103.h5’\n",
      "\n",
      "models/wt103/fwd_wt 100%[===================>] 440.97M  11.7MB/s    in 34s     \n",
      "\n",
      "2018-09-13 08:32:00 (13.1 MB/s) - ‘./data/twitter/models/wt103/fwd_wt103.h5’ saved [462387687/462387687]\n",
      "\n",
      "--2018-09-13 08:32:00--  http://files.fast.ai/models/wt103/fwd_wt103_enc.h5\n",
      "Reusing existing connection to files.fast.ai:80.\n",
      "HTTP request sent, awaiting response... 200 OK\n",
      "Length: 462387634 (441M) [text/plain]\n",
      "Saving to: ‘./data/twitter/models/wt103/fwd_wt103_enc.h5’\n",
      "\n",
      "models/wt103/fwd_wt 100%[===================>] 440.97M  8.30MB/s    in 37s     \n",
      "\n",
      "2018-09-13 08:32:37 (11.9 MB/s) - ‘./data/twitter/models/wt103/fwd_wt103_enc.h5’ saved [462387634/462387634]\n",
      "\n",
      "--2018-09-13 08:32:37--  http://files.fast.ai/models/wt103/itos_wt103.pkl\n",
      "Reusing existing connection to files.fast.ai:80.\n",
      "HTTP request sent, awaiting response... 200 OK\n",
      "Length: 4161252 (4.0M) [text/plain]\n",
      "Saving to: ‘./data/twitter/models/wt103/itos_wt103.pkl’\n",
      "\n",
      "models/wt103/itos_w 100%[===================>]   3.97M  8.56MB/s    in 0.5s    \n",
      "\n",
      "2018-09-13 08:32:38 (8.56 MB/s) - ‘./data/twitter/models/wt103/itos_wt103.pkl’ saved [4161252/4161252]\n",
      "\n",
      "--2018-09-13 08:32:38--  http://files.fast.ai/models/wt103/?C=N;O=A\n",
      "Reusing existing connection to files.fast.ai:80.\n",
      "HTTP request sent, awaiting response... 200 OK\n",
      "Length: 857 [text/html]\n",
      "Saving to: ‘./data/twitter/models/wt103/index.html?C=N;O=A’\n",
      "\n",
      "models/wt103/index. 100%[===================>]     857  --.-KB/s    in 0s      \n",
      "\n",
      "2018-09-13 08:32:38 (122 MB/s) - ‘./data/twitter/models/wt103/index.html?C=N;O=A’ saved [857/857]\n",
      "\n",
      "--2018-09-13 08:32:38--  http://files.fast.ai/models/wt103/?C=M;O=D\n",
      "Reusing existing connection to files.fast.ai:80.\n",
      "HTTP request sent, awaiting response... 200 OK\n",
      "Length: 857 [text/html]\n",
      "Saving to: ‘./data/twitter/models/wt103/index.html?C=M;O=D’\n",
      "\n",
      "models/wt103/index. 100%[===================>]     857  --.-KB/s    in 0s      \n",
      "\n",
      "2018-09-13 08:32:38 (105 MB/s) - ‘./data/twitter/models/wt103/index.html?C=M;O=D’ saved [857/857]\n",
      "\n",
      "--2018-09-13 08:32:38--  http://files.fast.ai/models/wt103/?C=S;O=D\n",
      "Reusing existing connection to files.fast.ai:80.\n",
      "HTTP request sent, awaiting response... 200 OK\n",
      "Length: 857 [text/html]\n",
      "Saving to: ‘./data/twitter/models/wt103/index.html?C=S;O=D’\n",
      "\n",
      "models/wt103/index. 100%[===================>]     857  --.-KB/s    in 0s      \n",
      "\n",
      "2018-09-13 08:32:38 (88.3 MB/s) - ‘./data/twitter/models/wt103/index.html?C=S;O=D’ saved [857/857]\n",
      "\n",
      "--2018-09-13 08:32:38--  http://files.fast.ai/models/wt103/?C=D;O=D\n",
      "Reusing existing connection to files.fast.ai:80.\n",
      "HTTP request sent, awaiting response... 200 OK\n",
      "Length: 857 [text/html]\n",
      "Saving to: ‘./data/twitter/models/wt103/index.html?C=D;O=D’\n",
      "\n",
      "models/wt103/index. 100%[===================>]     857  --.-KB/s    in 0s      \n",
      "\n",
      "2018-09-13 08:32:38 (156 MB/s) - ‘./data/twitter/models/wt103/index.html?C=D;O=D’ saved [857/857]\n",
      "\n",
      "FINISHED --2018-09-13 08:32:38--\n",
      "Total wall clock time: 2m 47s\n",
      "Downloaded: 14 files, 1.7G in 2m 45s (10.7 MB/s)\n"
     ]
    }
   ],
   "source": [
    "# Uncomment this cell to download the pre-trained model.\n",
    "# It will be placed into the PATH that you defined earlier.\n",
    "! wget -nH -r -np -P {path} http://files.fast.ai/models/wt103/"
   ]
  },
  {
   "cell_type": "code",
   "execution_count": 41,
   "metadata": {},
   "outputs": [],
   "source": [
    "# Load the weights of the model\n",
    "em_sz,nh,nl = 400,1150,3\n",
    "\n",
    "PRE_PATH = PATH/'models'/'wt103'\n",
    "PRE_LM_PATH = PRE_PATH/'fwd_wt103.h5'\n",
    "\n",
    "wgts = torch.load(PRE_LM_PATH, map_location=lambda storage, loc: storage)"
   ]
  },
  {
   "cell_type": "code",
   "execution_count": 42,
   "metadata": {},
   "outputs": [
    {
     "data": {
      "text/plain": [
       "(238462, 400)"
      ]
     },
     "execution_count": 42,
     "metadata": {},
     "output_type": "execute_result"
    }
   ],
   "source": [
    "# Check the word embedding layer and keep a 'mean word' for unknown tokens\n",
    "enc_wgts = to_np(wgts['0.encoder.weight'])\n",
    "row_m = enc_wgts.mean(0)\n",
    "\n",
    "enc_wgts.shape"
   ]
  },
  {
   "cell_type": "code",
   "execution_count": 43,
   "metadata": {},
   "outputs": [],
   "source": [
    "# Load the vocabulary on which the pre-trained model was trained\n",
    "# Define an embedding matrix with the vocabulary of our dataset\n",
    "itos2 = pickle.load((PRE_PATH/'itos_wt103.pkl').open('rb'))\n",
    "stoi2 = collections.defaultdict(lambda:-1, {v:k for k,v in enumerate(itos2)})\n",
    "\n",
    "new_w = np.zeros((vs, em_sz), dtype=np.float32)\n",
    "for i,w in enumerate(itos):\n",
    "    r = stoi2[w]\n",
    "    new_w[i] = enc_wgts[r] if r>=0 else row_m"
   ]
  },
  {
   "cell_type": "code",
   "execution_count": 44,
   "metadata": {},
   "outputs": [],
   "source": [
    "# Use the new embedding matrix for the pre-trained model\n",
    "wgts['0.encoder.weight'] = T(new_w)\n",
    "wgts['0.encoder_with_dropout.embed.weight'] = T(np.copy(new_w))\n",
    "wgts['1.decoder.weight'] = T(np.copy(new_w))"
   ]
  },
  {
   "cell_type": "code",
   "execution_count": 53,
   "metadata": {},
   "outputs": [],
   "source": [
    "# Define the learner object to do the fine-tuning\n",
    "# Here we will freeze everything except the embedding layer, so that we can have a better \n",
    "# embedding for unknown words than just the mean embedding on which we initialise it.\n",
    "wd=1e-7\n",
    "bptt=70\n",
    "bs=52\n",
    "opt_fn = partial(optim.Adam, betas=(0.8, 0.99))\n",
    "\n",
    "trn_dl = LanguageModelLoader(np.concatenate(trn_lm), bs, bptt)\n",
    "val_dl = LanguageModelLoader(np.concatenate(val_lm), bs, bptt)\n",
    "md = LanguageModelData(PATH, 1, vs, trn_dl, val_dl, bs=bs, bptt=bptt)\n",
    "\n",
    "drops = np.array([0.25, 0.1, 0.2, 0.02, 0.15])*0.7\n",
    "\n",
    "learner= md.get_model(opt_fn, em_sz, nh, nl, \n",
    "    dropouti=drops[0], dropout=drops[1], wdrop=drops[2], dropoute=drops[3], dropouth=drops[4])\n",
    "\n",
    "learner.metrics = [accuracy]\n",
    "learner.freeze_to(-1)\n",
    "\n",
    "learner.model.load_state_dict(wgts)\n",
    "\n",
    "lr=8*1e-3\n",
    "lrs = lr"
   ]
  },
  {
   "cell_type": "code",
   "execution_count": 46,
   "metadata": {},
   "outputs": [
    {
     "data": {
      "application/vnd.jupyter.widget-view+json": {
       "model_id": "d0ab2ad05e444855944ac7ff02e78cb5",
       "version_major": 2,
       "version_minor": 0
      },
      "text/plain": [
       "HBox(children=(IntProgress(value=0, description='Epoch', max=1), HTML(value='')))"
      ]
     },
     "metadata": {},
     "output_type": "display_data"
    },
    {
     "name": "stdout",
     "output_type": "stream",
     "text": [
      "epoch      trn_loss   val_loss   accuracy                   \n",
      "    0      4.328069   3.963487   0.372343  \n",
      "\n"
     ]
    },
    {
     "data": {
      "text/plain": [
       "[array([ 3.96349]), 0.37234264407732476]"
      ]
     },
     "execution_count": 46,
     "metadata": {},
     "output_type": "execute_result"
    }
   ],
   "source": [
    "# Run one epoch of fine-tuning \n",
    "learner.fit(lrs/2, 1, wds=wd, use_clr=(32,2), cycle_len=1)"
   ]
  },
  {
   "cell_type": "code",
   "execution_count": 47,
   "metadata": {},
   "outputs": [],
   "source": [
    "# Save the fine-tuned model and unfreeze everything to later fine-tune the whole model\n",
    "learner.save('lm_last_ft')"
   ]
  },
  {
   "cell_type": "code",
   "execution_count": 48,
   "metadata": {},
   "outputs": [],
   "source": [
    "learner.load('lm_last_ft')\n",
    "learner.unfreeze()"
   ]
  },
  {
   "cell_type": "code",
   "execution_count": 49,
   "metadata": {},
   "outputs": [
    {
     "data": {
      "application/vnd.jupyter.widget-view+json": {
       "model_id": "1dbbd40d67c6466e8a05e5d1ea21b508",
       "version_major": 2,
       "version_minor": 0
      },
      "text/plain": [
       "HBox(children=(IntProgress(value=0, description='Epoch', max=1), HTML(value='')))"
      ]
     },
     "metadata": {},
     "output_type": "display_data"
    },
    {
     "name": "stdout",
     "output_type": "stream",
     "text": [
      "epoch      trn_loss   val_loss   accuracy                    \n",
      "    0      0.856821   0.546223   0.890807  \n",
      "\n"
     ]
    }
   ],
   "source": [
    "learner.lr_find(start_lr=lrs/10, end_lr=lrs*10, linear=True)"
   ]
  },
  {
   "cell_type": "code",
   "execution_count": 50,
   "metadata": {},
   "outputs": [
    {
     "data": {
      "image/png": "[encoded data removed]",
      "text/plain": [
       "<Figure size 432x288 with 1 Axes>"
      ]
     },
     "metadata": {},
     "output_type": "display_data"
    }
   ],
   "source": [
    "learner.sched.plot()"
   ]
  },
  {
   "cell_type": "code",
   "execution_count": 51,
   "metadata": {},
   "outputs": [],
   "source": [
    "learner.save('lm_last_ft_after_lr_find')"
   ]
  },
  {
   "cell_type": "code",
   "execution_count": 52,
   "metadata": {},
   "outputs": [],
   "source": [
    "learner.load('lm_last_ft_after_lr_find')"
   ]
  },
  {
   "cell_type": "code",
   "execution_count": 54,
   "metadata": {},
   "outputs": [
    {
     "data": {
      "application/vnd.jupyter.widget-view+json": {
       "model_id": "17975cb2533a40c7956848742e496fd9",
       "version_major": 2,
       "version_minor": 0
      },
      "text/plain": [
       "HBox(children=(IntProgress(value=0, description='Epoch', max=15), HTML(value='')))"
      ]
     },
     "metadata": {},
     "output_type": "display_data"
    },
    {
     "name": "stdout",
     "output_type": "stream",
     "text": [
      "epoch      trn_loss   val_loss   accuracy                   \n",
      "    0      1.857412   1.226177   0.764246  \n",
      "    1      1.073886   0.639057   0.874802                   \n",
      "    2      0.907802   0.531798   0.895498                    \n",
      "    3      0.833881   0.490618   0.902651                    \n",
      "    4      0.785636   0.467816   0.907497                    \n",
      "    5      0.755615   0.453065   0.910489                    \n",
      "    6      0.738584   0.442304   0.911958                    \n",
      "    7      0.718714   0.4356     0.913823                    \n",
      "    8      0.697714   0.428477   0.915038                    \n",
      "    9      0.695252   0.424647   0.915547                    \n",
      "    10     0.67562    0.420907   0.915962                    \n",
      "    11     0.674083   0.417887   0.91694                     \n",
      "    12     0.661771   0.41505    0.917362                    \n",
      "    13     0.655237   0.413475   0.917815                    \n",
      "    14     0.649921   0.41257    0.917942                    \n",
      "\n"
     ]
    },
    {
     "data": {
      "text/plain": [
       "[array([ 0.41257]), 0.91794183716259803]"
      ]
     },
     "execution_count": 54,
     "metadata": {},
     "output_type": "execute_result"
    }
   ],
   "source": [
    "# Run this if you want to highly tune the LM to the Twitter posts data, with 15 epochs\n",
    "# use_clr controls the shape of the cyclical (triangular) learning rate\n",
    "learner.fit(lrs, 1, wds=wd, use_clr=(20,10), cycle_len=15)"
   ]
  },
  {
   "cell_type": "code",
   "execution_count": 55,
   "metadata": {},
   "outputs": [],
   "source": [
    "# Save the Backbone for further classification!!\n",
    "learner.save('lm1')\n",
    "learner.save_encoder('lm1_enc')"
   ]
  },
  {
   "cell_type": "code",
   "execution_count": 56,
   "metadata": {},
   "outputs": [],
   "source": [
    "learner.load_encoder('lm1_enc')\n",
    "learner.load('lm1')"
   ]
  },
  {
   "cell_type": "code",
   "execution_count": 57,
   "metadata": {},
   "outputs": [
    {
     "data": {
      "image/png": "[encoded data removed]",
      "text/plain": [
       "<Figure size 432x288 with 1 Axes>"
      ]
     },
     "metadata": {},
     "output_type": "display_data"
    }
   ],
   "source": [
    "learner.sched.plot_loss()"
   ]
  },
  {
   "cell_type": "markdown",
   "metadata": {},
   "source": [
    "# Going back to classification!"
   ]
  },
  {
   "cell_type": "markdown",
   "metadata": {},
   "source": [
    "Now that we spent some time fine-tuning the language model on our Twitter data, let's see if we can classify easily these reviews.\n",
    "As before, some cells should be run once, and then use data loaders for later use."
   ]
  },
  {
   "cell_type": "code",
   "execution_count": 58,
   "metadata": {},
   "outputs": [],
   "source": [
    "# df_trn = pd.read_csv(CLAS_PATH/'train.csv', header=None, chunksize=chunksize)\n",
    "# df_val = pd.read_csv(CLAS_PATH/'test.csv', header=None, chunksize=chunksize)\n",
    "df_trn = pd.read_json(\n",
    "    f'{CLAS_PATH}/{data_file_nonextension_name}_train.json.gz', \n",
    "    orient='records', \n",
    "    lines=True, compression='gzip', chunksize=chunksize\n",
    ")# [['text', 'labels']]\n",
    "\n",
    "df_val = pd.read_json(\n",
    "    f'{CLAS_PATH}/{data_file_nonextension_name}_test.json.gz', \n",
    "    orient='records', \n",
    "    lines=True, compression='gzip', chunksize=chunksize\n",
    ")# [['text', 'labels']]"
   ]
  },
  {
   "cell_type": "code",
   "execution_count": 59,
   "metadata": {},
   "outputs": [
    {
     "name": "stdout",
     "output_type": "stream",
     "text": [
      "0\n",
      "1\n",
      "2\n",
      "3\n",
      "4\n",
      "5\n",
      "6\n",
      "7\n",
      "8\n",
      "9\n",
      "10\n",
      "11\n",
      "12\n",
      "13\n",
      "14\n",
      "15\n",
      "16\n",
      "17\n",
      "18\n",
      "19\n",
      "0\n",
      "1\n",
      "2\n",
      "3\n",
      "4\n",
      "5\n",
      "6\n"
     ]
    }
   ],
   "source": [
    "tok_trn, trn_labels = get_all(df_trn, 1)\n",
    "tok_val, val_labels = get_all(df_val, 1)"
   ]
  },
  {
   "cell_type": "code",
   "execution_count": 60,
   "metadata": {},
   "outputs": [],
   "source": [
    "(CLAS_PATH/'tmp').mkdir(exist_ok=True)\n",
    "\n",
    "np.save(CLAS_PATH/'tmp'/'tok_trn.npy', tok_trn)\n",
    "np.save(CLAS_PATH/'tmp'/'tok_val.npy', tok_val)\n",
    "\n",
    "np.save(CLAS_PATH/'tmp'/'trn_labels.npy', trn_labels)\n",
    "np.save(CLAS_PATH/'tmp'/'val_labels.npy', val_labels)"
   ]
  },
  {
   "cell_type": "code",
   "execution_count": 61,
   "metadata": {},
   "outputs": [
    {
     "data": {
      "text/plain": [
       "6305"
      ]
     },
     "execution_count": 61,
     "metadata": {},
     "output_type": "execute_result"
    }
   ],
   "source": [
    "tok_trn = np.load(CLAS_PATH/'tmp'/'tok_trn.npy')\n",
    "tok_val = np.load(CLAS_PATH/'tmp'/'tok_val.npy')\n",
    "itos = pickle.load((LM_PATH/'tmp'/'itos.pkl').open('rb'))\n",
    "stoi = collections.defaultdict(lambda:0, {v:k for k,v in enumerate(itos)})\n",
    "len(itos)"
   ]
  },
  {
   "cell_type": "code",
   "execution_count": 62,
   "metadata": {},
   "outputs": [],
   "source": [
    "trn_clas = np.array([[stoi[o] for o in p] for p in tok_trn])\n",
    "val_clas = np.array([[stoi[o] for o in p] for p in tok_val])\n",
    "\n",
    "np.save(CLAS_PATH/'tmp'/'trn_ids.npy', trn_clas)\n",
    "np.save(CLAS_PATH/'tmp'/'val_ids.npy', val_clas)"
   ]
  },
  {
   "cell_type": "markdown",
   "metadata": {},
   "source": [
    "# Classifier\n",
    "In this part, we adopt an unusual train/test hierarchy. While it's common to train on a big dataset and thewn test on a small one, here we wanrt to test the hypothesis that the model can learn with few training data. Hence we take less data for training than for testing."
   ]
  },
  {
   "cell_type": "code",
   "execution_count": 63,
   "metadata": {},
   "outputs": [],
   "source": [
    "# The train data contains 119253 examples\n",
    "# The test data contains 39752 examples"
   ]
  },
  {
   "cell_type": "code",
   "execution_count": 64,
   "metadata": {},
   "outputs": [],
   "source": [
    "# We select here the 'size' first reviews of our dataset\n",
    "# The paper claims that it's possible to achieve very good results with few labeled examples\n",
    "# So let's try with 100 examples for training, and 5000 examples for validation.\n",
    "# We encourage you to try different values to see the effect of data size on performance.\n",
    "# trn_size = 100\n",
    "# val_size = 5000"
   ]
  },
  {
   "cell_type": "code",
   "execution_count": 65,
   "metadata": {},
   "outputs": [],
   "source": [
    "trn_size = 1000\n",
    "val_size = 5000"
   ]
  },
  {
   "cell_type": "code",
   "execution_count": 66,
   "metadata": {},
   "outputs": [],
   "source": [
    "trn_clas = np.load(CLAS_PATH/'tmp'/'trn_ids.npy')\n",
    "val_clas = np.load(CLAS_PATH/'tmp'/'val_ids.npy')\n",
    "\n",
    "trn_labels = np.squeeze(np.load(CLAS_PATH/'tmp'/'trn_labels.npy'))\n",
    "val_labels = np.squeeze(np.load(CLAS_PATH/'tmp'/'val_labels.npy'))\n",
    "\n",
    "train = random.sample(list(zip(trn_clas, trn_labels)), trn_size)\n",
    "trn_clas = np.array([item[0] for item in train])\n",
    "trn_labels = np.array([item[1] for item in train])\n",
    "del train\n",
    "\n",
    "validation = random.sample(list(zip(val_clas, val_labels)), val_size)\n",
    "val_clas = np.array([item[0] for item in validation])\n",
    "val_labels = np.array([item[1] for item in validation])\n",
    "del validation\n",
    "\n",
    "\n",
    "bptt,em_sz,nh,nl = 70,400,1150,3\n",
    "vs = len(itos)\n",
    "opt_fn = partial(optim.Adam, betas=(0.8, 0.99))\n",
    "bs = 48\n",
    "\n",
    "min_lbl = trn_labels.min()\n",
    "trn_labels -= min_lbl\n",
    "val_labels -= min_lbl\n",
    "c=int(trn_labels.max())+1"
   ]
  },
  {
   "cell_type": "code",
   "execution_count": 67,
   "metadata": {},
   "outputs": [
    {
     "data": {
      "text/plain": [
       "0.722"
      ]
     },
     "execution_count": 67,
     "metadata": {},
     "output_type": "execute_result"
    }
   ],
   "source": [
    "# Ccheck that the validation dataset is well balanced so acccuracy is a good metric\n",
    "# We'll also check other metrics usual for binary classification (precision, recall, f1 score)\n",
    "len(trn_labels[trn_labels == 1]) / len(trn_labels)"
   ]
  },
  {
   "cell_type": "code",
   "execution_count": 68,
   "metadata": {},
   "outputs": [],
   "source": [
    "trn_ds = TextDataset(trn_clas, trn_labels)\n",
    "val_ds = TextDataset(val_clas, val_labels)\n",
    "trn_samp = SortishSampler(trn_clas, key=lambda x: len(trn_clas[x]), bs=bs//2)\n",
    "val_samp = SortSampler(val_clas, key=lambda x: len(val_clas[x]))\n",
    "trn_dl = DataLoader(trn_ds, bs//2, transpose=True, num_workers=1, pad_idx=1, sampler=trn_samp)\n",
    "val_dl = DataLoader(val_ds, bs, transpose=True, num_workers=1, pad_idx=1, sampler=val_samp)"
   ]
  },
  {
   "cell_type": "code",
   "execution_count": 69,
   "metadata": {},
   "outputs": [],
   "source": [
    "# We define the model, here it a classifier on top of an RNN language model\n",
    "# We load the language model encoder that we fine tuned before\n",
    "# We freeze everything but the last layer, so that we can train the classification layer only.\n",
    "#load the saved weights from before, and freeze everything until the last layer\n",
    "# from fastai.lm_rnn import *\n",
    "\n",
    "md = ModelData(PATH, trn_dl, val_dl)\n",
    "dps = np.array([0.4, 0.5, 0.05, 0.3, 0.1])\n",
    "\n",
    "m = get_rnn_classifer(bptt, 20*70, c, vs, emb_sz=em_sz, n_hid=nh, n_layers=nl, pad_token=1,\n",
    "          layers=[em_sz*3, 50, c], drops=[dps[4], 0.1],\n",
    "          dropouti=dps[0], wdrop=dps[1], dropoute=dps[2], dropouth=dps[3])\n",
    "\n",
    "opt_fn = partial(optim.Adam, betas=(0.7, 0.99))\n",
    "\n",
    "learn = RNN_Learner(md, TextModel(to_gpu(m)), opt_fn=opt_fn)\n",
    "learn.reg_fn = partial(seq2seq_reg, alpha=2, beta=1)\n",
    "learn.clip=25.\n",
    "learn.metrics = [accuracy]\n",
    "\n",
    "lr=8*1e-3\n",
    "lrm = 2.6\n",
    "lrs = np.array([lr/(lrm**4), lr/(lrm**3), lr/(lrm**2), lr/lrm, lr])\n",
    "\n",
    "lrs=np.array([1e-4,1e-4,1e-4,1e-3,1e-2])\n",
    "\n",
    "wd = 1e-7\n",
    "wd = 0\n",
    "learn.load_encoder('lm1_enc')"
   ]
  },
  {
   "cell_type": "code",
   "execution_count": 70,
   "metadata": {},
   "outputs": [],
   "source": [
    "learn.freeze_to(-1)"
   ]
  },
  {
   "cell_type": "code",
   "execution_count": 71,
   "metadata": {},
   "outputs": [
    {
     "data": {
      "application/vnd.jupyter.widget-view+json": {
       "model_id": "1de7f6481ac04d2e93d0d9c9360ea43b",
       "version_major": 2,
       "version_minor": 0
      },
      "text/plain": [
       "HBox(children=(IntProgress(value=0, description='Epoch', max=1), HTML(value='')))"
      ]
     },
     "metadata": {},
     "output_type": "display_data"
    },
    {
     "name": "stdout",
     "output_type": "stream",
     "text": [
      " 79%|███████▊  | 33/42 [00:00<00:00, 36.58it/s, loss=4.78] \n",
      "                                                          \r"
     ]
    }
   ],
   "source": [
    "# trn_size = 1000\n",
    "# val_size = 5000\n",
    "learn.lr_find(lrs/1000)"
   ]
  },
  {
   "cell_type": "code",
   "execution_count": 32,
   "metadata": {},
   "outputs": [
    {
     "data": {
      "application/vnd.jupyter.widget-view+json": {
       "model_id": "69865049ce5745c8baab3786e1281916",
       "version_major": 2,
       "version_minor": 0
      },
      "text/plain": [
       "HBox(children=(IntProgress(value=0, description='Epoch', max=1), HTML(value='')))"
      ]
     },
     "metadata": {},
     "output_type": "display_data"
    },
    {
     "name": "stdout",
     "output_type": "stream",
     "text": [
      "epoch      trn_loss   val_loss   accuracy                \n",
      "    0      0.715853   126.110563 0.630904  \n",
      "\n"
     ]
    }
   ],
   "source": [
    "# trn_size = 100\n",
    "# val_size = 5000\n",
    "learn.lr_find(lrs/1000)"
   ]
  },
  {
   "cell_type": "code",
   "execution_count": 72,
   "metadata": {},
   "outputs": [
    {
     "data": {
      "image/png": "[encoded data removed]",
      "text/plain": [
       "<Figure size 432x288 with 1 Axes>"
      ]
     },
     "metadata": {},
     "output_type": "display_data"
    }
   ],
   "source": [
    "learn.sched.plot()"
   ]
  },
  {
   "cell_type": "code",
   "execution_count": 73,
   "metadata": {},
   "outputs": [
    {
     "data": {
      "application/vnd.jupyter.widget-view+json": {
       "model_id": "b0930db4b1c94fcb89738df541c71f91",
       "version_major": 2,
       "version_minor": 0
      },
      "text/plain": [
       "HBox(children=(IntProgress(value=0, description='Epoch', max=1), HTML(value='')))"
      ]
     },
     "metadata": {},
     "output_type": "display_data"
    },
    {
     "name": "stdout",
     "output_type": "stream",
     "text": [
      "epoch      trn_loss   val_loss   accuracy                  \n",
      "    0      0.634969   0.504589   0.763162  \n",
      "\n"
     ]
    },
    {
     "data": {
      "text/plain": [
       "[array([ 0.50459]), 0.76316228981328027]"
      ]
     },
     "execution_count": 73,
     "metadata": {},
     "output_type": "execute_result"
    }
   ],
   "source": [
    "# Run one epoch on the classification layer\n",
    "# trn_size = 1000\n",
    "# val_size = 5000\n",
    "learn.fit(lrs, 1, wds=wd, cycle_len=1, use_clr=(8,3))"
   ]
  },
  {
   "cell_type": "code",
   "execution_count": 34,
   "metadata": {},
   "outputs": [
    {
     "data": {
      "application/vnd.jupyter.widget-view+json": {
       "model_id": "fc6c093047814b5fb3eb27d2e554d8ae",
       "version_major": 2,
       "version_minor": 0
      },
      "text/plain": [
       "HBox(children=(IntProgress(value=0, description='Epoch', max=1), HTML(value='')))"
      ]
     },
     "metadata": {},
     "output_type": "display_data"
    },
    {
     "name": "stdout",
     "output_type": "stream",
     "text": [
      "epoch      trn_loss   val_loss   accuracy                \n",
      "    0      0.761598   0.66294    0.630888  \n",
      "\n"
     ]
    },
    {
     "data": {
      "text/plain": [
       "[array([ 0.66294]), 0.63088820578044869]"
      ]
     },
     "execution_count": 34,
     "metadata": {},
     "output_type": "execute_result"
    }
   ],
   "source": [
    "# Run one epoch on the classification layer\n",
    "# trn_size = 100\n",
    "# val_size = 5000\n",
    "learn.fit(lrs, 1, wds=wd, cycle_len=1, use_clr=(8,3))"
   ]
  },
  {
   "cell_type": "code",
   "execution_count": 74,
   "metadata": {},
   "outputs": [],
   "source": [
    "# Save the trained model\n",
    "learn.save('clas_0')\n",
    "learn.load('clas_0')"
   ]
  },
  {
   "cell_type": "code",
   "execution_count": 75,
   "metadata": {},
   "outputs": [
    {
     "data": {
      "application/vnd.jupyter.widget-view+json": {
       "model_id": "9eb037d3604d41bba60c55e517a23d5f",
       "version_major": 2,
       "version_minor": 0
      },
      "text/plain": [
       "HBox(children=(IntProgress(value=0, description='Epoch', max=1), HTML(value='')))"
      ]
     },
     "metadata": {},
     "output_type": "display_data"
    },
    {
     "name": "stdout",
     "output_type": "stream",
     "text": [
      "epoch      trn_loss   val_loss   accuracy                  \n",
      "    0      0.556786   0.476219   0.771557  \n",
      "\n"
     ]
    },
    {
     "data": {
      "text/plain": [
       "[array([ 0.47622]), 0.77155684208031328]"
      ]
     },
     "execution_count": 75,
     "metadata": {},
     "output_type": "execute_result"
    }
   ],
   "source": [
    "# Gradually unfreeze another layer to train a bit more parameters than just the classifier layer\n",
    "# trn_size = 1000\n",
    "# val_size = 5000\n",
    "learn.freeze_to(-2)\n",
    "learn.fit(lrs, 1, wds=wd, cycle_len=1, use_clr=(8,3))"
   ]
  },
  {
   "cell_type": "code",
   "execution_count": 36,
   "metadata": {},
   "outputs": [
    {
     "data": {
      "application/vnd.jupyter.widget-view+json": {
       "model_id": "fcb66581023d48e195aa31e085361a16",
       "version_major": 2,
       "version_minor": 0
      },
      "text/plain": [
       "HBox(children=(IntProgress(value=0, description='Epoch', max=1), HTML(value='')))"
      ]
     },
     "metadata": {},
     "output_type": "display_data"
    },
    {
     "name": "stdout",
     "output_type": "stream",
     "text": [
      "epoch      trn_loss   val_loss   accuracy                \n",
      "    0      0.655339   0.663206   0.63076   \n",
      "\n"
     ]
    },
    {
     "data": {
      "text/plain": [
       "[array([ 0.66321]), 0.63075985164196158]"
      ]
     },
     "execution_count": 36,
     "metadata": {},
     "output_type": "execute_result"
    }
   ],
   "source": [
    "# Gradually unfreeze another layer to train a bit more parameters than just the classifier layer\n",
    "# trn_size = 100\n",
    "# val_size = 5000\n",
    "learn.freeze_to(-2)\n",
    "learn.fit(lrs, 1, wds=wd, cycle_len=1, use_clr=(8,3))"
   ]
  },
  {
   "cell_type": "code",
   "execution_count": 76,
   "metadata": {},
   "outputs": [],
   "source": [
    "# Save the trained model\n",
    "learn.save('clas_1')\n",
    "learn.load('clas_1')"
   ]
  },
  {
   "cell_type": "code",
   "execution_count": 77,
   "metadata": {},
   "outputs": [
    {
     "data": {
      "application/vnd.jupyter.widget-view+json": {
       "model_id": "bb14dbef235a44979bb77a63a4b8444d",
       "version_major": 2,
       "version_minor": 0
      },
      "text/plain": [
       "HBox(children=(IntProgress(value=0, description='Epoch', max=14), HTML(value='')))"
      ]
     },
     "metadata": {},
     "output_type": "display_data"
    },
    {
     "name": "stdout",
     "output_type": "stream",
     "text": [
      "epoch      trn_loss   val_loss   accuracy                  \n",
      "    0      0.504641   0.440362   0.791611  \n",
      "    1      0.507048   0.454129   0.787326                  \n",
      "    2      0.502336   0.430936   0.787827                  \n",
      "    3      0.484685   0.413786   0.803011                  \n",
      "    4      0.472547   0.41828    0.810608                  \n",
      "    5      0.454409   0.395472   0.808855                  \n",
      "    6      0.445382   0.400258   0.814253                  \n",
      "    7      0.428886   0.405621   0.814865                  \n",
      "    8      0.419035   0.421435   0.822499                  \n",
      "    9      0.409577   0.388223   0.826256                  \n",
      "    10     0.414071   0.381029   0.822416                  \n",
      "    11     0.403536   0.394395   0.820755                  \n",
      "    12     0.403182   0.392906   0.819642                  \n",
      "    13     0.385173   0.389315   0.821683                  \n",
      "\n"
     ]
    },
    {
     "data": {
      "text/plain": [
       "[array([ 0.38931]), 0.82168299344534967]"
      ]
     },
     "execution_count": 77,
     "metadata": {},
     "output_type": "execute_result"
    }
   ],
   "source": [
    "# Unfreeze everything and train for a few epochs on the whole set of parameters of the model\n",
    "# trn_size = 1000\n",
    "# val_size = 5000\n",
    "learn.unfreeze()\n",
    "learn.fit(lrs, 1, wds=wd, cycle_len=14, use_clr=(32,10))"
   ]
  },
  {
   "cell_type": "code",
   "execution_count": 38,
   "metadata": {},
   "outputs": [
    {
     "data": {
      "application/vnd.jupyter.widget-view+json": {
       "model_id": "5953f90500c14945bfd7510b4eb2f2bd",
       "version_major": 2,
       "version_minor": 0
      },
      "text/plain": [
       "HBox(children=(IntProgress(value=0, description='Epoch', max=14), HTML(value='')))"
      ]
     },
     "metadata": {},
     "output_type": "display_data"
    },
    {
     "name": "stdout",
     "output_type": "stream",
     "text": [
      "epoch      trn_loss   val_loss   accuracy                \n",
      "    0      0.565184   0.658257   0.630736  \n",
      "    1      0.609008   0.643067   0.641461                \n",
      "    2      0.589626   0.629926   0.644149                \n",
      "    3      0.582622   0.643003   0.634057                \n",
      "    4      0.577048   0.674303   0.619072                \n",
      "    5      0.561641   0.716868   0.607993                \n",
      "    6      0.554197   0.673983   0.632581                \n",
      "    7      0.529539   0.68012    0.64159                 \n",
      "    8      0.538618   0.701428   0.633327                \n",
      "    9      0.525071   0.738133   0.618959                \n",
      "    10     0.502935   0.736744   0.620724                \n",
      "    11     0.487381   0.719305   0.634891                \n",
      "    12     0.501681   0.742144   0.632685                \n",
      "    13     0.490324   0.749581   0.631273                \n",
      "\n"
     ]
    },
    {
     "data": {
      "text/plain": [
       "[array([ 0.74958]), 0.63127326669259676]"
      ]
     },
     "execution_count": 38,
     "metadata": {},
     "output_type": "execute_result"
    }
   ],
   "source": [
    "# Unfreeze everything and train for a few epochs on the whole set of parameters of the model\n",
    "# trn_size = 100\n",
    "# val_size = 5000\n",
    "learn.unfreeze()\n",
    "learn.fit(lrs, 1, wds=wd, cycle_len=14, use_clr=(32,10))"
   ]
  },
  {
   "cell_type": "code",
   "execution_count": 78,
   "metadata": {},
   "outputs": [
    {
     "data": {
      "image/png": "[encoded data removed]",
      "text/plain": [
       "<Figure size 432x288 with 1 Axes>"
      ]
     },
     "metadata": {},
     "output_type": "display_data"
    }
   ],
   "source": [
    "learn.sched.plot_loss()"
   ]
  },
  {
   "cell_type": "code",
   "execution_count": 79,
   "metadata": {},
   "outputs": [],
   "source": [
    "# Save the model\n",
    "learn.save('clas_2')"
   ]
  },
  {
   "cell_type": "markdown",
   "metadata": {},
   "source": [
    "# Inference\n",
    "Nonw, let's play with the model we've just learned!"
   ]
  },
  {
   "cell_type": "code",
   "execution_count": 80,
   "metadata": {},
   "outputs": [],
   "source": [
    "c=int(trn_labels.max())+1\n",
    "m = get_rnn_classifer(bptt, 20*70, c, vs, emb_sz=em_sz, n_hid=nh, n_layers=nl, pad_token=1,\n",
    "          layers=[em_sz*3, 50, c], drops=[dps[4], 0.1],\n",
    "          dropouti=dps[0], wdrop=dps[1], dropoute=dps[2], dropouth=dps[3])\n",
    "opt_fn = partial(optim.Adam, betas=(0.7, 0.99))\n",
    "learn = RNN_Learner(md, TextModel(to_gpu(m)), opt_fn=opt_fn)\n",
    "learn.reg_fn = partial(seq2seq_reg, alpha=2, beta=1)\n",
    "learn.clip=25.\n",
    "learn.metrics = [accuracy]\n",
    "\n",
    "lr=8*1e-3\n",
    "lrm = 2.6\n",
    "lrs = np.array([lr/(lrm**4), lr/(lrm**3), lr/(lrm**2), lr/lrm, lr])\n",
    "wd = 1e-7\n",
    "wd = 0\n",
    "learn.load_encoder('lm1_enc')\n",
    "learn.load('clas_2')"
   ]
  },
  {
   "cell_type": "code",
   "execution_count": 81,
   "metadata": {},
   "outputs": [],
   "source": [
    "def get_sentiment(input_str: str):\n",
    "\n",
    "    # predictions are done on arrays of input.\n",
    "    # We only have a single input, so turn it into a 1x1 array\n",
    "    texts = [input_str]\n",
    "\n",
    "    # tokenize using the fastai wrapper around spacy\n",
    "    tok = [t.split() for t in texts]\n",
    "    # tok = Tokenizer().proc_all_mp(partition_by_cores(texts))\n",
    "\n",
    "    # turn into integers for each word\n",
    "    encoded = [stoi[p] for p in tok[0]]\n",
    "\n",
    "    idx = np.array(encoded)[None]\n",
    "    idx = np.transpose(idx)\n",
    "    tensorIdx = VV(idx)\n",
    "    m.eval()\n",
    "    m.reset()\n",
    "    p = m.forward(tensorIdx)\n",
    "    return np.argmax(p[0][0].data.cpu().numpy())\n",
    "\n",
    "def prediction(texts):\n",
    "    \"\"\"Do the prediction on a list of texts\n",
    "    \"\"\"\n",
    "    y = []\n",
    "    \n",
    "    for i, text in enumerate(texts):\n",
    "        if i % 1000 == 0:\n",
    "            print(i)\n",
    "        encoded = text\n",
    "        idx = np.array(encoded)[None]\n",
    "        idx = np.transpose(idx)\n",
    "        tensorIdx = VV(idx)\n",
    "        m.eval()\n",
    "        m.reset()\n",
    "        p = m.forward(tensorIdx)\n",
    "        y.append(np.argmax(p[0][0].data.cpu().numpy()))\n",
    "    return y"
   ]
  },
  {
   "cell_type": "code",
   "execution_count": 82,
   "metadata": {},
   "outputs": [
    {
     "name": "stdout",
     "output_type": "stream",
     "text": [
      "1\n",
      "0.005266904830932617\n"
     ]
    }
   ],
   "source": [
    "sentence = \"I like Feedly\"\n",
    "start = time()\n",
    "print(get_sentiment(sentence))\n",
    "print(time() - start)"
   ]
  },
  {
   "cell_type": "code",
   "execution_count": 83,
   "metadata": {},
   "outputs": [
    {
     "name": "stdout",
     "output_type": "stream",
     "text": [
      "0\n",
      "1000\n",
      "2000\n",
      "3000\n",
      "4000\n"
     ]
    }
   ],
   "source": [
    "y = prediction(list(val_clas))"
   ]
  },
  {
   "cell_type": "code",
   "execution_count": 84,
   "metadata": {},
   "outputs": [
    {
     "name": "stdout",
     "output_type": "stream",
     "text": [
      "Accuracy --> 0.834\n",
      "Precision --> 0.9396009838753758\n",
      "F1 score --> 0.8922917207370881\n",
      "Recall score --> 0.8495181616011861\n",
      "[[ 732  221]\n",
      " [ 609 3438]]\n",
      "             precision    recall  f1-score   support\n",
      "\n",
      "          0       0.55      0.77      0.64       953\n",
      "          1       0.94      0.85      0.89      4047\n",
      "\n",
      "avg / total       0.86      0.83      0.84      5000\n",
      "\n"
     ]
    }
   ],
   "source": [
    "# Show relevant metrics for binary classification\n",
    "# We encourage you to try training the classifier with different data size and its effect on performance\n",
    "# trn_size = 1000\n",
    "# val_size = 5000\n",
    "print(f'Accuracy --> {accuracy_score(y, val_labels)}')\n",
    "print(f'Precision --> {precision_score(y, val_labels)}')\n",
    "print(f'F1 score --> {f1_score(y, val_labels)}')\n",
    "print(f'Recall score --> {recall_score(y, val_labels)}')\n",
    "print(confusion_matrix(y, val_labels))\n",
    "print(classification_report(y, val_labels))"
   ]
  },
  {
   "cell_type": "code",
   "execution_count": 45,
   "metadata": {},
   "outputs": [
    {
     "name": "stdout",
     "output_type": "stream",
     "text": [
      "Accuracy --> 0.5966\n",
      "Precision --> 0.6407337128399747\n",
      "F1 score --> 0.6676552974130829\n",
      "Recall score --> 0.696938424492604\n",
      "[[ 957 1136]\n",
      " [ 881 2026]]\n",
      "             precision    recall  f1-score   support\n",
      "\n",
      "          0       0.52      0.46      0.49      2093\n",
      "          1       0.64      0.70      0.67      2907\n",
      "\n",
      "avg / total       0.59      0.60      0.59      5000\n",
      "\n"
     ]
    }
   ],
   "source": [
    "# Show relevant metrics for binary classification\n",
    "# We encourage you to try training the classifier with different data size and its effect on performance\n",
    "# trn_size = 100\n",
    "# val_size = 5000\n",
    "print(f'Accuracy --> {accuracy_score(y, val_labels)}')\n",
    "print(f'Precision --> {precision_score(y, val_labels)}')\n",
    "print(f'F1 score --> {f1_score(y, val_labels)}')\n",
    "print(f'Recall score --> {recall_score(y, val_labels)}')\n",
    "print(confusion_matrix(y, val_labels))\n",
    "print(classification_report(y, val_labels))"
   ]
  },
  {
   "cell_type": "markdown",
   "metadata": {},
   "source": [
    "# What training size do we need?\n",
    "The language model has already learnt a lot about the syntax. It is very knowledgeable about the context in which words appear in sentences. However, the language model does not contain any notion of [meaning](https://en.wikipedia.org/wiki/Meaning_%28linguistics%29). This problem is well summarised in [Emily Bender's tweet](https://twitter.com/emilymbender/status/1024042044035985408) during a very interesting twiter thread that occur in July around meaning in NLP. A cool summary of this thread can be found in the [Hugging Face](https://medium.com/huggingface/learning-meaning-in-natural-language-processing-the-semantics-mega-thread-9c0332dfe28e) blogpost. Hence the meaning in language is very likely to be learned through supervision, with the help of ground-truth examples.\n",
    "\n",
    "However, when we perform some NLP tasks, sentiment analysis in our example, both syntax and meaning are important!\n",
    "The idea is that you can save a lot of time by being taught with a lot of blind synatx first, and then learning meaning. Think of when you start learning a complete new field. Well, it is far easier to learn it in your mother tongue than in another language you master less. \n",
    "\n",
    "The big practical gain here is that once you \"know\" a language, you need less supervised examples to learn a new thing! In our example, it means we need less labeled reviews for us to learn a relevant classifier.\n",
    "\n",
    "Let's verify this hypothesis by training a classifier with several training size and see how this size affects the performance!"
   ]
  },
  {
   "cell_type": "code",
   "execution_count": 85,
   "metadata": {},
   "outputs": [],
   "source": [
    "# The train data contains 119253 examples\n",
    "# The test data contains 39752 examples"
   ]
  },
  {
   "cell_type": "code",
   "execution_count": 86,
   "metadata": {},
   "outputs": [],
   "source": [
    "trn_clas = np.load(CLAS_PATH/'tmp'/'trn_ids.npy')\n",
    "val_clas = np.load(CLAS_PATH/'tmp'/'val_ids.npy')\n",
    "\n",
    "trn_labels = np.squeeze(np.load(CLAS_PATH/'tmp'/'trn_labels.npy'))\n",
    "val_labels = np.squeeze(np.load(CLAS_PATH/'tmp'/'val_labels.npy'))"
   ]
  },
  {
   "cell_type": "code",
   "execution_count": 87,
   "metadata": {},
   "outputs": [],
   "source": [
    "def experiment(trn_size, val_size):\n",
    "\n",
    "    train = random.sample(list(zip(trn_clas, trn_labels)), trn_size)\n",
    "    aux_trn_clas = np.array([item[0] for item in train])\n",
    "    aux_trn_labels = np.array([item[1] for item in train])\n",
    "    del train\n",
    "\n",
    "    validation = random.sample(list(zip(val_clas, val_labels)), val_size)\n",
    "    aux_val_clas = np.array([item[0] for item in validation])\n",
    "    aux_val_labels = np.array([item[1] for item in validation])\n",
    "    del validation\n",
    "\n",
    "\n",
    "    bptt,em_sz,nh,nl = 70,400,1150,3\n",
    "    vs = len(itos)\n",
    "    opt_fn = partial(optim.Adam, betas=(0.8, 0.99))\n",
    "    bs = 48\n",
    "\n",
    "    min_lbl = aux_trn_labels.min()\n",
    "    aux_trn_labels -= min_lbl\n",
    "    aux_val_labels -= min_lbl\n",
    "    c=int(aux_trn_labels.max())+1\n",
    "\n",
    "    # Load data in relevant structures\n",
    "    trn_ds = TextDataset(aux_trn_clas, aux_trn_labels)\n",
    "    val_ds = TextDataset(aux_val_clas, aux_val_labels)\n",
    "    trn_samp = SortishSampler(aux_trn_clas, key=lambda x: len(aux_trn_clas[x]), bs=bs//2)\n",
    "    val_samp = SortSampler(aux_val_clas, key=lambda x: len(aux_val_clas[x]))\n",
    "    trn_dl = DataLoader(trn_ds, bs//2, transpose=True, num_workers=1, pad_idx=1, sampler=trn_samp)\n",
    "    val_dl = DataLoader(val_ds, bs, transpose=True, num_workers=1, pad_idx=1, sampler=val_samp)\n",
    "\n",
    "    # Define the model and load the backbone lamguage model\n",
    "    md = ModelData(PATH, trn_dl, val_dl)\n",
    "    dps = np.array([0.4, 0.5, 0.05, 0.3, 0.1])\n",
    "\n",
    "    m = get_rnn_classifer(bptt, 20*70, c, vs, emb_sz=em_sz, n_hid=nh, n_layers=nl, pad_token=1,\n",
    "              layers=[em_sz*3, 50, c], drops=[dps[4], 0.1],\n",
    "              dropouti=dps[0], wdrop=dps[1], dropoute=dps[2], dropouth=dps[3])\n",
    "\n",
    "    opt_fn = partial(optim.Adam, betas=(0.7, 0.99))\n",
    "\n",
    "    learn = RNN_Learner(md, TextModel(to_gpu(m)), opt_fn=opt_fn)\n",
    "    learn.reg_fn = partial(seq2seq_reg, alpha=2, beta=1)\n",
    "    learn.clip=25.\n",
    "    learn.metrics = [accuracy]\n",
    "\n",
    "    lr=8*1e-3\n",
    "    lrm = 2.6\n",
    "    lrs = np.array([lr/(lrm**4), lr/(lrm**3), lr/(lrm**2), lr/lrm, lr])\n",
    "\n",
    "    lrs=np.array([1e-4,1e-4,1e-4,1e-3,1e-2])\n",
    "\n",
    "    wd = 1e-7\n",
    "    wd = 0\n",
    "    learn.load_encoder('lm1_enc')\n",
    "\n",
    "    learn.freeze_to(-1)\n",
    "\n",
    "    # Find th learning rate\n",
    "    learn.lr_find(lrs/1000)\n",
    "\n",
    "    # Run one epoch on the classification layer\n",
    "    learn.fit(lrs, 1, wds=wd, cycle_len=1, use_clr=(8,3))\n",
    "\n",
    "    # Save the trained model\n",
    "    learn.save(f'{trn_size}clas_0')\n",
    "    learn.load(f'{trn_size}clas_0')\n",
    "\n",
    "    # Gradually unfreeze another layer to train a bit more parameters than just the classifier layer\n",
    "    learn.freeze_to(-2)\n",
    "    learn.fit(lrs, 1, wds=wd, cycle_len=1, use_clr=(8,3))\n",
    "\n",
    "    # Save the trained model\n",
    "    learn.save(f'{trn_size}clas_1')\n",
    "    learn.load(f'{trn_size}clas_1')\n",
    "\n",
    "    # Unfreeze everything and train for a few epochs on the whole set of parameters of the model\n",
    "    learn.unfreeze()\n",
    "    learn.fit(lrs, 1, wds=wd, cycle_len=14, use_clr=(32,10))\n",
    "\n",
    "    # Save the model\n",
    "    learn.sched.plot_loss()\n",
    "    learn.save(f'{trn_size}clas_2')"
   ]
  },
  {
   "cell_type": "code",
   "execution_count": 88,
   "metadata": {},
   "outputs": [
    {
     "name": "stdout",
     "output_type": "stream",
     "text": [
      "##################################################\n",
      "Experiment with training size 5000\n"
     ]
    },
    {
     "data": {
      "application/vnd.jupyter.widget-view+json": {
       "model_id": "6d624ae0a89644c4a43f02f4037d9780",
       "version_major": 2,
       "version_minor": 0
      },
      "text/plain": [
       "HBox(children=(IntProgress(value=0, description='Epoch', max=1), HTML(value='')))"
      ]
     },
     "metadata": {},
     "output_type": "display_data"
    },
    {
     "name": "stdout",
     "output_type": "stream",
     "text": [
      " 78%|███████▊  | 163/209 [00:03<00:00, 46.23it/s, loss=2.77] \n",
      "                                                            \r"
     ]
    },
    {
     "data": {
      "application/vnd.jupyter.widget-view+json": {
       "model_id": "0c8ce354be284e29ab1fbf1ae15f02e6",
       "version_major": 2,
       "version_minor": 0
      },
      "text/plain": [
       "HBox(children=(IntProgress(value=0, description='Epoch', max=1), HTML(value='')))"
      ]
     },
     "metadata": {},
     "output_type": "display_data"
    },
    {
     "name": "stdout",
     "output_type": "stream",
     "text": [
      "epoch      trn_loss   val_loss   accuracy                    \n",
      "    0      0.548409   0.444638   0.782537  \n",
      "\n"
     ]
    },
    {
     "data": {
      "application/vnd.jupyter.widget-view+json": {
       "model_id": "1716cfea8ef24f0faeeb848ed0df0c1d",
       "version_major": 2,
       "version_minor": 0
      },
      "text/plain": [
       "HBox(children=(IntProgress(value=0, description='Epoch', max=1), HTML(value='')))"
      ]
     },
     "metadata": {},
     "output_type": "display_data"
    },
    {
     "name": "stdout",
     "output_type": "stream",
     "text": [
      "epoch      trn_loss   val_loss   accuracy                    \n",
      "    0      0.502754   0.419325   0.806826  \n",
      "\n"
     ]
    },
    {
     "data": {
      "application/vnd.jupyter.widget-view+json": {
       "model_id": "67e33e84eb4a41df81268bd2ad87ff97",
       "version_major": 2,
       "version_minor": 0
      },
      "text/plain": [
       "HBox(children=(IntProgress(value=0, description='Epoch', max=14), HTML(value='')))"
      ]
     },
     "metadata": {},
     "output_type": "display_data"
    },
    {
     "name": "stdout",
     "output_type": "stream",
     "text": [
      "epoch      trn_loss   val_loss   accuracy                    \n",
      "    0      0.502227   0.409025   0.805719  \n",
      "    1      0.462852   0.371937   0.812395                    \n",
      "    2      0.440868   0.356575   0.841506                    \n",
      "    3      0.431785   0.287205   0.863397                    \n",
      "    4      0.429174   0.270389   0.877179                    \n",
      "    5      0.394291   0.245491   0.890986                    \n",
      "    6      0.357557   0.229226   0.906387                    \n",
      "    7      0.354658   0.214555   0.912972                    \n",
      "    8      0.347907   0.201576   0.918701                    \n",
      "    9      0.34676    0.20007    0.922427                    \n",
      "    10     0.317116   0.18687    0.927657                    \n",
      "    11     0.334284   0.185894   0.930143                    \n",
      "    12     0.331265   0.18158    0.934821                    \n",
      "    13     0.328528   0.181902   0.93271                     \n",
      "\n",
      "Time cost: 325.65082001686096\n",
      "##################################################\n",
      "Experiment with training size 10000\n"
     ]
    },
    {
     "data": {
      "application/vnd.jupyter.widget-view+json": {
       "model_id": "c8838c0567a248e88069893f2e52e078",
       "version_major": 2,
       "version_minor": 0
      },
      "text/plain": [
       "HBox(children=(IntProgress(value=0, description='Epoch', max=1), HTML(value='')))"
      ]
     },
     "metadata": {},
     "output_type": "display_data"
    },
    {
     "name": "stdout",
     "output_type": "stream",
     "text": [
      " 77%|███████▋  | 321/417 [00:06<00:01, 48.13it/s, loss=2.26] \n",
      "                                                            \r"
     ]
    },
    {
     "data": {
      "application/vnd.jupyter.widget-view+json": {
       "model_id": "b82f6e79f6ba4401aea84aa8127bc3ed",
       "version_major": 2,
       "version_minor": 0
      },
      "text/plain": [
       "HBox(children=(IntProgress(value=0, description='Epoch', max=1), HTML(value='')))"
      ]
     },
     "metadata": {},
     "output_type": "display_data"
    },
    {
     "name": "stdout",
     "output_type": "stream",
     "text": [
      "epoch      trn_loss   val_loss   accuracy                    \n",
      "    0      0.51424    0.432293   0.791175  \n",
      "\n"
     ]
    },
    {
     "data": {
      "application/vnd.jupyter.widget-view+json": {
       "model_id": "77bb513b70254dc786eaad647397b050",
       "version_major": 2,
       "version_minor": 0
      },
      "text/plain": [
       "HBox(children=(IntProgress(value=0, description='Epoch', max=1), HTML(value='')))"
      ]
     },
     "metadata": {},
     "output_type": "display_data"
    },
    {
     "name": "stdout",
     "output_type": "stream",
     "text": [
      "epoch      trn_loss   val_loss   accuracy                    \n",
      "    0      0.468903   0.388176   0.811912  \n",
      "\n"
     ]
    },
    {
     "data": {
      "application/vnd.jupyter.widget-view+json": {
       "model_id": "5d07c09bd3904d70b5d0122383b29532",
       "version_major": 2,
       "version_minor": 0
      },
      "text/plain": [
       "HBox(children=(IntProgress(value=0, description='Epoch', max=14), HTML(value='')))"
      ]
     },
     "metadata": {},
     "output_type": "display_data"
    },
    {
     "name": "stdout",
     "output_type": "stream",
     "text": [
      "epoch      trn_loss   val_loss   accuracy                    \n",
      "    0      0.492794   0.362763   0.830652  \n",
      "    1      0.435984   0.313295   0.841098                    \n",
      "    2      0.431934   0.270482   0.886701                    \n",
      "    3      0.366815   0.209779   0.904968                    \n",
      "    4      0.339072   0.180189   0.922311                    \n",
      "    5      0.310951   0.171649   0.934491                    \n",
      "    6      0.294707   0.138714   0.950548                    \n",
      "    7      0.290759   0.13114    0.95308                     \n",
      "    8      0.268927   0.120999   0.962837                    \n",
      "    9      0.275971   0.11571    0.959415                    \n",
      "    10     0.227801   0.103953   0.966997                    \n",
      "    11     0.210744   0.197728   0.961985                    \n",
      "    12     0.217479   0.099093   0.968392                    \n",
      "    13     0.215273   0.093445   0.969047                    \n",
      "\n",
      "Time cost: 488.38548851013184\n",
      "##################################################\n",
      "Experiment with training size 20000\n"
     ]
    },
    {
     "data": {
      "application/vnd.jupyter.widget-view+json": {
       "model_id": "cf6f914faa214e7c919a14ded14dad47",
       "version_major": 2,
       "version_minor": 0
      },
      "text/plain": [
       "HBox(children=(IntProgress(value=0, description='Epoch', max=1), HTML(value='')))"
      ]
     },
     "metadata": {},
     "output_type": "display_data"
    },
    {
     "name": "stdout",
     "output_type": "stream",
     "text": [
      " 76%|███████▌  | 632/834 [00:12<00:03, 51.51it/s, loss=2.24] "
     ]
    },
    {
     "data": {
      "application/vnd.jupyter.widget-view+json": {
       "model_id": "2c1b30906dcb469fa456ee12cfccab26",
       "version_major": 2,
       "version_minor": 0
      },
      "text/plain": [
       "HBox(children=(IntProgress(value=0, description='Epoch', max=1), HTML(value='')))"
      ]
     },
     "metadata": {},
     "output_type": "display_data"
    },
    {
     "name": "stdout",
     "output_type": "stream",
     "text": [
      " 47%|████▋     | 391/834 [00:07<00:08, 51.32it/s, loss=0.523]\n",
      " 48%|████▊     | 402/834 [00:07<00:08, 51.36it/s, loss=0.518]"
     ]
    },
    {
     "name": "stderr",
     "output_type": "stream",
     "text": [
      "Exception in thread Thread-141:\n",
      "Traceback (most recent call last):\n",
      "  File \"/home/paperspace/anaconda3/envs/fastai/lib/python3.6/threading.py\", line 916, in _bootstrap_inner\n",
      "    self.run()\n",
      "  File \"/home/paperspace/anaconda3/envs/fastai/lib/python3.6/site-packages/tqdm/_monitor.py\", line 62, in run\n",
      "    for instance in self.tqdm_cls._instances:\n",
      "  File \"/home/paperspace/anaconda3/envs/fastai/lib/python3.6/_weakrefset.py\", line 60, in __iter__\n",
      "    for itemref in self.data:\n",
      "RuntimeError: Set changed size during iteration\n",
      "\n"
     ]
    },
    {
     "name": "stdout",
     "output_type": "stream",
     "text": [
      "epoch      trn_loss   val_loss   accuracy                    \n",
      "    0      0.541848   0.42995    0.79938   \n",
      "\n"
     ]
    },
    {
     "data": {
      "application/vnd.jupyter.widget-view+json": {
       "model_id": "5d5fe73e1e5a4213aa20a5aa65d47820",
       "version_major": 2,
       "version_minor": 0
      },
      "text/plain": [
       "HBox(children=(IntProgress(value=0, description='Epoch', max=1), HTML(value='')))"
      ]
     },
     "metadata": {},
     "output_type": "display_data"
    },
    {
     "name": "stdout",
     "output_type": "stream",
     "text": [
      "epoch      trn_loss   val_loss   accuracy                    \n",
      "    0      0.49641    0.374463   0.819454  \n",
      "\n"
     ]
    },
    {
     "data": {
      "application/vnd.jupyter.widget-view+json": {
       "model_id": "ff07689084b6449f8ea8dac0a8f3581a",
       "version_major": 2,
       "version_minor": 0
      },
      "text/plain": [
       "HBox(children=(IntProgress(value=0, description='Epoch', max=14), HTML(value='')))"
      ]
     },
     "metadata": {},
     "output_type": "display_data"
    },
    {
     "name": "stdout",
     "output_type": "stream",
     "text": [
      "epoch      trn_loss   val_loss   accuracy                    \n",
      "    0      0.445363   0.30093    0.855615  \n",
      "    1      0.392319   0.229905   0.889938                    \n",
      "    2      0.337504   0.153201   0.935064                    \n",
      "    3      0.260594   0.115498   0.957016                    \n",
      "    4      0.243977   0.100189   0.966412                    \n",
      "    5      0.229993   0.073438   0.976167                    \n",
      "    6      0.221137   0.052209   0.982721                    \n",
      "    7      0.163094   0.045612   0.984814                    \n",
      "    8      0.143702   0.047286   0.984284                    \n",
      "    9      0.155835   0.038319   0.988058                    \n",
      "    10     0.129367   0.033788   0.989716                    \n",
      "    11     0.141366   0.031387   0.990339                    \n",
      "    12     0.124905   0.03055    0.990436                    \n",
      "    13     0.10528    0.030271   0.991665                     \n",
      "\n",
      "Time cost: 806.5760455131531\n",
      "##################################################\n",
      "Experiment with training size 50000\n"
     ]
    },
    {
     "data": {
      "application/vnd.jupyter.widget-view+json": {
       "model_id": "c45dc82d9be64058a997d9ffeccfab7f",
       "version_major": 2,
       "version_minor": 0
      },
      "text/plain": [
       "HBox(children=(IntProgress(value=0, description='Epoch', max=1), HTML(value='')))"
      ]
     },
     "metadata": {},
     "output_type": "display_data"
    },
    {
     "name": "stdout",
     "output_type": "stream",
     "text": [
      " 77%|███████▋  | 1609/2084 [00:33<00:09, 47.81it/s, loss=2.17] "
     ]
    },
    {
     "data": {
      "application/vnd.jupyter.widget-view+json": {
       "model_id": "a52564f0da1e4200a294615240156879",
       "version_major": 2,
       "version_minor": 0
      },
      "text/plain": [
       "HBox(children=(IntProgress(value=0, description='Epoch', max=1), HTML(value='')))"
      ]
     },
     "metadata": {},
     "output_type": "display_data"
    },
    {
     "name": "stdout",
     "output_type": "stream",
     "text": [
      " 15%|█▌        | 322/2084 [00:06<00:34, 51.63it/s, loss=0.531]\n",
      " 16%|█▌        | 328/2084 [00:06<00:34, 50.80it/s, loss=0.543]"
     ]
    },
    {
     "name": "stderr",
     "output_type": "stream",
     "text": [
      "Exception in thread Thread-160:\n",
      "Traceback (most recent call last):\n",
      "  File \"/home/paperspace/anaconda3/envs/fastai/lib/python3.6/threading.py\", line 916, in _bootstrap_inner\n",
      "    self.run()\n",
      "  File \"/home/paperspace/anaconda3/envs/fastai/lib/python3.6/site-packages/tqdm/_monitor.py\", line 62, in run\n",
      "    for instance in self.tqdm_cls._instances:\n",
      "  File \"/home/paperspace/anaconda3/envs/fastai/lib/python3.6/_weakrefset.py\", line 60, in __iter__\n",
      "    for itemref in self.data:\n",
      "RuntimeError: Set changed size during iteration\n",
      "\n"
     ]
    },
    {
     "name": "stdout",
     "output_type": "stream",
     "text": [
      "epoch      trn_loss   val_loss   accuracy                      \n",
      "    0      0.512039   0.396917   0.811717  \n",
      "\n"
     ]
    },
    {
     "data": {
      "application/vnd.jupyter.widget-view+json": {
       "model_id": "47667d54b0b14f158532999e382e8c24",
       "version_major": 2,
       "version_minor": 0
      },
      "text/plain": [
       "HBox(children=(IntProgress(value=0, description='Epoch', max=1), HTML(value='')))"
      ]
     },
     "metadata": {},
     "output_type": "display_data"
    },
    {
     "name": "stdout",
     "output_type": "stream",
     "text": [
      "epoch      trn_loss   val_loss   accuracy                      \n",
      "    0      0.467239   0.383675   0.851861  \n",
      "\n"
     ]
    },
    {
     "data": {
      "application/vnd.jupyter.widget-view+json": {
       "model_id": "98595af7f8a34861bebeb45ab469ae9f",
       "version_major": 2,
       "version_minor": 0
      },
      "text/plain": [
       "HBox(children=(IntProgress(value=0, description='Epoch', max=14), HTML(value='')))"
      ]
     },
     "metadata": {},
     "output_type": "display_data"
    },
    {
     "name": "stdout",
     "output_type": "stream",
     "text": [
      "epoch      trn_loss   val_loss   accuracy                      \n",
      "    0      0.412721   0.207458   0.910967  \n",
      "    1      0.287124   0.107283   0.961256                      \n",
      "    2      0.197678   0.045699   0.98376                       \n",
      "    3      0.14974    0.03535    0.988937                      \n",
      "    4      0.123104   1.869082   0.990353                       \n",
      "    5      0.098854   0.014932   0.9953                         \n",
      "    6      0.077013   0.010266   0.996237                       \n",
      "    7      0.073039   0.009008   0.996997                       \n",
      "    8      0.048546   0.007219   0.997651                       \n",
      "    9      0.056272   0.007357   0.997854                       \n",
      "    10     0.052742   0.006348   0.998071                       \n",
      "    11     0.039074   0.006886   0.997262                       \n",
      "    12     0.039024   0.006422   0.997692                       \n",
      "    13     0.036743   0.006633   0.997889                       \n",
      "\n",
      "Time cost: 1803.1368939876556\n",
      "##################################################\n",
      "Experiment with training size 100000\n"
     ]
    },
    {
     "data": {
      "application/vnd.jupyter.widget-view+json": {
       "model_id": "a1ee0807569441c184ec95e7baa4082b",
       "version_major": 2,
       "version_minor": 0
      },
      "text/plain": [
       "HBox(children=(IntProgress(value=0, description='Epoch', max=1), HTML(value='')))"
      ]
     },
     "metadata": {},
     "output_type": "display_data"
    },
    {
     "name": "stdout",
     "output_type": "stream",
     "text": [
      " 78%|███████▊  | 3237/4167 [01:07<00:19, 48.23it/s, loss=2.17] "
     ]
    },
    {
     "data": {
      "application/vnd.jupyter.widget-view+json": {
       "model_id": "82d37f413d9642e09aac8e16a1ca7e5b",
       "version_major": 2,
       "version_minor": 0
      },
      "text/plain": [
       "HBox(children=(IntProgress(value=0, description='Epoch', max=1), HTML(value='')))"
      ]
     },
     "metadata": {},
     "output_type": "display_data"
    },
    {
     "name": "stdout",
     "output_type": "stream",
     "text": [
      "  3%|▎         | 137/4167 [00:02<01:21, 49.49it/s, loss=0.573]\n",
      "  3%|▎         | 143/4167 [00:02<01:24, 47.86it/s, loss=0.563]"
     ]
    },
    {
     "name": "stderr",
     "output_type": "stream",
     "text": [
      "Exception in thread Thread-179:\n",
      "Traceback (most recent call last):\n",
      "  File \"/home/paperspace/anaconda3/envs/fastai/lib/python3.6/threading.py\", line 916, in _bootstrap_inner\n",
      "    self.run()\n",
      "  File \"/home/paperspace/anaconda3/envs/fastai/lib/python3.6/site-packages/tqdm/_monitor.py\", line 62, in run\n",
      "    for instance in self.tqdm_cls._instances:\n",
      "  File \"/home/paperspace/anaconda3/envs/fastai/lib/python3.6/_weakrefset.py\", line 60, in __iter__\n",
      "    for itemref in self.data:\n",
      "RuntimeError: Set changed size during iteration\n",
      "\n"
     ]
    },
    {
     "name": "stdout",
     "output_type": "stream",
     "text": [
      "epoch      trn_loss   val_loss   accuracy                      \n",
      "    0      0.491165   0.385818   0.818369  \n",
      "\n"
     ]
    },
    {
     "data": {
      "application/vnd.jupyter.widget-view+json": {
       "model_id": "5cf4b03855284572a6f05ed3734684e0",
       "version_major": 2,
       "version_minor": 0
      },
      "text/plain": [
       "HBox(children=(IntProgress(value=0, description='Epoch', max=1), HTML(value='')))"
      ]
     },
     "metadata": {},
     "output_type": "display_data"
    },
    {
     "name": "stdout",
     "output_type": "stream",
     "text": [
      "epoch      trn_loss   val_loss   accuracy                      \n",
      "    0      0.447741   0.241771   0.89815   \n",
      "\n"
     ]
    },
    {
     "data": {
      "application/vnd.jupyter.widget-view+json": {
       "model_id": "b1fd20b7a07247229dccf434f99e5971",
       "version_major": 2,
       "version_minor": 0
      },
      "text/plain": [
       "HBox(children=(IntProgress(value=0, description='Epoch', max=14), HTML(value='')))"
      ]
     },
     "metadata": {},
     "output_type": "display_data"
    },
    {
     "name": "stdout",
     "output_type": "stream",
     "text": [
      "epoch      trn_loss   val_loss   accuracy                      \n",
      "    0      0.307444   0.112058   0.961991  \n",
      "    1      0.175146   0.031443   0.989156                      \n",
      "    2      0.091989   0.012149   0.996102                       \n",
      "    3      0.080843   0.007811   0.997405                       \n",
      "    4      0.065049   0.007125   0.996862                       \n",
      "    5      0.031886   0.006496   0.997776                       \n",
      "    6      0.022471   0.128255   0.997577                       \n",
      "    7      0.027662   0.005358   0.997924                       \n",
      "    8      0.033075   0.004114   0.998545                       \n",
      "    9      0.020109   0.003824   0.998485                       \n",
      "    10     0.021611   0.004277   0.998557                        \n",
      "    11     0.020516   0.003831   0.998545                        \n",
      "    12     0.04318    0.003973   0.998485                        \n",
      "    13     0.016327   0.003839   0.998557                        \n",
      "\n",
      "Time cost: 3485.108739376068\n",
      "##################################################\n",
      "Experiment with training size 119253\n"
     ]
    },
    {
     "data": {
      "application/vnd.jupyter.widget-view+json": {
       "model_id": "6c3fe22afa4e48818805ddecef381920",
       "version_major": 2,
       "version_minor": 0
      },
      "text/plain": [
       "HBox(children=(IntProgress(value=0, description='Epoch', max=1), HTML(value='')))"
      ]
     },
     "metadata": {},
     "output_type": "display_data"
    },
    {
     "name": "stdout",
     "output_type": "stream",
     "text": [
      " 76%|███████▌  | 3787/4969 [01:20<00:25, 47.10it/s, loss=2.03] "
     ]
    },
    {
     "data": {
      "application/vnd.jupyter.widget-view+json": {
       "model_id": "008e4b5f87c64178b2ab67284e64a389",
       "version_major": 2,
       "version_minor": 0
      },
      "text/plain": [
       "HBox(children=(IntProgress(value=0, description='Epoch', max=1), HTML(value='')))"
      ]
     },
     "metadata": {},
     "output_type": "display_data"
    },
    {
     "name": "stdout",
     "output_type": "stream",
     "text": [
      " 10%|▉         | 479/4969 [00:09<01:28, 50.47it/s, loss=0.5]  \n",
      " 10%|▉         | 491/4969 [00:09<01:28, 50.65it/s, loss=0.489]"
     ]
    },
    {
     "name": "stderr",
     "output_type": "stream",
     "text": [
      "Exception in thread Thread-198:\n",
      "Traceback (most recent call last):\n",
      "  File \"/home/paperspace/anaconda3/envs/fastai/lib/python3.6/threading.py\", line 916, in _bootstrap_inner\n",
      "    self.run()\n",
      "  File \"/home/paperspace/anaconda3/envs/fastai/lib/python3.6/site-packages/tqdm/_monitor.py\", line 62, in run\n",
      "    for instance in self.tqdm_cls._instances:\n",
      "  File \"/home/paperspace/anaconda3/envs/fastai/lib/python3.6/_weakrefset.py\", line 60, in __iter__\n",
      "    for itemref in self.data:\n",
      "RuntimeError: Set changed size during iteration\n",
      "\n"
     ]
    },
    {
     "name": "stdout",
     "output_type": "stream",
     "text": [
      "epoch      trn_loss   val_loss   accuracy                      \n",
      "    0      0.507158   0.387984   0.811722  \n",
      "\n"
     ]
    },
    {
     "data": {
      "application/vnd.jupyter.widget-view+json": {
       "model_id": "56e77634bf1247da91ddadf04aedcece",
       "version_major": 2,
       "version_minor": 0
      },
      "text/plain": [
       "HBox(children=(IntProgress(value=0, description='Epoch', max=1), HTML(value='')))"
      ]
     },
     "metadata": {},
     "output_type": "display_data"
    },
    {
     "name": "stdout",
     "output_type": "stream",
     "text": [
      "epoch      trn_loss   val_loss   accuracy                      \n",
      "    0      0.40437    0.20127    0.917377  \n",
      "\n"
     ]
    },
    {
     "data": {
      "application/vnd.jupyter.widget-view+json": {
       "model_id": "90aa09fbc19341e79ade4fc647478cee",
       "version_major": 2,
       "version_minor": 0
      },
      "text/plain": [
       "HBox(children=(IntProgress(value=0, description='Epoch', max=14), HTML(value='')))"
      ]
     },
     "metadata": {},
     "output_type": "display_data"
    },
    {
     "name": "stdout",
     "output_type": "stream",
     "text": [
      "epoch      trn_loss   val_loss   accuracy                      \n",
      "    0      0.266336   0.080177   0.972292  \n",
      "    1      0.14068    0.026482   0.992364                      \n",
      "    2      0.078986   0.009519   0.997079                       \n",
      "    3      0.057023   0.006514   0.998201                       \n",
      "    4      0.042397   0.006081   0.997998                       \n",
      "    5      0.040642   0.005251   0.996426                       \n",
      "    6      0.032915   0.004018   0.998649                       \n",
      "    7      0.025352   0.004134   0.998522                       \n",
      "    8      0.020201   0.007255   0.995886                       \n",
      "    9      0.026082   0.004387   0.998234                        \n",
      "    10     0.013802   0.004079   0.998649                        \n",
      "    11     0.018014   0.004303   0.998234                        \n",
      "    12     0.013578   0.004481   0.998277                        \n",
      "    13     0.021676   0.004321   0.998692                        \n",
      "\n",
      "Time cost: 4030.9206414222717\n"
     ]
    },
    {
     "data": {
      "image/png": "[encoded data removed]",
      "text/plain": [
       "<Figure size 432x288 with 1 Axes>"
      ]
     },
     "metadata": {},
     "output_type": "display_data"
    }
   ],
   "source": [
    "# The train data contains 119253 examples\n",
    "# The test data contains 39752 examples\n",
    "from time import time\n",
    "val_size = 22905\n",
    "for trn_size in [5000, 10000, 20000, 50000, 100000, 119253]:\n",
    "    print('#'*50)\n",
    "    print(f'Experiment with training size {trn_size}')\n",
    "    start = time()\n",
    "    experiment(trn_size, val_size)\n",
    "    t = time() - start\n",
    "    print(f'Time cost: {t}')"
   ]
  },
  {
   "cell_type": "code",
   "execution_count": 89,
   "metadata": {},
   "outputs": [],
   "source": [
    "learn.load(f'119253clas_2')"
   ]
  },
  {
   "cell_type": "code",
   "execution_count": 90,
   "metadata": {},
   "outputs": [
    {
     "name": "stdout",
     "output_type": "stream",
     "text": [
      "0\n",
      "1000\n",
      "2000\n",
      "3000\n",
      "4000\n",
      "5000\n",
      "6000\n",
      "7000\n",
      "8000\n",
      "9000\n",
      "10000\n",
      "11000\n",
      "12000\n",
      "13000\n",
      "14000\n",
      "15000\n",
      "16000\n",
      "17000\n",
      "18000\n",
      "19000\n",
      "20000\n",
      "21000\n",
      "22000\n",
      "23000\n",
      "24000\n",
      "25000\n",
      "26000\n",
      "27000\n",
      "28000\n",
      "29000\n",
      "30000\n",
      "31000\n",
      "32000\n",
      "33000\n",
      "34000\n",
      "35000\n",
      "36000\n",
      "37000\n",
      "38000\n",
      "39000\n"
     ]
    }
   ],
   "source": [
    "y = prediction(list(val_clas))"
   ]
  },
  {
   "cell_type": "code",
   "execution_count": 91,
   "metadata": {},
   "outputs": [
    {
     "name": "stdout",
     "output_type": "stream",
     "text": [
      "Accuracy --> 0.9968051921915878\n",
      "Precision --> 0.999104898956863\n",
      "F1 score --> 0.9978167064931492\n",
      "Recall score --> 0.9965318316049722\n",
      "[[10604    26]\n",
      " [  101 29021]]\n",
      "             precision    recall  f1-score   support\n",
      "\n",
      "          0       0.99      1.00      0.99     10630\n",
      "          1       1.00      1.00      1.00     29122\n",
      "\n",
      "avg / total       1.00      1.00      1.00     39752\n",
      "\n"
     ]
    }
   ],
   "source": [
    "# trn_size = 119253\n",
    "# val_size = 5000\n",
    "print(f'Accuracy --> {accuracy_score(y, val_labels)}')\n",
    "print(f'Precision --> {precision_score(y, val_labels)}')\n",
    "print(f'F1 score --> {f1_score(y, val_labels)}')\n",
    "print(f'Recall score --> {recall_score(y, val_labels)}')\n",
    "print(confusion_matrix(y, val_labels))\n",
    "print(classification_report(y, val_labels))"
   ]
  },
  {
   "cell_type": "markdown",
   "metadata": {},
   "source": [
    "Some notebook issues here, you might want to run this cell from a python script..."
   ]
  },
  {
   "cell_type": "code",
   "execution_count": 92,
   "metadata": {},
   "outputs": [
    {
     "name": "stdout",
     "output_type": "stream",
     "text": [
      "0\n"
     ]
    }
   ],
   "source": [
    "y = prediction(list(val_clas)[:100])"
   ]
  },
  {
   "cell_type": "code",
   "execution_count": 93,
   "metadata": {},
   "outputs": [
    {
     "name": "stdout",
     "output_type": "stream",
     "text": [
      "Precision --> 1.0\n",
      "F1 score --> 1.0\n",
      "Recall score --> 1.0\n",
      "[[20  0]\n",
      " [ 0 80]]\n",
      "             precision    recall  f1-score   support\n",
      "\n",
      "          0       1.00      1.00      1.00        20\n",
      "          1       1.00      1.00      1.00        80\n",
      "\n",
      "avg / total       1.00      1.00      1.00       100\n",
      "\n"
     ]
    }
   ],
   "source": [
    "print(f'Precision --> {precision_score(y, val_labels[:100])}')\n",
    "print(f'F1 score --> {f1_score(y, val_labels[:100])}')\n",
    "print(f'Recall score --> {recall_score(y, val_labels[:100])}')\n",
    "print(confusion_matrix(y, val_labels[:100]))\n",
    "print(classification_report(y, val_labels[:100]))"
   ]
  },
  {
   "cell_type": "code",
   "execution_count": null,
   "metadata": {},
   "outputs": [],
   "source": []
  }
 ],
 "metadata": {
  "kernelspec": {
   "display_name": "Python 3",
   "language": "python",
   "name": "python3"
  },
  "language_info": {
   "codemirror_mode": {
    "name": "ipython",
    "version": 3
   },
   "file_extension": ".py",
   "mimetype": "text/x-python",
   "name": "python",
   "nbconvert_exporter": "python",
   "pygments_lexer": "ipython3",
   "version": "3.6.5"
  }
 },
 "nbformat": 4,
 "nbformat_minor": 2
}
