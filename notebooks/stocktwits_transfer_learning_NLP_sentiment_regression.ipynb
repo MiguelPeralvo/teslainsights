{
 "cells": [
  {
   "cell_type": "markdown",
   "metadata": {},
   "source": [
    "# Transfer Learning for NLP: Sentiment Analysis on Stocktwits\n",
    "This notebook has used the \"Transfer Learning in NLP\" Feedlys' [notebook](https://github.com/feedly/ml-demos/blob/master/source/TransferLearningNLP.ipynb) described in this [article](https://blog.feedly.com/transfer-learning-in-nlp) as starting point.\n",
    "\n",
    "In this notebook, we show how transfer learning can be applied to detecting the sentiment of stocktwits for the TSLA ticker, between bulls and bears.\n",
    "\n",
    "This notebook uses the work from [Howard and Ruder, Ulmfit](https://arxiv.org/pdf/1801.06146.pdf).\n",
    "The idea of the paper (and it implementation explained in the [fast.ai deep learning course](http://course.fast.ai/lessons/lesson10.html)) is to learn a language model trained on a very large dataset, e.g. a Wikipedia dump. The intuition is that if a model is able to predict the next word at each word, it means it has learnt something about the structure of the language we are using.\n",
    "\n",
    "[Word2vec](https://arxiv.org/pdf/1310.4546.pdf) and the likes have lead to huge improvements on various NLP tasks. This could be seen as a first step to transfer learning, where the pre-trained word vectors correspond to a transfer of the embedding layer.\n",
    "The ambition of [Ulmfit](https://arxiv.org/pdf/1801.06146.pdf) (and others like [ELMO](https://arxiv.org/pdf/1802.05365.pdf) or the [Transformer language model](https://s3-us-west-2.amazonaws.com/openai-assets/research-covers/language-unsupervised/language_understanding_paper.pdf) recently introduced) is to progressively move the NLP field to the state where Computer Vision has risen thanks to the ImageNet challenge. Thanks to the ImageNet chalenge, today it is easy to download a model pre-trained on massive dataset of images, remove the last layer and replace it by a classifier or a regressor depending on the interest. \n",
    "\n",
    "With Ulmfit, the goal is for everyone to be able to use a pre-trained language model and use it a backbone which we can use along with a classifier and a regressor. The game-changing apect of transfer learning is that we are no longer limited by the size of trzining data! With only a fraction of the data size that was necessary before, we can trtain a classifier/regressor and have very good result with few labelled data.\n",
    "\n",
    "Given that labelled text data are difficult to get, in comparison with unlabelled text data which is almost infinite, transfer learning is likely to change radically the field of NLP, and help lead to a maturity state closer to computyer vision.\n",
    "\n",
    "The architecture for the language model used in ULMFit is the [AWD-LSTM language model](https://arxiv.org/pdf/1708.02182.pdf) by Merity.\n",
    "\n",
    "While we are using this language model for this experiment, we keep an eye open to a recently proposed character language model with [Contextual String Embedings](http://alanakbik.github.io/papers/coling2018.pdf) by Akbik."
   ]
  },
  {
   "cell_type": "markdown",
   "metadata": {},
   "source": [
    "# Content of this notebook"
   ]
  },
  {
   "cell_type": "markdown",
   "metadata": {},
   "source": [
    "The data consists of around 100K stocktwits that are either bullish or bearish. Training a model, with the whole training labelled dataset (68K stocktwits) and our classifier results in a f1 score of 0.90.\n",
    "\n",
    "Note that if you are interested in Regression instead of classification, you can also do it following this [advice](http://forums.fast.ai/t/regression-using-ulmfit/18063/6)."
   ]
  },
  {
   "cell_type": "markdown",
   "metadata": {},
   "source": [
    "The notebook is organized as such:\n",
    "\n",
    "- Tokenize the reviews and create dictionaries\n",
    "- Download a pre-trained model and link the dictionary to the embedding layer of the model\n",
    "- Fine-tune the language model on the amaxon reviews texts\n",
    "\n",
    "We have then the backbone of our algorithm: a pre-trained language model fine-tuned on Stocktweets\n",
    "\n",
    "- Add a classifier to the language model and train the classifier layer only\n",
    "- Gradually defreeze successive layers to train different layers on the Stocktweets\n",
    "- Run a full classification task for several epochs\n",
    "- Use the model for inference!\n",
    "\n",
    "We end this notebook by looking at the specific effect of training size on the overall performance. This is to test the hypothesis that the ULMFit model does not need much labeled data to perform well."
   ]
  },
  {
   "cell_type": "markdown",
   "metadata": {},
   "source": [
    "# Data"
   ]
  },
  {
   "cell_type": "markdown",
   "metadata": {},
   "source": [
    "Also, we recommend working on a dedicated environment (e.g. mkvirtualenv fastai). Then clone the fastai github repo https://github.com/fastai/fastai and install requirements."
   ]
  },
  {
   "cell_type": "code",
   "execution_count": 1,
   "metadata": {},
   "outputs": [],
   "source": [
    "# root_path = '/home/ubuntu/data'\n",
    "root_path = '/home/paperspace/data'\n",
    "path = './data/stocktwits_posts'\n",
    "data_file_nonextension_name = 'stocktwits_preprocessed_20180706T115955Z_20180827'\n",
    "data_file = f'{path}/{data_file_nonextension_name}.json.gz'"
   ]
  },
  {
   "cell_type": "code",
   "execution_count": 64,
   "metadata": {},
   "outputs": [],
   "source": [
    "#! pip install fastai==0.7\n",
    "#! conda install -y spacy"
   ]
  },
  {
   "cell_type": "code",
   "execution_count": 65,
   "metadata": {},
   "outputs": [],
   "source": [
    "#! python -m spacy download en"
   ]
  },
  {
   "cell_type": "code",
   "execution_count": 66,
   "metadata": {},
   "outputs": [],
   "source": [
    "#! ln -s \"$root_path\" ./data"
   ]
  },
  {
   "cell_type": "code",
   "execution_count": 67,
   "metadata": {},
   "outputs": [],
   "source": [
    "#! mkdir \"$path\""
   ]
  },
  {
   "cell_type": "code",
   "execution_count": 2,
   "metadata": {},
   "outputs": [],
   "source": [
    "from fastai.text import *\n",
    "from fastai.lm_rnn import *\n",
    "import html\n",
    "import os\n",
    "import pandas as pd\n",
    "import pickle\n",
    "import re\n",
    "from sklearn.metrics import accuracy_score, f1_score, precision_score, recall_score, classification_report, \\\n",
    "confusion_matrix\n",
    "from sklearn.model_selection import train_test_split\n",
    "from time import time"
   ]
  },
  {
   "cell_type": "markdown",
   "metadata": {},
   "source": [
    "# PREPARE DATASETS"
   ]
  },
  {
   "cell_type": "code",
   "execution_count": 3,
   "metadata": {},
   "outputs": [],
   "source": [
    "pd_clean_stocktwits_posts = pd.read_json(\n",
    "    data_file, \n",
    "    orient='records', \n",
    "    lines=True, compression='gzip'\n",
    ")"
   ]
  },
  {
   "cell_type": "code",
   "execution_count": 4,
   "metadata": {},
   "outputs": [
    {
     "data": {
      "text/html": [
       "<div>\n",
       "<style scoped>\n",
       "    .dataframe tbody tr th:only-of-type {\n",
       "        vertical-align: middle;\n",
       "    }\n",
       "\n",
       "    .dataframe tbody tr th {\n",
       "        vertical-align: top;\n",
       "    }\n",
       "\n",
       "    .dataframe thead th {\n",
       "        text-align: right;\n",
       "    }\n",
       "</style>\n",
       "<table border=\"1\" class=\"dataframe\">\n",
       "  <thead>\n",
       "    <tr style=\"text-align: right;\">\n",
       "      <th></th>\n",
       "      <th>clean_body</th>\n",
       "      <th>sentiment</th>\n",
       "      <th>vader_sentiment</th>\n",
       "    </tr>\n",
       "  </thead>\n",
       "  <tbody>\n",
       "    <tr>\n",
       "      <th>0</th>\n",
       "      <td>$TSLA love the stock, but playing ER would be ...</td>\n",
       "      <td>Bullish</td>\n",
       "      <td>0.1779</td>\n",
       "    </tr>\n",
       "    <tr>\n",
       "      <th>1</th>\n",
       "      <td>$FB $AAPL $AMZN $GOOGL $BTC.X $TSLA $MU $BIDU ...</td>\n",
       "      <td>Bullish</td>\n",
       "      <td>-0.4466</td>\n",
       "    </tr>\n",
       "    <tr>\n",
       "      <th>2</th>\n",
       "      <td>$TSLA</td>\n",
       "      <td>Undetermined</td>\n",
       "      <td>0.0000</td>\n",
       "    </tr>\n",
       "    <tr>\n",
       "      <th>3</th>\n",
       "      <td>$NVDA $AMAT $AMZN $FB $MSFT $GOOGL $AMD $NFLX ...</td>\n",
       "      <td>Undetermined</td>\n",
       "      <td>0.0000</td>\n",
       "    </tr>\n",
       "    <tr>\n",
       "      <th>4</th>\n",
       "      <td>Big Trade Blocks for $TSLA (Largest Trade: 0.4...</td>\n",
       "      <td>Undetermined</td>\n",
       "      <td>-0.2263</td>\n",
       "    </tr>\n",
       "  </tbody>\n",
       "</table>\n",
       "</div>"
      ],
      "text/plain": [
       "                                          clean_body     sentiment  \\\n",
       "0  $TSLA love the stock, but playing ER would be ...       Bullish   \n",
       "1  $FB $AAPL $AMZN $GOOGL $BTC.X $TSLA $MU $BIDU ...       Bullish   \n",
       "2                                              $TSLA  Undetermined   \n",
       "3  $NVDA $AMAT $AMZN $FB $MSFT $GOOGL $AMD $NFLX ...  Undetermined   \n",
       "4  Big Trade Blocks for $TSLA (Largest Trade: 0.4...  Undetermined   \n",
       "\n",
       "   vader_sentiment  \n",
       "0           0.1779  \n",
       "1          -0.4466  \n",
       "2           0.0000  \n",
       "3           0.0000  \n",
       "4          -0.2263  "
      ]
     },
     "execution_count": 4,
     "metadata": {},
     "output_type": "execute_result"
    }
   ],
   "source": [
    "pd_clean_stocktwits_posts[['clean_body', 'sentiment', 'vader_sentiment']].head()"
   ]
  },
  {
   "cell_type": "code",
   "execution_count": 5,
   "metadata": {},
   "outputs": [],
   "source": [
    "label_cases = {\n",
    "    'Bullish': 1,\n",
    "    'Bearish': 0,\n",
    "    'Undetermined': 2\n",
    "}\n",
    "\n",
    "def calculate_numeric_label(text_label):\n",
    "    return label_cases[text_label]"
   ]
  },
  {
   "cell_type": "code",
   "execution_count": 6,
   "metadata": {},
   "outputs": [],
   "source": [
    "pd_clean_stocktwits_posts['labels'] = pd_clean_stocktwits_posts['sentiment'].apply(lambda text_label: calculate_numeric_label(text_label))"
   ]
  },
  {
   "cell_type": "code",
   "execution_count": 7,
   "metadata": {},
   "outputs": [],
   "source": [
    "pd_clean_stocktwits_posts = pd_clean_stocktwits_posts.rename({'clean_body': 'text'}, axis='columns')"
   ]
  },
  {
   "cell_type": "code",
   "execution_count": 8,
   "metadata": {},
   "outputs": [
    {
     "data": {
      "text/html": [
       "<div>\n",
       "<style scoped>\n",
       "    .dataframe tbody tr th:only-of-type {\n",
       "        vertical-align: middle;\n",
       "    }\n",
       "\n",
       "    .dataframe tbody tr th {\n",
       "        vertical-align: top;\n",
       "    }\n",
       "\n",
       "    .dataframe thead th {\n",
       "        text-align: right;\n",
       "    }\n",
       "</style>\n",
       "<table border=\"1\" class=\"dataframe\">\n",
       "  <thead>\n",
       "    <tr style=\"text-align: right;\">\n",
       "      <th></th>\n",
       "      <th>text</th>\n",
       "      <th>sentiment</th>\n",
       "      <th>labels</th>\n",
       "      <th>vader_sentiment</th>\n",
       "    </tr>\n",
       "  </thead>\n",
       "  <tbody>\n",
       "    <tr>\n",
       "      <th>0</th>\n",
       "      <td>$TSLA love the stock, but playing ER would be ...</td>\n",
       "      <td>Bullish</td>\n",
       "      <td>1</td>\n",
       "      <td>0.1779</td>\n",
       "    </tr>\n",
       "    <tr>\n",
       "      <th>1</th>\n",
       "      <td>$FB $AAPL $AMZN $GOOGL $BTC.X $TSLA $MU $BIDU ...</td>\n",
       "      <td>Bullish</td>\n",
       "      <td>1</td>\n",
       "      <td>-0.4466</td>\n",
       "    </tr>\n",
       "    <tr>\n",
       "      <th>2</th>\n",
       "      <td>$TSLA</td>\n",
       "      <td>Undetermined</td>\n",
       "      <td>2</td>\n",
       "      <td>0.0000</td>\n",
       "    </tr>\n",
       "    <tr>\n",
       "      <th>3</th>\n",
       "      <td>$NVDA $AMAT $AMZN $FB $MSFT $GOOGL $AMD $NFLX ...</td>\n",
       "      <td>Undetermined</td>\n",
       "      <td>2</td>\n",
       "      <td>0.0000</td>\n",
       "    </tr>\n",
       "    <tr>\n",
       "      <th>4</th>\n",
       "      <td>Big Trade Blocks for $TSLA (Largest Trade: 0.4...</td>\n",
       "      <td>Undetermined</td>\n",
       "      <td>2</td>\n",
       "      <td>-0.2263</td>\n",
       "    </tr>\n",
       "  </tbody>\n",
       "</table>\n",
       "</div>"
      ],
      "text/plain": [
       "                                                text     sentiment  labels  \\\n",
       "0  $TSLA love the stock, but playing ER would be ...       Bullish       1   \n",
       "1  $FB $AAPL $AMZN $GOOGL $BTC.X $TSLA $MU $BIDU ...       Bullish       1   \n",
       "2                                              $TSLA  Undetermined       2   \n",
       "3  $NVDA $AMAT $AMZN $FB $MSFT $GOOGL $AMD $NFLX ...  Undetermined       2   \n",
       "4  Big Trade Blocks for $TSLA (Largest Trade: 0.4...  Undetermined       2   \n",
       "\n",
       "   vader_sentiment  \n",
       "0           0.1779  \n",
       "1          -0.4466  \n",
       "2           0.0000  \n",
       "3           0.0000  \n",
       "4          -0.2263  "
      ]
     },
     "execution_count": 8,
     "metadata": {},
     "output_type": "execute_result"
    }
   ],
   "source": [
    "pd_clean_stocktwits_posts[['text', 'sentiment', 'labels', 'vader_sentiment']].head()"
   ]
  },
  {
   "cell_type": "code",
   "execution_count": 9,
   "metadata": {},
   "outputs": [
    {
     "name": "stdout",
     "output_type": "stream",
     "text": [
      "Int64Index([     0,      1,      2,      3,      4,      5,      6,      7,\n",
      "                 8,      9,\n",
      "            ...\n",
      "            166647, 166648, 166649, 166650, 166651, 166652, 166653, 166654,\n",
      "            166655, 166656],\n",
      "           dtype='int64', length=166657)\n"
     ]
    }
   ],
   "source": [
    "print(pd_clean_stocktwits_posts.index)"
   ]
  },
  {
   "cell_type": "code",
   "execution_count": 10,
   "metadata": {},
   "outputs": [],
   "source": [
    "pd_stocktwits_posts = pd_clean_stocktwits_posts.query('labels!=2').reset_index(drop=True)"
   ]
  },
  {
   "cell_type": "code",
   "execution_count": 11,
   "metadata": {},
   "outputs": [
    {
     "name": "stdout",
     "output_type": "stream",
     "text": [
      "RangeIndex(start=0, stop=91619, step=1)\n"
     ]
    }
   ],
   "source": [
    "print(pd_stocktwits_posts.index)"
   ]
  },
  {
   "cell_type": "markdown",
   "metadata": {},
   "source": [
    "# TRAIN/TEST"
   ]
  },
  {
   "cell_type": "code",
   "execution_count": 135,
   "metadata": {},
   "outputs": [],
   "source": [
    "def train_validate_test_split(df, train_percent=.75, validate_percent=0, seed=None):\n",
    "    np.random.seed(seed)\n",
    "    perm = np.random.permutation(df.index)\n",
    "    m = len(df.index)\n",
    "    train_end = int(train_percent * m)\n",
    "    validate_end = int(validate_percent * m) + train_end\n",
    "    train = df.iloc[perm[:train_end]]\n",
    "    validate = df.iloc[perm[train_end:validate_end]]\n",
    "    test = df.iloc[perm[validate_end:]]\n",
    "    return train, validate, test"
   ]
  },
  {
   "cell_type": "code",
   "execution_count": 136,
   "metadata": {},
   "outputs": [],
   "source": [
    "train, _, test = train_validate_test_split(pd_stocktwits_posts)"
   ]
  },
  {
   "cell_type": "code",
   "execution_count": 137,
   "metadata": {},
   "outputs": [
    {
     "name": "stdout",
     "output_type": "stream",
     "text": [
      "The train data contains 68714 examples\n",
      "The test data contains 22905 examples\n"
     ]
    }
   ],
   "source": [
    "print(f'The train data contains {len(train)} examples')\n",
    "print(f'The test data contains {len(test)} examples')"
   ]
  },
  {
   "cell_type": "code",
   "execution_count": 14,
   "metadata": {},
   "outputs": [],
   "source": [
    "BOS = 'xbos'  # beginning-of-sentence tag\n",
    "FLD = 'xfld'  # data field tag\n",
    "\n",
    "PATH=Path(path)\n",
    "\n",
    "CLAS_PATH=PATH/'stocktwits_posts_class'\n",
    "CLAS_PATH.mkdir(exist_ok=True)\n",
    "\n",
    "LM_PATH=PATH/'stocktwits_posts_lm'\n",
    "LM_PATH.mkdir(exist_ok=True)"
   ]
  },
  {
   "cell_type": "code",
   "execution_count": 139,
   "metadata": {},
   "outputs": [],
   "source": [
    "df_trn = train[['labels','text']]\n",
    "df_val = test[['labels','text']]"
   ]
  },
  {
   "cell_type": "code",
   "execution_count": 140,
   "metadata": {},
   "outputs": [
    {
     "data": {
      "text/html": [
       "<div>\n",
       "<style scoped>\n",
       "    .dataframe tbody tr th:only-of-type {\n",
       "        vertical-align: middle;\n",
       "    }\n",
       "\n",
       "    .dataframe tbody tr th {\n",
       "        vertical-align: top;\n",
       "    }\n",
       "\n",
       "    .dataframe thead th {\n",
       "        text-align: right;\n",
       "    }\n",
       "</style>\n",
       "<table border=\"1\" class=\"dataframe\">\n",
       "  <thead>\n",
       "    <tr style=\"text-align: right;\">\n",
       "      <th></th>\n",
       "      <th>labels</th>\n",
       "      <th>text</th>\n",
       "    </tr>\n",
       "  </thead>\n",
       "  <tbody>\n",
       "    <tr>\n",
       "      <th>74233</th>\n",
       "      <td>0</td>\n",
       "      <td>$TSLA 3rd lawsuit initated by bull Yeager but ...</td>\n",
       "    </tr>\n",
       "    <tr>\n",
       "      <th>56568</th>\n",
       "      <td>0</td>\n",
       "      <td>$TSLA Elon Himself: “the worst is yet to come”...</td>\n",
       "    </tr>\n",
       "    <tr>\n",
       "      <th>78701</th>\n",
       "      <td>0</td>\n",
       "      <td>$TSLA This stock is so broken. Bulls better ge...</td>\n",
       "    </tr>\n",
       "    <tr>\n",
       "      <th>89471</th>\n",
       "      <td>1</td>\n",
       "      <td>$TSLA VW offered $30bil to join TSLA was attem...</td>\n",
       "    </tr>\n",
       "    <tr>\n",
       "      <th>46757</th>\n",
       "      <td>1</td>\n",
       "      <td>$TSLA added some more</td>\n",
       "    </tr>\n",
       "    <tr>\n",
       "      <th>22330</th>\n",
       "      <td>0</td>\n",
       "      <td>$TSLA YA'LL RICH PPL HERE BETTER KEEP ELON OUT...</td>\n",
       "    </tr>\n",
       "    <tr>\n",
       "      <th>91506</th>\n",
       "      <td>1</td>\n",
       "      <td>$TSLA so we need to get over the cave news guy...</td>\n",
       "    </tr>\n",
       "    <tr>\n",
       "      <th>47842</th>\n",
       "      <td>0</td>\n",
       "      <td>$T at 30, $F at 10, $TSLA at 300. Suspence:) I...</td>\n",
       "    </tr>\n",
       "    <tr>\n",
       "      <th>17038</th>\n",
       "      <td>0</td>\n",
       "      <td>$TSLA I’m just a scalper I just don’t see Bull...</td>\n",
       "    </tr>\n",
       "    <tr>\n",
       "      <th>80458</th>\n",
       "      <td>1</td>\n",
       "      <td>$TSLA &amp;'Pumpers?&amp;' You were trolling all wknd ...</td>\n",
       "    </tr>\n",
       "  </tbody>\n",
       "</table>\n",
       "</div>"
      ],
      "text/plain": [
       "       labels                                               text\n",
       "74233       0  $TSLA 3rd lawsuit initated by bull Yeager but ...\n",
       "56568       0  $TSLA Elon Himself: “the worst is yet to come”...\n",
       "78701       0  $TSLA This stock is so broken. Bulls better ge...\n",
       "89471       1  $TSLA VW offered $30bil to join TSLA was attem...\n",
       "46757       1                              $TSLA added some more\n",
       "22330       0  $TSLA YA'LL RICH PPL HERE BETTER KEEP ELON OUT...\n",
       "91506       1  $TSLA so we need to get over the cave news guy...\n",
       "47842       0  $T at 30, $F at 10, $TSLA at 300. Suspence:) I...\n",
       "17038       0  $TSLA I’m just a scalper I just don’t see Bull...\n",
       "80458       1  $TSLA &'Pumpers?&' You were trolling all wknd ..."
      ]
     },
     "execution_count": 140,
     "metadata": {},
     "output_type": "execute_result"
    }
   ],
   "source": [
    "df_trn.head(10)"
   ]
  },
  {
   "cell_type": "code",
   "execution_count": 141,
   "metadata": {},
   "outputs": [],
   "source": [
    "# df_trn.to_csv(CLAS_PATH/'train.csv', header=False, index=False)\n",
    "# df_val.to_csv(CLAS_PATH/'test.csv', header=False, index=False)\n",
    "\n",
    "df_trn.to_json(\n",
    "    f'{CLAS_PATH}/{data_file_nonextension_name}_train.json.gz', \n",
    "    orient='records', \n",
    "    lines=True, compression='gzip'\n",
    ")\n",
    "\n",
    "df_val.to_json(\n",
    "    f'{CLAS_PATH}/{data_file_nonextension_name}_test.json.gz', \n",
    "    orient='records', \n",
    "    lines=True, compression='gzip'\n",
    ")\n"
   ]
  },
  {
   "cell_type": "code",
   "execution_count": 142,
   "metadata": {},
   "outputs": [],
   "source": [
    "CLASSES = ['Bearish', 'Bullish']\n",
    "(CLAS_PATH/'classes.txt').open('w').writelines(f'{o}\\n' for o in CLASSES)"
   ]
  },
  {
   "cell_type": "markdown",
   "metadata": {},
   "source": [
    "# Language Model"
   ]
  },
  {
   "cell_type": "code",
   "execution_count": 143,
   "metadata": {},
   "outputs": [
    {
     "name": "stderr",
     "output_type": "stream",
     "text": [
      "/home/paperspace/anaconda3/envs/fastai/lib/python3.6/site-packages/ipykernel_launcher.py:1: SettingWithCopyWarning: \n",
      "A value is trying to be set on a copy of a slice from a DataFrame.\n",
      "Try using .loc[row_indexer,col_indexer] = value instead\n",
      "\n",
      "See the caveats in the documentation: http://pandas.pydata.org/pandas-docs/stable/indexing.html#indexing-view-versus-copy\n",
      "  \"\"\"Entry point for launching an IPython kernel.\n",
      "/home/paperspace/anaconda3/envs/fastai/lib/python3.6/site-packages/ipykernel_launcher.py:2: SettingWithCopyWarning: \n",
      "A value is trying to be set on a copy of a slice from a DataFrame.\n",
      "Try using .loc[row_indexer,col_indexer] = value instead\n",
      "\n",
      "See the caveats in the documentation: http://pandas.pydata.org/pandas-docs/stable/indexing.html#indexing-view-versus-copy\n",
      "  \n"
     ]
    }
   ],
   "source": [
    "df_trn['labels'] = 0\n",
    "df_val['labels'] = 0"
   ]
  },
  {
   "cell_type": "code",
   "execution_count": 145,
   "metadata": {},
   "outputs": [],
   "source": [
    "# We're going to fine tune the language model so it's ok to take some of the test set in our train data\n",
    "# for the lm fine-tuning\n",
    "# df_trn.to_csv(LM_PATH/'train.csv', header=False, index=False)\n",
    "# df_val.to_csv(LM_PATH/'test.csv', header=False, index=False)\n",
    "\n",
    "df_trn.to_json(\n",
    "    f'{LM_PATH}/{data_file_nonextension_name}_train.json.gz', \n",
    "    orient='records', \n",
    "    lines=True, compression='gzip'\n",
    ")\n",
    "\n",
    "df_val.to_json(\n",
    "    f'{LM_PATH}/{data_file_nonextension_name}_test.json.gz', \n",
    "    orient='records', \n",
    "    lines=True, compression='gzip'\n",
    ")"
   ]
  },
  {
   "cell_type": "code",
   "execution_count": 176,
   "metadata": {},
   "outputs": [
    {
     "name": "stdout",
     "output_type": "stream",
     "text": [
      "0:labels\n",
      "1:text\n"
     ]
    }
   ],
   "source": [
    "df_trn = pd.read_json(\n",
    "    f'{LM_PATH}/{data_file_nonextension_name}_train.json.gz', \n",
    "    orient='records', \n",
    "    lines=True, compression='gzip'\n",
    ")# [['text', 'labels']]\n",
    "\n",
    "df_val = pd.read_json(\n",
    "    f'{LM_PATH}/{data_file_nonextension_name}_test.json.gz', \n",
    "    orient='records', \n",
    "    lines=True, compression='gzip'\n",
    ")\n",
    "\n",
    "for i, r in enumerate(df_val):\n",
    "    print(f'{i}:{r}')\n"
   ]
  },
  {
   "cell_type": "code",
   "execution_count": 12,
   "metadata": {},
   "outputs": [],
   "source": [
    "chunksize=6000"
   ]
  },
  {
   "cell_type": "code",
   "execution_count": 219,
   "metadata": {},
   "outputs": [],
   "source": [
    "# Here we use functions from the fast.ai course to get data\n",
    "re1 = re.compile(r'  +')\n",
    "\n",
    "def fixup(x):\n",
    "    x = x.replace('#39;', \"'\").replace('amp;', '&').replace('#146;', \"'\").replace(\n",
    "        'nbsp;', ' ').replace('#36;', '$').replace('\\\\n', \"\\n\").replace('quot;', \"'\").replace(\n",
    "        '<br />', \"\\n\").replace('\\\\\"', '\"').replace('<unk>','u_n').replace(' @.@ ','.').replace(\n",
    "        ' @-@ ','-').replace('\\\\', ' \\\\ ')\n",
    "    return re1.sub(' ', html.unescape(x))\n",
    "\n",
    "def get_texts(df, n_lbls=1):\n",
    "    labels = df.iloc[:,range(n_lbls)].values.astype(np.int64)\n",
    "    # print(df[n_lbls])\n",
    "    texts = f'\\n{BOS} {FLD} 1 ' + df[n_lbls].astype(str)\n",
    "    for i in range(n_lbls+1, len(df.columns)): \n",
    "        texts += f' {FLD} {i-n_lbls} ' + df[i].astype(str)\n",
    "    texts = list(texts.apply(fixup).values)\n",
    "\n",
    "    tok = Tokenizer().proc_all_mp(partition_by_cores(texts))\n",
    "    return tok, list(labels)\n",
    "\n",
    "def get_all(df, n_lbls):\n",
    "    tok, labels = [], []\n",
    "    for i, r in enumerate(df):\n",
    "        print(i)\n",
    "        df = r.rename(columns={x:y for x,y in zip(r.columns,range(0,len(r.columns)))})\n",
    "        # print(r)\n",
    "        tok_, labels_ = get_texts(df, n_lbls)\n",
    "        tok += tok_;\n",
    "        labels += labels_\n",
    "    return tok, labels\n",
    "\n",
    "# df_trn = pd.read_csv(LM_PATH/'train.csv', header=None, chunksize=chunksize)\n",
    "# df_val = pd.read_csv(LM_PATH/'test.csv', header=None, chunksize=chunksize)\n",
    "\n",
    "df_trn = pd.read_json(\n",
    "    f'{LM_PATH}/{data_file_nonextension_name}_train.json.gz', \n",
    "    orient='records', \n",
    "    lines=True, compression='gzip', chunksize=chunksize\n",
    ")# [['text', 'labels']]\n",
    "\n",
    "df_val = pd.read_json(\n",
    "    f'{LM_PATH}/{data_file_nonextension_name}_test.json.gz', \n",
    "    orient='records', \n",
    "    lines=True, compression='gzip', chunksize=chunksize\n",
    ")# [['text', 'labels']]\n",
    "\n"
   ]
  },
  {
   "cell_type": "code",
   "execution_count": 220,
   "metadata": {},
   "outputs": [
    {
     "name": "stdout",
     "output_type": "stream",
     "text": [
      "<class 'pandas.io.json.json.JsonReader'>\n"
     ]
    }
   ],
   "source": [
    "print(type(df_val))"
   ]
  },
  {
   "cell_type": "code",
   "execution_count": 221,
   "metadata": {},
   "outputs": [
    {
     "name": "stdout",
     "output_type": "stream",
     "text": [
      "0\n",
      "1\n",
      "2\n",
      "3\n",
      "4\n",
      "5\n",
      "6\n",
      "7\n",
      "8\n",
      "9\n",
      "10\n",
      "11\n",
      "0\n",
      "1\n",
      "2\n",
      "3\n"
     ]
    }
   ],
   "source": [
    "# This cell can take quite some time if your dataset is large\n",
    "# Run it once and comment it for later use\n",
    "tok_trn, trn_labels = get_all(df_trn, 1)\n",
    "tok_val, val_labels = get_all(df_val, 1)"
   ]
  },
  {
   "cell_type": "code",
   "execution_count": 222,
   "metadata": {},
   "outputs": [],
   "source": [
    "# Run this cell once and comment everything but the load statements for later use\n",
    "(LM_PATH/'tmp').mkdir(exist_ok=True)\n",
    "np.save(LM_PATH/'tmp'/'tok_trn.npy', tok_trn)\n",
    "np.save(LM_PATH/'tmp'/'tok_val.npy', tok_val)"
   ]
  },
  {
   "cell_type": "code",
   "execution_count": 223,
   "metadata": {},
   "outputs": [],
   "source": [
    "tok_trn = np.load(LM_PATH/'tmp'/'tok_trn.npy')\n",
    "tok_val = np.load(LM_PATH/'tmp'/'tok_val.npy')"
   ]
  },
  {
   "cell_type": "code",
   "execution_count": 224,
   "metadata": {},
   "outputs": [
    {
     "data": {
      "text/plain": [
       "[('t_up', 111265),\n",
       " ('$', 99242),\n",
       " ('tsla', 70987),\n",
       " ('1', 69683),\n",
       " ('\\n', 68714),\n",
       " ('xbos', 68714),\n",
       " ('xfld', 68714),\n",
       " ('.', 50203),\n",
       " ('the', 27992),\n",
       " ('to', 23149),\n",
       " (',', 20141),\n",
       " ('is', 17428),\n",
       " ('a', 16626),\n",
       " ('!', 16082),\n",
       " ('and', 12584),\n",
       " ('this', 11816),\n",
       " ('i', 10665),\n",
       " ('of', 10561),\n",
       " ('in', 10285),\n",
       " ('it', 9900),\n",
       " ('?', 9392),\n",
       " ('for', 9199),\n",
       " ('&', 8803),\n",
       " ('you', 8273),\n",
       " ('on', 8019)]"
      ]
     },
     "execution_count": 224,
     "metadata": {},
     "output_type": "execute_result"
    }
   ],
   "source": [
    "# Check the most common tokens\n",
    "freq = Counter(p for o in tok_trn for p in o)\n",
    "freq.most_common(25)"
   ]
  },
  {
   "cell_type": "code",
   "execution_count": 225,
   "metadata": {},
   "outputs": [
    {
     "data": {
      "text/plain": [
       "[('hotline', 1),\n",
       " ('3.38', 1),\n",
       " ('entails', 1),\n",
       " ('haha-', 1),\n",
       " ('.longs', 1),\n",
       " ('yang', 1),\n",
       " ('23.5', 1),\n",
       " ('.musk', 1),\n",
       " ('bullsh', 1),\n",
       " ('chipmakers', 1),\n",
       " ('sheered', 1),\n",
       " ('pseudo', 1),\n",
       " ('clammering', 1),\n",
       " ('robot', 1),\n",
       " ('stifle', 1),\n",
       " ('drop-', 1),\n",
       " ('short=', 1),\n",
       " ('duuumb', 1),\n",
       " ('4.22', 1),\n",
       " ('ajit', 1),\n",
       " ('jain', 1),\n",
       " ('301.84', 1),\n",
       " ('afterall', 1),\n",
       " ('yoyo', 1),\n",
       " ('onion', 1)]"
      ]
     },
     "execution_count": 225,
     "metadata": {},
     "output_type": "execute_result"
    }
   ],
   "source": [
    "# Check the least common tokens\n",
    "freq.most_common()[-25:]"
   ]
  },
  {
   "cell_type": "code",
   "execution_count": 226,
   "metadata": {},
   "outputs": [],
   "source": [
    "# Build your vocabulary by keeping only the most common tokens that appears frequently enough\n",
    "# and constrain the size of your vocabulary. We follow here the 60k recommendation.\n",
    "max_vocab = 60000\n",
    "min_freq = 2"
   ]
  },
  {
   "cell_type": "code",
   "execution_count": 227,
   "metadata": {},
   "outputs": [],
   "source": [
    "itos = [o for o,c in freq.most_common(max_vocab) if c>min_freq]\n",
    "itos.insert(0, '_pad_')\n",
    "itos.insert(0, '_unk_')\n",
    "\n",
    "stoi = collections.defaultdict(lambda:0, {v:k for k,v in enumerate(itos)})\n",
    "len(itos)\n",
    "\n",
    "trn_lm = np.array([[stoi[o] for o in p] for p in tok_trn])\n",
    "val_lm = np.array([[stoi[o] for o in p] for p in tok_val])\n",
    "\n",
    "np.save(LM_PATH/'tmp'/'trn_ids.npy', trn_lm)\n",
    "np.save(LM_PATH/'tmp'/'val_ids.npy', val_lm)\n",
    "pickle.dump(itos, open(LM_PATH/'tmp'/'itos.pkl', 'wb'))"
   ]
  },
  {
   "cell_type": "code",
   "execution_count": 18,
   "metadata": {},
   "outputs": [],
   "source": [
    "# Save everything\n",
    "trn_lm = np.load(LM_PATH/'tmp'/'trn_ids.npy')\n",
    "val_lm = np.load(LM_PATH/'tmp'/'val_ids.npy')\n",
    "itos = pickle.load(open(LM_PATH/'tmp'/'itos.pkl', 'rb'))"
   ]
  },
  {
   "cell_type": "code",
   "execution_count": 19,
   "metadata": {},
   "outputs": [
    {
     "data": {
      "text/plain": [
       "(13221, 68714)"
      ]
     },
     "execution_count": 19,
     "metadata": {},
     "output_type": "execute_result"
    }
   ],
   "source": [
    "vs=len(itos)\n",
    "vs,len(trn_lm)"
   ]
  },
  {
   "cell_type": "markdown",
   "metadata": {},
   "source": [
    "# Using pre trained Language Model"
   ]
  },
  {
   "cell_type": "code",
   "execution_count": 230,
   "metadata": {},
   "outputs": [
    {
     "name": "stdout",
     "output_type": "stream",
     "text": [
      "--2018-08-28 15:21:29--  http://files.fast.ai/models/wt103/\n",
      "Resolving files.fast.ai (files.fast.ai)... 67.205.15.147\n",
      "Connecting to files.fast.ai (files.fast.ai)|67.205.15.147|:80... connected.\n",
      "HTTP request sent, awaiting response... 200 OK\n",
      "Length: 857 [text/html]\n",
      "Saving to: ‘./data/stocktwits_posts/models/wt103/index.html’\n",
      "\n",
      "models/wt103/index. 100%[===================>]     857  --.-KB/s    in 0s      \n",
      "\n",
      "2018-08-28 15:21:29 (81.8 MB/s) - ‘./data/stocktwits_posts/models/wt103/index.html’ saved [857/857]\n",
      "\n",
      "Loading robots.txt; please ignore errors.\n",
      "--2018-08-28 15:21:29--  http://files.fast.ai/robots.txt\n",
      "Reusing existing connection to files.fast.ai:80.\n",
      "HTTP request sent, awaiting response... 404 Not Found\n",
      "2018-08-28 15:21:29 ERROR 404: Not Found.\n",
      "\n",
      "--2018-08-28 15:21:29--  http://files.fast.ai/models/wt103/?C=N;O=D\n",
      "Reusing existing connection to files.fast.ai:80.\n",
      "HTTP request sent, awaiting response... 200 OK\n",
      "Length: 857 [text/html]\n",
      "Saving to: ‘./data/stocktwits_posts/models/wt103/index.html?C=N;O=D’\n",
      "\n",
      "models/wt103/index. 100%[===================>]     857  --.-KB/s    in 0s      \n",
      "\n",
      "2018-08-28 15:21:29 (78.7 MB/s) - ‘./data/stocktwits_posts/models/wt103/index.html?C=N;O=D’ saved [857/857]\n",
      "\n",
      "--2018-08-28 15:21:29--  http://files.fast.ai/models/wt103/?C=M;O=A\n",
      "Reusing existing connection to files.fast.ai:80.\n",
      "HTTP request sent, awaiting response... 200 OK\n",
      "Length: 857 [text/html]\n",
      "Saving to: ‘./data/stocktwits_posts/models/wt103/index.html?C=M;O=A’\n",
      "\n",
      "models/wt103/index. 100%[===================>]     857  --.-KB/s    in 0s      \n",
      "\n",
      "2018-08-28 15:21:29 (96.0 MB/s) - ‘./data/stocktwits_posts/models/wt103/index.html?C=M;O=A’ saved [857/857]\n",
      "\n",
      "--2018-08-28 15:21:29--  http://files.fast.ai/models/wt103/?C=S;O=A\n",
      "Reusing existing connection to files.fast.ai:80.\n",
      "HTTP request sent, awaiting response... 200 OK\n",
      "Length: 857 [text/html]\n",
      "Saving to: ‘./data/stocktwits_posts/models/wt103/index.html?C=S;O=A’\n",
      "\n",
      "models/wt103/index. 100%[===================>]     857  --.-KB/s    in 0s      \n",
      "\n",
      "2018-08-28 15:21:29 (115 MB/s) - ‘./data/stocktwits_posts/models/wt103/index.html?C=S;O=A’ saved [857/857]\n",
      "\n",
      "--2018-08-28 15:21:29--  http://files.fast.ai/models/wt103/?C=D;O=A\n",
      "Reusing existing connection to files.fast.ai:80.\n",
      "HTTP request sent, awaiting response... 200 OK\n",
      "Length: 857 [text/html]\n",
      "Saving to: ‘./data/stocktwits_posts/models/wt103/index.html?C=D;O=A’\n",
      "\n",
      "models/wt103/index. 100%[===================>]     857  --.-KB/s    in 0s      \n",
      "\n",
      "2018-08-28 15:21:29 (121 MB/s) - ‘./data/stocktwits_posts/models/wt103/index.html?C=D;O=A’ saved [857/857]\n",
      "\n",
      "--2018-08-28 15:21:29--  http://files.fast.ai/models/wt103/bwd_wt103.h5\n",
      "Reusing existing connection to files.fast.ai:80.\n",
      "HTTP request sent, awaiting response... 200 OK\n",
      "Length: 462387687 (441M) [text/plain]\n",
      "Saving to: ‘./data/stocktwits_posts/models/wt103/bwd_wt103.h5’\n",
      "\n",
      "models/wt103/bwd_wt 100%[===================>] 440.97M  21.4MB/s    in 37s     \n",
      "\n",
      "2018-08-28 15:22:07 (11.9 MB/s) - ‘./data/stocktwits_posts/models/wt103/bwd_wt103.h5’ saved [462387687/462387687]\n",
      "\n",
      "--2018-08-28 15:22:07--  http://files.fast.ai/models/wt103/bwd_wt103_enc.h5\n",
      "Reusing existing connection to files.fast.ai:80.\n",
      "HTTP request sent, awaiting response... 200 OK\n",
      "Length: 462387634 (441M) [text/plain]\n",
      "Saving to: ‘./data/stocktwits_posts/models/wt103/bwd_wt103_enc.h5’\n",
      "\n",
      "models/wt103/bwd_wt 100%[===================>] 440.97M  34.1MB/s    in 16s     \n",
      "\n",
      "2018-08-28 15:22:23 (27.8 MB/s) - ‘./data/stocktwits_posts/models/wt103/bwd_wt103_enc.h5’ saved [462387634/462387634]\n",
      "\n",
      "--2018-08-28 15:22:23--  http://files.fast.ai/models/wt103/fwd_wt103.h5\n",
      "Reusing existing connection to files.fast.ai:80.\n",
      "HTTP request sent, awaiting response... 200 OK\n",
      "Length: 462387687 (441M) [text/plain]\n",
      "Saving to: ‘./data/stocktwits_posts/models/wt103/fwd_wt103.h5’\n",
      "\n",
      "models/wt103/fwd_wt 100%[===================>] 440.97M  29.6MB/s    in 14s     \n",
      "\n",
      "2018-08-28 15:22:36 (32.5 MB/s) - ‘./data/stocktwits_posts/models/wt103/fwd_wt103.h5’ saved [462387687/462387687]\n",
      "\n",
      "--2018-08-28 15:22:36--  http://files.fast.ai/models/wt103/fwd_wt103_enc.h5\n",
      "Reusing existing connection to files.fast.ai:80.\n",
      "HTTP request sent, awaiting response... 200 OK\n",
      "Length: 462387634 (441M) [text/plain]\n",
      "Saving to: ‘./data/stocktwits_posts/models/wt103/fwd_wt103_enc.h5’\n",
      "\n",
      "models/wt103/fwd_wt 100%[===================>] 440.97M  34.0MB/s    in 13s     \n",
      "\n",
      "2018-08-28 15:22:49 (34.0 MB/s) - ‘./data/stocktwits_posts/models/wt103/fwd_wt103_enc.h5’ saved [462387634/462387634]\n",
      "\n",
      "--2018-08-28 15:22:49--  http://files.fast.ai/models/wt103/itos_wt103.pkl\n",
      "Reusing existing connection to files.fast.ai:80.\n",
      "HTTP request sent, awaiting response... 200 OK\n",
      "Length: 4161252 (4.0M) [text/plain]\n",
      "Saving to: ‘./data/stocktwits_posts/models/wt103/itos_wt103.pkl’\n",
      "\n",
      "models/wt103/itos_w 100%[===================>]   3.97M  --.-KB/s    in 0.1s    \n",
      "\n",
      "2018-08-28 15:22:49 (41.2 MB/s) - ‘./data/stocktwits_posts/models/wt103/itos_wt103.pkl’ saved [4161252/4161252]\n",
      "\n",
      "--2018-08-28 15:22:49--  http://files.fast.ai/models/wt103/?C=N;O=A\n",
      "Reusing existing connection to files.fast.ai:80.\n",
      "HTTP request sent, awaiting response... 200 OK\n",
      "Length: 857 [text/html]\n",
      "Saving to: ‘./data/stocktwits_posts/models/wt103/index.html?C=N;O=A’\n",
      "\n",
      "models/wt103/index. 100%[===================>]     857  --.-KB/s    in 0s      \n",
      "\n",
      "2018-08-28 15:22:50 (135 MB/s) - ‘./data/stocktwits_posts/models/wt103/index.html?C=N;O=A’ saved [857/857]\n",
      "\n",
      "--2018-08-28 15:22:50--  http://files.fast.ai/models/wt103/?C=M;O=D\n",
      "Reusing existing connection to files.fast.ai:80.\n",
      "HTTP request sent, awaiting response... 200 OK\n",
      "Length: 857 [text/html]\n",
      "Saving to: ‘./data/stocktwits_posts/models/wt103/index.html?C=M;O=D’\n",
      "\n",
      "models/wt103/index. 100%[===================>]     857  --.-KB/s    in 0s      \n",
      "\n",
      "2018-08-28 15:22:50 (124 MB/s) - ‘./data/stocktwits_posts/models/wt103/index.html?C=M;O=D’ saved [857/857]\n",
      "\n",
      "--2018-08-28 15:22:50--  http://files.fast.ai/models/wt103/?C=S;O=D\n",
      "Reusing existing connection to files.fast.ai:80.\n",
      "HTTP request sent, awaiting response... 200 OK\n",
      "Length: 857 [text/html]\n",
      "Saving to: ‘./data/stocktwits_posts/models/wt103/index.html?C=S;O=D’\n",
      "\n",
      "models/wt103/index. 100%[===================>]     857  --.-KB/s    in 0s      \n",
      "\n",
      "2018-08-28 15:22:50 (124 MB/s) - ‘./data/stocktwits_posts/models/wt103/index.html?C=S;O=D’ saved [857/857]\n",
      "\n",
      "--2018-08-28 15:22:50--  http://files.fast.ai/models/wt103/?C=D;O=D\n",
      "Reusing existing connection to files.fast.ai:80.\n",
      "HTTP request sent, awaiting response... 200 OK\n",
      "Length: 857 [text/html]\n",
      "Saving to: ‘./data/stocktwits_posts/models/wt103/index.html?C=D;O=D’\n",
      "\n",
      "models/wt103/index. 100%[===================>]     857  --.-KB/s    in 0s      \n",
      "\n",
      "2018-08-28 15:22:50 (122 MB/s) - ‘./data/stocktwits_posts/models/wt103/index.html?C=D;O=D’ saved [857/857]\n",
      "\n",
      "FINISHED --2018-08-28 15:22:50--\n",
      "Total wall clock time: 1m 21s\n",
      "Downloaded: 14 files, 1.7G in 1m 20s (22.2 MB/s)\n"
     ]
    }
   ],
   "source": [
    "# Uncomment this cell to download the pre-trained model.\n",
    "# It will be placed into the PATH that you defined earlier.\n",
    "! wget -nH -r -np -P {path} http://files.fast.ai/models/wt103/"
   ]
  },
  {
   "cell_type": "code",
   "execution_count": 20,
   "metadata": {},
   "outputs": [],
   "source": [
    "# Load the weights of the model\n",
    "em_sz,nh,nl = 400,1150,3\n",
    "\n",
    "PRE_PATH = PATH/'models'/'wt103'\n",
    "PRE_LM_PATH = PRE_PATH/'fwd_wt103.h5'\n",
    "\n",
    "wgts = torch.load(PRE_LM_PATH, map_location=lambda storage, loc: storage)"
   ]
  },
  {
   "cell_type": "code",
   "execution_count": 21,
   "metadata": {},
   "outputs": [
    {
     "data": {
      "text/plain": [
       "(238462, 400)"
      ]
     },
     "execution_count": 21,
     "metadata": {},
     "output_type": "execute_result"
    }
   ],
   "source": [
    "# Check the word embedding layer and keep a 'mean word' for unknown tokens\n",
    "enc_wgts = to_np(wgts['0.encoder.weight'])\n",
    "row_m = enc_wgts.mean(0)\n",
    "\n",
    "enc_wgts.shape"
   ]
  },
  {
   "cell_type": "code",
   "execution_count": 22,
   "metadata": {},
   "outputs": [],
   "source": [
    "# Load the vocabulary on which the pre-trained model was trained\n",
    "# Define an embedding matrix with the vocabulary of our dataset\n",
    "itos2 = pickle.load((PRE_PATH/'itos_wt103.pkl').open('rb'))\n",
    "stoi2 = collections.defaultdict(lambda:-1, {v:k for k,v in enumerate(itos2)})\n",
    "\n",
    "new_w = np.zeros((vs, em_sz), dtype=np.float32)\n",
    "for i,w in enumerate(itos):\n",
    "    r = stoi2[w]\n",
    "    new_w[i] = enc_wgts[r] if r>=0 else row_m"
   ]
  },
  {
   "cell_type": "code",
   "execution_count": 23,
   "metadata": {},
   "outputs": [],
   "source": [
    "# Use the new embedding matrix for the pre-trained model\n",
    "wgts['0.encoder.weight'] = T(new_w)\n",
    "wgts['0.encoder_with_dropout.embed.weight'] = T(np.copy(new_w))\n",
    "wgts['1.decoder.weight'] = T(np.copy(new_w))"
   ]
  },
  {
   "cell_type": "code",
   "execution_count": 24,
   "metadata": {},
   "outputs": [],
   "source": [
    "# Define the learner object to do the fine-tuning\n",
    "# Here we will freeze everything except the embedding layer, so that we can have a better \n",
    "# embedding for unknown words than just the mean embedding on which we initialise it.\n",
    "wd=1e-7\n",
    "bptt=70\n",
    "bs=52\n",
    "opt_fn = partial(optim.Adam, betas=(0.8, 0.99))\n",
    "\n",
    "trn_dl = LanguageModelLoader(np.concatenate(trn_lm), bs, bptt)\n",
    "val_dl = LanguageModelLoader(np.concatenate(val_lm), bs, bptt)\n",
    "md = LanguageModelData(PATH, 1, vs, trn_dl, val_dl, bs=bs, bptt=bptt)\n",
    "\n",
    "drops = np.array([0.25, 0.1, 0.2, 0.02, 0.15])*0.7\n",
    "\n",
    "learner= md.get_model(opt_fn, em_sz, nh, nl, \n",
    "    dropouti=drops[0], dropout=drops[1], wdrop=drops[2], dropoute=drops[3], dropouth=drops[4])\n",
    "\n",
    "learner.metrics = [accuracy]\n",
    "learner.freeze_to(-1)\n",
    "\n",
    "learner.model.load_state_dict(wgts)\n",
    "\n",
    "lr=1e-3\n",
    "lrs = lr"
   ]
  },
  {
   "cell_type": "code",
   "execution_count": 251,
   "metadata": {},
   "outputs": [
    {
     "data": {
      "application/vnd.jupyter.widget-view+json": {
       "model_id": "2cf246ba4ca147b7932f5f035eb239f9",
       "version_major": 2,
       "version_minor": 0
      },
      "text/plain": [
       "HBox(children=(IntProgress(value=0, description='Epoch', max=1), HTML(value='')))"
      ]
     },
     "metadata": {},
     "output_type": "display_data"
    },
    {
     "name": "stdout",
     "output_type": "stream",
     "text": [
      "epoch      trn_loss   val_loss   accuracy                   \n",
      "    0      5.041968   4.713975   0.308568  \n",
      "\n"
     ]
    },
    {
     "data": {
      "text/plain": [
       "[array([ 4.71397]), 0.30856804667612758]"
      ]
     },
     "execution_count": 251,
     "metadata": {},
     "output_type": "execute_result"
    }
   ],
   "source": [
    "# Run one epoch of fine-tuning \n",
    "learner.fit(lrs/2, 1, wds=wd, use_clr=(32,2), cycle_len=1)"
   ]
  },
  {
   "cell_type": "code",
   "execution_count": 252,
   "metadata": {},
   "outputs": [],
   "source": [
    "# Save the fine-tuned model and unfreeze everything to later fine-tune the whole model\n",
    "learner.save('lm_last_ft')"
   ]
  },
  {
   "cell_type": "code",
   "execution_count": 253,
   "metadata": {},
   "outputs": [],
   "source": [
    "learner.load('lm_last_ft')\n",
    "learner.unfreeze()"
   ]
  },
  {
   "cell_type": "code",
   "execution_count": 254,
   "metadata": {},
   "outputs": [
    {
     "data": {
      "application/vnd.jupyter.widget-view+json": {
       "model_id": "44c5438fc620448b95ebf0e751cbfe09",
       "version_major": 2,
       "version_minor": 0
      },
      "text/plain": [
       "HBox(children=(IntProgress(value=0, description='Epoch', max=1), HTML(value='')))"
      ]
     },
     "metadata": {},
     "output_type": "display_data"
    },
    {
     "name": "stdout",
     "output_type": "stream",
     "text": [
      "epoch      trn_loss   val_loss   accuracy                   \n",
      "    0      3.525703   3.337948   0.427656  \n",
      "\n"
     ]
    }
   ],
   "source": [
    "learner.lr_find(start_lr=lrs/10, end_lr=lrs*10, linear=True)"
   ]
  },
  {
   "cell_type": "code",
   "execution_count": 255,
   "metadata": {},
   "outputs": [
    {
     "data": {
      "image/png": "[encoded data removed]",
      "text/plain": [
       "<Figure size 432x288 with 1 Axes>"
      ]
     },
     "metadata": {},
     "output_type": "display_data"
    }
   ],
   "source": [
    "learner.sched.plot()"
   ]
  },
  {
   "cell_type": "code",
   "execution_count": 256,
   "metadata": {},
   "outputs": [],
   "source": [
    "learner.save('lm_last_ft_after_lr_find')"
   ]
  },
  {
   "cell_type": "code",
   "execution_count": 257,
   "metadata": {},
   "outputs": [],
   "source": [
    "learner.load('lm_last_ft_after_lr_find')"
   ]
  },
  {
   "cell_type": "code",
   "execution_count": 258,
   "metadata": {},
   "outputs": [
    {
     "data": {
      "application/vnd.jupyter.widget-view+json": {
       "model_id": "3ee5277450a44d608ea4d0ba5921fe1b",
       "version_major": 2,
       "version_minor": 0
      },
      "text/plain": [
       "HBox(children=(IntProgress(value=0, description='Epoch', max=15), HTML(value='')))"
      ]
     },
     "metadata": {},
     "output_type": "display_data"
    },
    {
     "name": "stdout",
     "output_type": "stream",
     "text": [
      "epoch      trn_loss   val_loss   accuracy                   \n",
      "    0      3.772837   3.538827   0.416185  \n",
      "    1      3.352943   3.17047    0.453603                   \n",
      "    2      3.012864   2.885514   0.491399                   \n",
      "    3      2.771227   2.681538   0.523959                   \n",
      "    4      2.559092   2.521284   0.551148                   \n",
      "    5      2.397784   2.397235   0.573595                   \n",
      "    6      2.271078   2.298868   0.592203                   \n",
      "    7      2.174226   2.215298   0.608304                   \n",
      "    8      2.080278   2.148482   0.621696                   \n",
      "    9      1.99816    2.093355   0.63235                    \n",
      "    10     1.935472   2.048272   0.641846                   \n",
      "    11     1.873651   2.014468   0.649343                   \n",
      "    12     1.818698   1.987754   0.654887                   \n",
      "    13     1.794235   1.967544   0.659171                   \n",
      "    14     1.773556   1.957359   0.661337                   \n",
      "\n"
     ]
    },
    {
     "data": {
      "text/plain": [
       "[array([ 1.95736]), 0.66133687986821232]"
      ]
     },
     "execution_count": 258,
     "metadata": {},
     "output_type": "execute_result"
    }
   ],
   "source": [
    "# Run this if you want to highly tune the LM to the Stocktwits data, with 15 epochs\n",
    "# use_clr controls the shape of the cyclical (triangular) learning rate\n",
    "learner.fit(lrs, 1, wds=wd, use_clr=(20,10), cycle_len=15)"
   ]
  },
  {
   "cell_type": "code",
   "execution_count": 259,
   "metadata": {},
   "outputs": [],
   "source": [
    "# Save the Backbone for further classification!!\n",
    "learner.save('lm1')\n",
    "learner.save_encoder('lm1_enc')"
   ]
  },
  {
   "cell_type": "code",
   "execution_count": 25,
   "metadata": {},
   "outputs": [],
   "source": [
    "learner.load_encoder('lm1_enc')\n",
    "learner.load('lm1')"
   ]
  },
  {
   "cell_type": "code",
   "execution_count": 261,
   "metadata": {},
   "outputs": [
    {
     "data": {
      "image/png": "[encoded data removed]",
      "text/plain": [
       "<Figure size 432x288 with 1 Axes>"
      ]
     },
     "metadata": {},
     "output_type": "display_data"
    }
   ],
   "source": [
    "learner.sched.plot_loss()"
   ]
  },
  {
   "cell_type": "markdown",
   "metadata": {},
   "source": [
    "# Going back to classification!"
   ]
  },
  {
   "cell_type": "markdown",
   "metadata": {},
   "source": [
    "Now that we spent some time fine-tuning the language model on our Stocktwits data, let's see if we can classify easily these reviews.\n",
    "As before, some cells should be run once, and then use data loaders for later use."
   ]
  },
  {
   "cell_type": "code",
   "execution_count": 262,
   "metadata": {},
   "outputs": [],
   "source": [
    "# df_trn = pd.read_csv(CLAS_PATH/'train.csv', header=None, chunksize=chunksize)\n",
    "# df_val = pd.read_csv(CLAS_PATH/'test.csv', header=None, chunksize=chunksize)\n",
    "df_trn = pd.read_json(\n",
    "    f'{CLAS_PATH}/{data_file_nonextension_name}_train.json.gz', \n",
    "    orient='records', \n",
    "    lines=True, compression='gzip', chunksize=chunksize\n",
    ")# [['text', 'labels']]\n",
    "\n",
    "df_val = pd.read_json(\n",
    "    f'{CLAS_PATH}/{data_file_nonextension_name}_test.json.gz', \n",
    "    orient='records', \n",
    "    lines=True, compression='gzip', chunksize=chunksize\n",
    ")# [['text', 'labels']]"
   ]
  },
  {
   "cell_type": "code",
   "execution_count": 263,
   "metadata": {},
   "outputs": [
    {
     "name": "stdout",
     "output_type": "stream",
     "text": [
      "0\n",
      "1\n",
      "2\n",
      "3\n",
      "4\n",
      "5\n",
      "6\n",
      "7\n",
      "8\n",
      "9\n",
      "10\n",
      "11\n",
      "0\n",
      "1\n",
      "2\n",
      "3\n"
     ]
    }
   ],
   "source": [
    "tok_trn, trn_labels = get_all(df_trn, 1)\n",
    "tok_val, val_labels = get_all(df_val, 1)"
   ]
  },
  {
   "cell_type": "code",
   "execution_count": 264,
   "metadata": {},
   "outputs": [],
   "source": [
    "(CLAS_PATH/'tmp').mkdir(exist_ok=True)\n",
    "\n",
    "np.save(CLAS_PATH/'tmp'/'tok_trn.npy', tok_trn)\n",
    "np.save(CLAS_PATH/'tmp'/'tok_val.npy', tok_val)\n",
    "\n",
    "np.save(CLAS_PATH/'tmp'/'trn_labels.npy', trn_labels)\n",
    "np.save(CLAS_PATH/'tmp'/'val_labels.npy', val_labels)"
   ]
  },
  {
   "cell_type": "code",
   "execution_count": 26,
   "metadata": {},
   "outputs": [
    {
     "data": {
      "text/plain": [
       "13221"
      ]
     },
     "execution_count": 26,
     "metadata": {},
     "output_type": "execute_result"
    }
   ],
   "source": [
    "tok_trn = np.load(CLAS_PATH/'tmp'/'tok_trn.npy')\n",
    "tok_val = np.load(CLAS_PATH/'tmp'/'tok_val.npy')\n",
    "itos = pickle.load((LM_PATH/'tmp'/'itos.pkl').open('rb'))\n",
    "stoi = collections.defaultdict(lambda:0, {v:k for k,v in enumerate(itos)})\n",
    "len(itos)"
   ]
  },
  {
   "cell_type": "code",
   "execution_count": 27,
   "metadata": {},
   "outputs": [],
   "source": [
    "trn_clas = np.array([[stoi[o] for o in p] for p in tok_trn])\n",
    "val_clas = np.array([[stoi[o] for o in p] for p in tok_val])\n",
    "\n",
    "np.save(CLAS_PATH/'tmp'/'trn_ids.npy', trn_clas)\n",
    "np.save(CLAS_PATH/'tmp'/'val_ids.npy', val_clas)"
   ]
  },
  {
   "cell_type": "markdown",
   "metadata": {},
   "source": [
    "# Classifier\n",
    "In this part, we adopt an unusual train/test hierarchy. While it's common to train on a big dataset and thewn test on a small one, here we wanrt to test the hypothesis that the model can learn with few training data. Hence we take less data for training than for testing."
   ]
  },
  {
   "cell_type": "code",
   "execution_count": null,
   "metadata": {},
   "outputs": [],
   "source": [
    "# The train data contains 68714 examples\n",
    "# The test data contains 22905 examples"
   ]
  },
  {
   "cell_type": "code",
   "execution_count": null,
   "metadata": {},
   "outputs": [],
   "source": [
    "# We select here the 'size' first reviews of our dataset\n",
    "# The paper claims that it's possible to achieve very good results with few labeled examples\n",
    "# So let's try with 100 examples for training, and 5000 examples for validation.\n",
    "# We encourage you to try different values to see the effect of data size on performance.\n",
    "# trn_size = 100\n",
    "# val_size = 5000"
   ]
  },
  {
   "cell_type": "code",
   "execution_count": 47,
   "metadata": {},
   "outputs": [],
   "source": [
    "trn_size = 1000\n",
    "val_size = 5000"
   ]
  },
  {
   "cell_type": "code",
   "execution_count": 48,
   "metadata": {},
   "outputs": [],
   "source": [
    "trn_clas = np.load(CLAS_PATH/'tmp'/'trn_ids.npy')\n",
    "val_clas = np.load(CLAS_PATH/'tmp'/'val_ids.npy')\n",
    "\n",
    "trn_labels = np.squeeze(np.load(CLAS_PATH/'tmp'/'trn_labels.npy'))\n",
    "val_labels = np.squeeze(np.load(CLAS_PATH/'tmp'/'val_labels.npy'))\n",
    "\n",
    "train = random.sample(list(zip(trn_clas, trn_labels)), trn_size)\n",
    "trn_clas = np.array([item[0] for item in train])\n",
    "trn_labels = np.array([item[1] for item in train])\n",
    "del train\n",
    "\n",
    "validation = random.sample(list(zip(val_clas, val_labels)), val_size)\n",
    "val_clas = np.array([item[0] for item in validation])\n",
    "val_labels = np.array([item[1] for item in validation])\n",
    "del validation\n",
    "\n",
    "\n",
    "bptt,em_sz,nh,nl = 70,400,1150,3\n",
    "vs = len(itos)\n",
    "opt_fn = partial(optim.Adam, betas=(0.8, 0.99))\n",
    "bs = 48\n",
    "\n",
    "min_lbl = trn_labels.min()\n",
    "trn_labels -= min_lbl\n",
    "val_labels -= min_lbl\n",
    "c=int(trn_labels.max())+1"
   ]
  },
  {
   "cell_type": "code",
   "execution_count": 49,
   "metadata": {},
   "outputs": [
    {
     "data": {
      "text/plain": [
       "0.637"
      ]
     },
     "execution_count": 49,
     "metadata": {},
     "output_type": "execute_result"
    }
   ],
   "source": [
    "# Ccheck that the validation dataset is well balanced so acccuracy is a good metric\n",
    "# We'll also check other metrics usual for binary classification (precision, recall, f1 score)\n",
    "len(trn_labels[trn_labels == 1]) / len(trn_labels)"
   ]
  },
  {
   "cell_type": "code",
   "execution_count": 50,
   "metadata": {},
   "outputs": [],
   "source": [
    "trn_ds = TextDataset(trn_clas, trn_labels)\n",
    "val_ds = TextDataset(val_clas, val_labels)\n",
    "trn_samp = SortishSampler(trn_clas, key=lambda x: len(trn_clas[x]), bs=bs//2)\n",
    "val_samp = SortSampler(val_clas, key=lambda x: len(val_clas[x]))\n",
    "trn_dl = DataLoader(trn_ds, bs//2, transpose=True, num_workers=1, pad_idx=1, sampler=trn_samp)\n",
    "val_dl = DataLoader(val_ds, bs, transpose=True, num_workers=1, pad_idx=1, sampler=val_samp)"
   ]
  },
  {
   "cell_type": "code",
   "execution_count": 51,
   "metadata": {},
   "outputs": [],
   "source": [
    "# We define the model, here it a classifier on top of an RNN language model\n",
    "# We load the language model encoder that we fine tuned before\n",
    "# We freeze everything but the last layer, so that we can train the classification layer only.\n",
    "#load the saved weights from before, and freeze everything until the last layer\n",
    "# from fastai.lm_rnn import *\n",
    "\n",
    "md = ModelData(PATH, trn_dl, val_dl)\n",
    "dps = np.array([0.4, 0.5, 0.05, 0.3, 0.1])\n",
    "\n",
    "m = get_rnn_classifer(bptt, 20*70, c, vs, emb_sz=em_sz, n_hid=nh, n_layers=nl, pad_token=1,\n",
    "          layers=[em_sz*3, 50, c], drops=[dps[4], 0.1],\n",
    "          dropouti=dps[0], wdrop=dps[1], dropoute=dps[2], dropouth=dps[3])\n",
    "\n",
    "opt_fn = partial(optim.Adam, betas=(0.7, 0.99))\n",
    "\n",
    "learn = RNN_Learner(md, TextModel(to_gpu(m)), opt_fn=opt_fn)\n",
    "learn.reg_fn = partial(seq2seq_reg, alpha=2, beta=1)\n",
    "learn.clip=25.\n",
    "learn.metrics = [accuracy]\n",
    "\n",
    "lr=3e-3\n",
    "lrm = 2.6\n",
    "lrs = np.array([lr/(lrm**4), lr/(lrm**3), lr/(lrm**2), lr/lrm, lr])\n",
    "\n",
    "lrs=np.array([1e-4,1e-4,1e-4,1e-3,1e-2])\n",
    "\n",
    "wd = 1e-7\n",
    "wd = 0\n",
    "learn.load_encoder('lm1_enc')\n",
    "\n",
    "learn.freeze_to(-1)"
   ]
  },
  {
   "cell_type": "code",
   "execution_count": 52,
   "metadata": {},
   "outputs": [
    {
     "data": {
      "application/vnd.jupyter.widget-view+json": {
       "model_id": "ec3697f7aa874d799593dcc2f8bdc6f3",
       "version_major": 2,
       "version_minor": 0
      },
      "text/plain": [
       "HBox(children=(IntProgress(value=0, description='Epoch', max=1), HTML(value='')))"
      ]
     },
     "metadata": {},
     "output_type": "display_data"
    },
    {
     "name": "stdout",
     "output_type": "stream",
     "text": [
      " 79%|███████▊  | 33/42 [00:00<00:00, 37.79it/s, loss=4.26] \n",
      "                                                          \r"
     ]
    }
   ],
   "source": [
    "# trn_size = 1000\n",
    "# val_size = 5000\n",
    "learn.lr_find(lrs/1000)"
   ]
  },
  {
   "cell_type": "code",
   "execution_count": 32,
   "metadata": {},
   "outputs": [
    {
     "data": {
      "application/vnd.jupyter.widget-view+json": {
       "model_id": "69865049ce5745c8baab3786e1281916",
       "version_major": 2,
       "version_minor": 0
      },
      "text/plain": [
       "HBox(children=(IntProgress(value=0, description='Epoch', max=1), HTML(value='')))"
      ]
     },
     "metadata": {},
     "output_type": "display_data"
    },
    {
     "name": "stdout",
     "output_type": "stream",
     "text": [
      "epoch      trn_loss   val_loss   accuracy                \n",
      "    0      0.715853   126.110563 0.630904  \n",
      "\n"
     ]
    }
   ],
   "source": [
    "# trn_size = 100\n",
    "# val_size = 5000\n",
    "learn.lr_find(lrs/1000)"
   ]
  },
  {
   "cell_type": "code",
   "execution_count": 53,
   "metadata": {},
   "outputs": [
    {
     "data": {
      "image/png": "[encoded data removed]",
      "text/plain": [
       "<Figure size 432x288 with 1 Axes>"
      ]
     },
     "metadata": {},
     "output_type": "display_data"
    }
   ],
   "source": [
    "learn.sched.plot()"
   ]
  },
  {
   "cell_type": "code",
   "execution_count": 54,
   "metadata": {},
   "outputs": [
    {
     "data": {
      "application/vnd.jupyter.widget-view+json": {
       "model_id": "b3aeed8a6f2f42ecbcff494394b95de2",
       "version_major": 2,
       "version_minor": 0
      },
      "text/plain": [
       "HBox(children=(IntProgress(value=0, description='Epoch', max=1), HTML(value='')))"
      ]
     },
     "metadata": {},
     "output_type": "display_data"
    },
    {
     "name": "stdout",
     "output_type": "stream",
     "text": [
      "epoch      trn_loss   val_loss   accuracy                  \n",
      "    0      0.694678   0.629315   0.642416  \n",
      "\n"
     ]
    },
    {
     "data": {
      "text/plain": [
       "[array([ 0.62932]), 0.64241580438416968]"
      ]
     },
     "execution_count": 54,
     "metadata": {},
     "output_type": "execute_result"
    }
   ],
   "source": [
    "# Run one epoch on the classification layer\n",
    "# trn_size = 1000\n",
    "# val_size = 5000\n",
    "learn.fit(lrs, 1, wds=wd, cycle_len=1, use_clr=(8,3))"
   ]
  },
  {
   "cell_type": "code",
   "execution_count": 34,
   "metadata": {},
   "outputs": [
    {
     "data": {
      "application/vnd.jupyter.widget-view+json": {
       "model_id": "fc6c093047814b5fb3eb27d2e554d8ae",
       "version_major": 2,
       "version_minor": 0
      },
      "text/plain": [
       "HBox(children=(IntProgress(value=0, description='Epoch', max=1), HTML(value='')))"
      ]
     },
     "metadata": {},
     "output_type": "display_data"
    },
    {
     "name": "stdout",
     "output_type": "stream",
     "text": [
      "epoch      trn_loss   val_loss   accuracy                \n",
      "    0      0.761598   0.66294    0.630888  \n",
      "\n"
     ]
    },
    {
     "data": {
      "text/plain": [
       "[array([ 0.66294]), 0.63088820578044869]"
      ]
     },
     "execution_count": 34,
     "metadata": {},
     "output_type": "execute_result"
    }
   ],
   "source": [
    "# Run one epoch on the classification layer\n",
    "# trn_size = 100\n",
    "# val_size = 5000\n",
    "learn.fit(lrs, 1, wds=wd, cycle_len=1, use_clr=(8,3))"
   ]
  },
  {
   "cell_type": "code",
   "execution_count": 55,
   "metadata": {},
   "outputs": [],
   "source": [
    "# Save the trained model\n",
    "learn.save('clas_0')\n",
    "learn.load('clas_0')"
   ]
  },
  {
   "cell_type": "code",
   "execution_count": 56,
   "metadata": {},
   "outputs": [
    {
     "data": {
      "application/vnd.jupyter.widget-view+json": {
       "model_id": "282f88a49db04e9980364fa267384c46",
       "version_major": 2,
       "version_minor": 0
      },
      "text/plain": [
       "HBox(children=(IntProgress(value=0, description='Epoch', max=1), HTML(value='')))"
      ]
     },
     "metadata": {},
     "output_type": "display_data"
    },
    {
     "name": "stdout",
     "output_type": "stream",
     "text": [
      "epoch      trn_loss   val_loss   accuracy                  \n",
      "    0      0.644149   0.650167   0.618549  \n",
      "\n"
     ]
    },
    {
     "data": {
      "text/plain": [
       "[array([ 0.65017]), 0.6185491113389312]"
      ]
     },
     "execution_count": 56,
     "metadata": {},
     "output_type": "execute_result"
    }
   ],
   "source": [
    "# Gradually unfreeze another layer to train a bit more parameters than just the classifier layer\n",
    "# trn_size = 1000\n",
    "# val_size = 5000\n",
    "learn.freeze_to(-2)\n",
    "learn.fit(lrs, 1, wds=wd, cycle_len=1, use_clr=(8,3))"
   ]
  },
  {
   "cell_type": "code",
   "execution_count": 36,
   "metadata": {},
   "outputs": [
    {
     "data": {
      "application/vnd.jupyter.widget-view+json": {
       "model_id": "fcb66581023d48e195aa31e085361a16",
       "version_major": 2,
       "version_minor": 0
      },
      "text/plain": [
       "HBox(children=(IntProgress(value=0, description='Epoch', max=1), HTML(value='')))"
      ]
     },
     "metadata": {},
     "output_type": "display_data"
    },
    {
     "name": "stdout",
     "output_type": "stream",
     "text": [
      "epoch      trn_loss   val_loss   accuracy                \n",
      "    0      0.655339   0.663206   0.63076   \n",
      "\n"
     ]
    },
    {
     "data": {
      "text/plain": [
       "[array([ 0.66321]), 0.63075985164196158]"
      ]
     },
     "execution_count": 36,
     "metadata": {},
     "output_type": "execute_result"
    }
   ],
   "source": [
    "# Gradually unfreeze another layer to train a bit more parameters than just the classifier layer\n",
    "# trn_size = 100\n",
    "# val_size = 5000\n",
    "learn.freeze_to(-2)\n",
    "learn.fit(lrs, 1, wds=wd, cycle_len=1, use_clr=(8,3))"
   ]
  },
  {
   "cell_type": "code",
   "execution_count": 57,
   "metadata": {},
   "outputs": [],
   "source": [
    "# Save the trained model\n",
    "learn.save('clas_1')\n",
    "learn.load('clas_1')"
   ]
  },
  {
   "cell_type": "code",
   "execution_count": 58,
   "metadata": {},
   "outputs": [
    {
     "data": {
      "application/vnd.jupyter.widget-view+json": {
       "model_id": "4b5e629e5d77455c99f72a59d80da8e7",
       "version_major": 2,
       "version_minor": 0
      },
      "text/plain": [
       "HBox(children=(IntProgress(value=0, description='Epoch', max=14), HTML(value='')))"
      ]
     },
     "metadata": {},
     "output_type": "display_data"
    },
    {
     "name": "stdout",
     "output_type": "stream",
     "text": [
      "epoch      trn_loss   val_loss   accuracy                  \n",
      "    0      0.63516    0.60979    0.683978  \n",
      "    1      0.625419   0.765658   0.583117                  \n",
      "    2      0.631421   0.593774   0.674622                  \n",
      "    3      0.616925   0.605305   0.670292                  \n",
      "    4      0.61349    0.586114   0.679961                  \n",
      "    5      0.585603   0.613809   0.670628                  \n",
      "    6      0.576287   0.570074   0.6972                    \n",
      "    7      0.558553   0.573434   0.693967                  \n",
      "    8      0.557649   0.591485   0.693959                  \n",
      "    9      0.54189    0.57117    0.696776                  \n",
      "    10     0.538101   0.575696   0.697913                  \n",
      "    11     0.54434    0.571325   0.700562                  \n",
      "    12     0.541779   0.566735   0.703331                  \n",
      "    13     0.544632   0.56665    0.702571                  \n",
      "\n"
     ]
    },
    {
     "data": {
      "text/plain": [
       "[array([ 0.56665]), 0.70257074984389456]"
      ]
     },
     "execution_count": 58,
     "metadata": {},
     "output_type": "execute_result"
    }
   ],
   "source": [
    "# Unfreeze everything and train for a few epochs on the whole set of parameters of the model\n",
    "# trn_size = 1000\n",
    "# val_size = 5000\n",
    "learn.unfreeze()\n",
    "learn.fit(lrs, 1, wds=wd, cycle_len=14, use_clr=(32,10))"
   ]
  },
  {
   "cell_type": "code",
   "execution_count": 38,
   "metadata": {},
   "outputs": [
    {
     "data": {
      "application/vnd.jupyter.widget-view+json": {
       "model_id": "5953f90500c14945bfd7510b4eb2f2bd",
       "version_major": 2,
       "version_minor": 0
      },
      "text/plain": [
       "HBox(children=(IntProgress(value=0, description='Epoch', max=14), HTML(value='')))"
      ]
     },
     "metadata": {},
     "output_type": "display_data"
    },
    {
     "name": "stdout",
     "output_type": "stream",
     "text": [
      "epoch      trn_loss   val_loss   accuracy                \n",
      "    0      0.565184   0.658257   0.630736  \n",
      "    1      0.609008   0.643067   0.641461                \n",
      "    2      0.589626   0.629926   0.644149                \n",
      "    3      0.582622   0.643003   0.634057                \n",
      "    4      0.577048   0.674303   0.619072                \n",
      "    5      0.561641   0.716868   0.607993                \n",
      "    6      0.554197   0.673983   0.632581                \n",
      "    7      0.529539   0.68012    0.64159                 \n",
      "    8      0.538618   0.701428   0.633327                \n",
      "    9      0.525071   0.738133   0.618959                \n",
      "    10     0.502935   0.736744   0.620724                \n",
      "    11     0.487381   0.719305   0.634891                \n",
      "    12     0.501681   0.742144   0.632685                \n",
      "    13     0.490324   0.749581   0.631273                \n",
      "\n"
     ]
    },
    {
     "data": {
      "text/plain": [
       "[array([ 0.74958]), 0.63127326669259676]"
      ]
     },
     "execution_count": 38,
     "metadata": {},
     "output_type": "execute_result"
    }
   ],
   "source": [
    "# Unfreeze everything and train for a few epochs on the whole set of parameters of the model\n",
    "# trn_size = 100\n",
    "# val_size = 5000\n",
    "learn.unfreeze()\n",
    "learn.fit(lrs, 1, wds=wd, cycle_len=14, use_clr=(32,10))"
   ]
  },
  {
   "cell_type": "code",
   "execution_count": 59,
   "metadata": {},
   "outputs": [
    {
     "data": {
      "image/png": "[encoded data removed]",
      "text/plain": [
       "<Figure size 432x288 with 1 Axes>"
      ]
     },
     "metadata": {},
     "output_type": "display_data"
    }
   ],
   "source": [
    "learn.sched.plot_loss()"
   ]
  },
  {
   "cell_type": "code",
   "execution_count": 60,
   "metadata": {},
   "outputs": [],
   "source": [
    "# Save the model\n",
    "learn.save('clas_2')"
   ]
  },
  {
   "cell_type": "markdown",
   "metadata": {},
   "source": [
    "# Inference\n",
    "Nonw, let's play with the model we've just learned!"
   ]
  },
  {
   "cell_type": "code",
   "execution_count": 61,
   "metadata": {},
   "outputs": [],
   "source": [
    "m = get_rnn_classifer(bptt, 20*70, c, vs, emb_sz=em_sz, n_hid=nh, n_layers=nl, pad_token=1,\n",
    "          layers=[em_sz*3, 50, c], drops=[dps[4], 0.1],\n",
    "          dropouti=dps[0], wdrop=dps[1], dropoute=dps[2], dropouth=dps[3])\n",
    "opt_fn = partial(optim.Adam, betas=(0.7, 0.99))\n",
    "learn = RNN_Learner(md, TextModel(to_gpu(m)), opt_fn=opt_fn)\n",
    "learn.reg_fn = partial(seq2seq_reg, alpha=2, beta=1)\n",
    "learn.clip=25.\n",
    "learn.metrics = [accuracy]\n",
    "\n",
    "lr=3e-3\n",
    "lrm = 2.6\n",
    "lrs = np.array([lr/(lrm**4), lr/(lrm**3), lr/(lrm**2), lr/lrm, lr])\n",
    "wd = 1e-7\n",
    "wd = 0\n",
    "learn.load_encoder('lm1_enc')\n",
    "learn.load('clas_2')"
   ]
  },
  {
   "cell_type": "code",
   "execution_count": 62,
   "metadata": {},
   "outputs": [],
   "source": [
    "def get_sentiment(input_str: str):\n",
    "\n",
    "    # predictions are done on arrays of input.\n",
    "    # We only have a single input, so turn it into a 1x1 array\n",
    "    texts = [input_str]\n",
    "\n",
    "    # tokenize using the fastai wrapper around spacy\n",
    "    tok = [t.split() for t in texts]\n",
    "    # tok = Tokenizer().proc_all_mp(partition_by_cores(texts))\n",
    "\n",
    "    # turn into integers for each word\n",
    "    encoded = [stoi[p] for p in tok[0]]\n",
    "\n",
    "    idx = np.array(encoded)[None]\n",
    "    idx = np.transpose(idx)\n",
    "    tensorIdx = VV(idx)\n",
    "    m.eval()\n",
    "    m.reset()\n",
    "    p = m.forward(tensorIdx)\n",
    "    return np.argmax(p[0][0].data.cpu().numpy())\n",
    "\n",
    "def prediction(texts):\n",
    "    \"\"\"Do the prediction on a list of texts\n",
    "    \"\"\"\n",
    "    y = []\n",
    "    \n",
    "    for i, text in enumerate(texts):\n",
    "        if i % 1000 == 0:\n",
    "            print(i)\n",
    "        encoded = text\n",
    "        idx = np.array(encoded)[None]\n",
    "        idx = np.transpose(idx)\n",
    "        tensorIdx = VV(idx)\n",
    "        m.eval()\n",
    "        m.reset()\n",
    "        p = m.forward(tensorIdx)\n",
    "        y.append(np.argmax(p[0][0].data.cpu().numpy()))\n",
    "    return y"
   ]
  },
  {
   "cell_type": "code",
   "execution_count": 63,
   "metadata": {},
   "outputs": [
    {
     "name": "stdout",
     "output_type": "stream",
     "text": [
      "0\n",
      "0.007691860198974609\n"
     ]
    }
   ],
   "source": [
    "sentence = \"I like Feedly\"\n",
    "start = time()\n",
    "print(get_sentiment(sentence))\n",
    "print(time() - start)"
   ]
  },
  {
   "cell_type": "code",
   "execution_count": 64,
   "metadata": {},
   "outputs": [
    {
     "name": "stdout",
     "output_type": "stream",
     "text": [
      "0\n",
      "1000\n",
      "2000\n",
      "3000\n",
      "4000\n"
     ]
    }
   ],
   "source": [
    "y = prediction(list(val_clas))"
   ]
  },
  {
   "cell_type": "code",
   "execution_count": 65,
   "metadata": {},
   "outputs": [
    {
     "name": "stdout",
     "output_type": "stream",
     "text": [
      "Accuracy --> 0.6776\n",
      "Precision --> 0.7792166771951989\n",
      "F1 score --> 0.7537427436602505\n",
      "Recall score --> 0.7298816568047337\n",
      "[[ 921  699]\n",
      " [ 913 2467]]\n",
      "             precision    recall  f1-score   support\n",
      "\n",
      "          0       0.50      0.57      0.53      1620\n",
      "          1       0.78      0.73      0.75      3380\n",
      "\n",
      "avg / total       0.69      0.68      0.68      5000\n",
      "\n"
     ]
    }
   ],
   "source": [
    "# Show relevant metrics for binary classification\n",
    "# We encourage you to try training the classifier with different data size and its effect on performance\n",
    "# trn_size = 1000\n",
    "# val_size = 5000\n",
    "print(f'Accuracy --> {accuracy_score(y, val_labels)}')\n",
    "print(f'Precision --> {precision_score(y, val_labels)}')\n",
    "print(f'F1 score --> {f1_score(y, val_labels)}')\n",
    "print(f'Recall score --> {recall_score(y, val_labels)}')\n",
    "print(confusion_matrix(y, val_labels))\n",
    "print(classification_report(y, val_labels))"
   ]
  },
  {
   "cell_type": "code",
   "execution_count": 45,
   "metadata": {},
   "outputs": [
    {
     "name": "stdout",
     "output_type": "stream",
     "text": [
      "Accuracy --> 0.5966\n",
      "Precision --> 0.6407337128399747\n",
      "F1 score --> 0.6676552974130829\n",
      "Recall score --> 0.696938424492604\n",
      "[[ 957 1136]\n",
      " [ 881 2026]]\n",
      "             precision    recall  f1-score   support\n",
      "\n",
      "          0       0.52      0.46      0.49      2093\n",
      "          1       0.64      0.70      0.67      2907\n",
      "\n",
      "avg / total       0.59      0.60      0.59      5000\n",
      "\n"
     ]
    }
   ],
   "source": [
    "# Show relevant metrics for binary classification\n",
    "# We encourage you to try training the classifier with different data size and its effect on performance\n",
    "# trn_size = 100\n",
    "# val_size = 5000\n",
    "print(f'Accuracy --> {accuracy_score(y, val_labels)}')\n",
    "print(f'Precision --> {precision_score(y, val_labels)}')\n",
    "print(f'F1 score --> {f1_score(y, val_labels)}')\n",
    "print(f'Recall score --> {recall_score(y, val_labels)}')\n",
    "print(confusion_matrix(y, val_labels))\n",
    "print(classification_report(y, val_labels))"
   ]
  },
  {
   "cell_type": "markdown",
   "metadata": {},
   "source": [
    "# What training size do we need?\n",
    "The language model has already learnt a lot about the syntax. It is very knowledgeable about the context in which words appear in sentences. However, the language model does not contain any notion of [meaning](https://en.wikipedia.org/wiki/Meaning_%28linguistics%29). This problem is well summarised in [Emily Bender's tweet](https://twitter.com/emilymbender/status/1024042044035985408) during a very interesting twiter thread that occur in July around meaning in NLP. A cool summary of this thread can be found in the [Hugging Face](https://medium.com/huggingface/learning-meaning-in-natural-language-processing-the-semantics-mega-thread-9c0332dfe28e) blogpost. Hence the meaning in language is very likely to be learned through supervision, with the help of ground-truth examples.\n",
    "\n",
    "However, when we perform some NLP tasks, sentiment analysis in our example, both syntax and meaning are important!\n",
    "The idea is that you can save a lot of time by being taught with a lot of blind synatx first, and then learning meaning. Think of when you start learning a complete new field. Well, it is far easier to learn it in your mother tongue than in another language you master less. \n",
    "\n",
    "The big practical gain here is that once you \"know\" a language, you need less supervised examples to learn a new thing! In our example, it means we need less labeled reviews for us to learn a relevant classifier.\n",
    "\n",
    "Let's verify this hypothesis by training a classifier with several training size and see how this size affects the performance!"
   ]
  },
  {
   "cell_type": "code",
   "execution_count": null,
   "metadata": {},
   "outputs": [],
   "source": [
    "# The train data contains 68714 examples\n",
    "# The test data contains 22905 examples"
   ]
  },
  {
   "cell_type": "code",
   "execution_count": 66,
   "metadata": {},
   "outputs": [],
   "source": [
    "trn_clas = np.load(CLAS_PATH/'tmp'/'trn_ids.npy')\n",
    "val_clas = np.load(CLAS_PATH/'tmp'/'val_ids.npy')\n",
    "\n",
    "trn_labels = np.squeeze(np.load(CLAS_PATH/'tmp'/'trn_labels.npy'))\n",
    "val_labels = np.squeeze(np.load(CLAS_PATH/'tmp'/'val_labels.npy'))"
   ]
  },
  {
   "cell_type": "code",
   "execution_count": 69,
   "metadata": {},
   "outputs": [],
   "source": [
    "def experiment(trn_size, val_size):\n",
    "\n",
    "    train = random.sample(list(zip(trn_clas, trn_labels)), trn_size)\n",
    "    aux_trn_clas = np.array([item[0] for item in train])\n",
    "    aux_trn_labels = np.array([item[1] for item in train])\n",
    "    del train\n",
    "\n",
    "    validation = random.sample(list(zip(val_clas, val_labels)), val_size)\n",
    "    aux_val_clas = np.array([item[0] for item in validation])\n",
    "    aux_val_labels = np.array([item[1] for item in validation])\n",
    "    del validation\n",
    "\n",
    "\n",
    "    bptt,em_sz,nh,nl = 70,400,1150,3\n",
    "    vs = len(itos)\n",
    "    opt_fn = partial(optim.Adam, betas=(0.8, 0.99))\n",
    "    bs = 48\n",
    "\n",
    "    min_lbl = aux_trn_labels.min()\n",
    "    aux_trn_labels -= min_lbl\n",
    "    aux_val_labels -= min_lbl\n",
    "    c=int(aux_trn_labels.max())+1\n",
    "\n",
    "    # Load data in relevant structures\n",
    "    trn_ds = TextDataset(aux_trn_clas, aux_trn_labels)\n",
    "    val_ds = TextDataset(aux_val_clas, aux_val_labels)\n",
    "    trn_samp = SortishSampler(aux_trn_clas, key=lambda x: len(aux_trn_clas[x]), bs=bs//2)\n",
    "    val_samp = SortSampler(aux_val_clas, key=lambda x: len(aux_val_clas[x]))\n",
    "    trn_dl = DataLoader(trn_ds, bs//2, transpose=True, num_workers=1, pad_idx=1, sampler=trn_samp)\n",
    "    val_dl = DataLoader(val_ds, bs, transpose=True, num_workers=1, pad_idx=1, sampler=val_samp)\n",
    "\n",
    "    # Define the model and load the backbone lamguage model\n",
    "    md = ModelData(PATH, trn_dl, val_dl)\n",
    "    dps = np.array([0.4, 0.5, 0.05, 0.3, 0.1])\n",
    "\n",
    "    m = get_rnn_classifer(bptt, 20*70, c, vs, emb_sz=em_sz, n_hid=nh, n_layers=nl, pad_token=1,\n",
    "              layers=[em_sz*3, 50, c], drops=[dps[4], 0.1],\n",
    "              dropouti=dps[0], wdrop=dps[1], dropoute=dps[2], dropouth=dps[3])\n",
    "\n",
    "    opt_fn = partial(optim.Adam, betas=(0.7, 0.99))\n",
    "\n",
    "    learn = RNN_Learner(md, TextModel(to_gpu(m)), opt_fn=opt_fn)\n",
    "    learn.reg_fn = partial(seq2seq_reg, alpha=2, beta=1)\n",
    "    learn.clip=25.\n",
    "    learn.metrics = [accuracy]\n",
    "\n",
    "    lr=3e-3\n",
    "    lrm = 2.6\n",
    "    lrs = np.array([lr/(lrm**4), lr/(lrm**3), lr/(lrm**2), lr/lrm, lr])\n",
    "\n",
    "    lrs=np.array([1e-4,1e-4,1e-4,1e-3,1e-2])\n",
    "\n",
    "    wd = 1e-7\n",
    "    wd = 0\n",
    "    learn.load_encoder('lm1_enc')\n",
    "\n",
    "    learn.freeze_to(-1)\n",
    "\n",
    "    # Find th learning rate\n",
    "    learn.lr_find(lrs/1000)\n",
    "\n",
    "    # Run one epoch on the classification layer\n",
    "    learn.fit(lrs, 1, wds=wd, cycle_len=1, use_clr=(8,3))\n",
    "\n",
    "    # Save the trained model\n",
    "    learn.save(f'{trn_size}clas_0')\n",
    "    learn.load(f'{trn_size}clas_0')\n",
    "\n",
    "    # Gradually unfreeze another layer to train a bit more parameters than just the classifier layer\n",
    "    learn.freeze_to(-2)\n",
    "    learn.fit(lrs, 1, wds=wd, cycle_len=1, use_clr=(8,3))\n",
    "\n",
    "    # Save the trained model\n",
    "    learn.save(f'{trn_size}clas_1')\n",
    "    learn.load(f'{trn_size}clas_1')\n",
    "\n",
    "    # Unfreeze everything and train for a few epochs on the whole set of parameters of the model\n",
    "    learn.unfreeze()\n",
    "    learn.fit(lrs, 1, wds=wd, cycle_len=14, use_clr=(32,10))\n",
    "\n",
    "    # Save the model\n",
    "    learn.sched.plot_loss()\n",
    "    learn.save(f'{trn_size}clas_2')"
   ]
  },
  {
   "cell_type": "code",
   "execution_count": 70,
   "metadata": {},
   "outputs": [
    {
     "name": "stdout",
     "output_type": "stream",
     "text": [
      "##################################################\n",
      "Experiment with training size 5000\n"
     ]
    },
    {
     "data": {
      "application/vnd.jupyter.widget-view+json": {
       "model_id": "ab6b914ac6e4474b9653dabe9b2243f9",
       "version_major": 2,
       "version_minor": 0
      },
      "text/plain": [
       "HBox(children=(IntProgress(value=0, description='Epoch', max=1), HTML(value='')))"
      ]
     },
     "metadata": {},
     "output_type": "display_data"
    },
    {
     "name": "stdout",
     "output_type": "stream",
     "text": [
      " 80%|███████▉  | 167/209 [00:04<00:01, 41.45it/s, loss=2.91] \n",
      "                                                            \r"
     ]
    },
    {
     "data": {
      "application/vnd.jupyter.widget-view+json": {
       "model_id": "03554ae75cc94cd6bf94b58a0c21832b",
       "version_major": 2,
       "version_minor": 0
      },
      "text/plain": [
       "HBox(children=(IntProgress(value=0, description='Epoch', max=1), HTML(value='')))"
      ]
     },
     "metadata": {},
     "output_type": "display_data"
    },
    {
     "name": "stdout",
     "output_type": "stream",
     "text": [
      "epoch      trn_loss   val_loss   accuracy                    \n",
      "    0      0.636746   0.604257   0.672056  \n",
      "\n"
     ]
    },
    {
     "data": {
      "application/vnd.jupyter.widget-view+json": {
       "model_id": "bdb10ec0e0f24c5f869afca92f47f6ec",
       "version_major": 2,
       "version_minor": 0
      },
      "text/plain": [
       "HBox(children=(IntProgress(value=0, description='Epoch', max=1), HTML(value='')))"
      ]
     },
     "metadata": {},
     "output_type": "display_data"
    },
    {
     "name": "stdout",
     "output_type": "stream",
     "text": [
      "epoch      trn_loss   val_loss   accuracy                    \n",
      "    0      0.638192   0.573116   0.701173  \n",
      "\n"
     ]
    },
    {
     "data": {
      "application/vnd.jupyter.widget-view+json": {
       "model_id": "fae7bd28b0c449bc8dc9645e5ec25e19",
       "version_major": 2,
       "version_minor": 0
      },
      "text/plain": [
       "HBox(children=(IntProgress(value=0, description='Epoch', max=14), HTML(value='')))"
      ]
     },
     "metadata": {},
     "output_type": "display_data"
    },
    {
     "name": "stdout",
     "output_type": "stream",
     "text": [
      "epoch      trn_loss   val_loss   accuracy                    \n",
      "    0      0.629121   0.580782   0.691929  \n",
      "    1      0.632813   0.567822   0.712647                    \n",
      "    2      0.616256   0.589304   0.706454                    \n",
      "    3      0.592394   0.530992   0.735726                    \n",
      "    4      0.583711   0.521993   0.732036                    \n",
      "    5      0.568484   0.515901   0.740786                    \n",
      "    6      0.567169   0.52401    0.748452                    \n",
      "    7      0.539887   0.500244   0.755615                    \n",
      "    8      0.524352   0.492312   0.758934                    \n",
      "    9      0.517899   0.48797    0.761002                    \n",
      "    10     0.517592   0.482346   0.765254                    \n",
      "    11     0.509405   0.481563   0.769417                    \n",
      "    12     0.490215   0.480575   0.76981                     \n",
      "    13     0.496995   0.479648   0.76967                     \n",
      "\n",
      "Time cost: 372.2916085720062\n",
      "##################################################\n",
      "Experiment with training size 10000\n"
     ]
    },
    {
     "data": {
      "application/vnd.jupyter.widget-view+json": {
       "model_id": "16fc41b6d6e14931b733f3b609cab66b",
       "version_major": 2,
       "version_minor": 0
      },
      "text/plain": [
       "HBox(children=(IntProgress(value=0, description='Epoch', max=1), HTML(value='')))"
      ]
     },
     "metadata": {},
     "output_type": "display_data"
    },
    {
     "name": "stdout",
     "output_type": "stream",
     "text": [
      " 79%|███████▊  | 328/417 [00:07<00:01, 46.66it/s, loss=2.66] \n",
      "                                                            \r"
     ]
    },
    {
     "data": {
      "application/vnd.jupyter.widget-view+json": {
       "model_id": "89ea9b1e566a4eb29df5d96ebdc3c300",
       "version_major": 2,
       "version_minor": 0
      },
      "text/plain": [
       "HBox(children=(IntProgress(value=0, description='Epoch', max=1), HTML(value='')))"
      ]
     },
     "metadata": {},
     "output_type": "display_data"
    },
    {
     "name": "stdout",
     "output_type": "stream",
     "text": [
      "epoch      trn_loss   val_loss   accuracy                    \n",
      "    0      0.629513   0.580603   0.69199   \n",
      "\n"
     ]
    },
    {
     "data": {
      "application/vnd.jupyter.widget-view+json": {
       "model_id": "c34ecc201e574d7eae51197b67a6b960",
       "version_major": 2,
       "version_minor": 0
      },
      "text/plain": [
       "HBox(children=(IntProgress(value=0, description='Epoch', max=1), HTML(value='')))"
      ]
     },
     "metadata": {},
     "output_type": "display_data"
    },
    {
     "name": "stdout",
     "output_type": "stream",
     "text": [
      "epoch      trn_loss   val_loss   accuracy                    \n",
      "    0      0.617702   0.574443   0.692438  \n",
      "\n"
     ]
    },
    {
     "data": {
      "application/vnd.jupyter.widget-view+json": {
       "model_id": "365315dea1da49d3944f3c8507e27d34",
       "version_major": 2,
       "version_minor": 0
      },
      "text/plain": [
       "HBox(children=(IntProgress(value=0, description='Epoch', max=14), HTML(value='')))"
      ]
     },
     "metadata": {},
     "output_type": "display_data"
    },
    {
     "name": "stdout",
     "output_type": "stream",
     "text": [
      "epoch      trn_loss   val_loss   accuracy                    \n",
      "    0      0.621717   0.569258   0.693914  \n",
      "    1      0.605289   0.547665   0.726234                    \n",
      "    2      0.589568   0.525726   0.729149                    \n",
      "    3      0.577971   0.50635    0.755227                    \n",
      "    4      0.550792   0.481054   0.767314                    \n",
      "    5      0.541418   0.479746   0.77041                     \n",
      "    6      0.537937   0.468548   0.782053                    \n",
      "    7      0.498889   0.469227   0.783141                    \n",
      "    8      0.493261   0.452959   0.78604                     \n",
      "    9      0.479148   0.445156   0.79156                     \n",
      "    10     0.486899   0.43919    0.791957                    \n",
      "    11     0.463723   0.444843   0.791741                    \n",
      "    12     0.46931    0.439403   0.793182                    \n",
      "    13     0.464218   0.440049   0.794967                    \n",
      "\n",
      "Time cost: 554.2795326709747\n",
      "##################################################\n",
      "Experiment with training size 20000\n"
     ]
    },
    {
     "data": {
      "application/vnd.jupyter.widget-view+json": {
       "model_id": "eb72ad295d7c4c939d0446195efe2af3",
       "version_major": 2,
       "version_minor": 0
      },
      "text/plain": [
       "HBox(children=(IntProgress(value=0, description='Epoch', max=1), HTML(value='')))"
      ]
     },
     "metadata": {},
     "output_type": "display_data"
    },
    {
     "name": "stdout",
     "output_type": "stream",
     "text": [
      " 80%|███████▉  | 666/834 [00:16<00:04, 41.46it/s, loss=2.69] "
     ]
    },
    {
     "data": {
      "application/vnd.jupyter.widget-view+json": {
       "model_id": "6ed62e9309ac44e28fab0d9f56901482",
       "version_major": 2,
       "version_minor": 0
      },
      "text/plain": [
       "HBox(children=(IntProgress(value=0, description='Epoch', max=1), HTML(value='')))"
      ]
     },
     "metadata": {},
     "output_type": "display_data"
    },
    {
     "name": "stdout",
     "output_type": "stream",
     "text": [
      " 22%|██▏       | 181/834 [00:03<00:13, 47.50it/s, loss=0.636]\n",
      " 23%|██▎       | 192/834 [00:04<00:13, 47.79it/s, loss=0.637]"
     ]
    },
    {
     "name": "stderr",
     "output_type": "stream",
     "text": [
      "Exception in thread Thread-88:\n",
      "Traceback (most recent call last):\n",
      "  File \"/home/paperspace/anaconda3/envs/fastai/lib/python3.6/threading.py\", line 916, in _bootstrap_inner\n",
      "    self.run()\n",
      "  File \"/home/paperspace/anaconda3/envs/fastai/lib/python3.6/site-packages/tqdm/_monitor.py\", line 62, in run\n",
      "    for instance in self.tqdm_cls._instances:\n",
      "  File \"/home/paperspace/anaconda3/envs/fastai/lib/python3.6/_weakrefset.py\", line 60, in __iter__\n",
      "    for itemref in self.data:\n",
      "RuntimeError: Set changed size during iteration\n",
      "\n"
     ]
    },
    {
     "name": "stdout",
     "output_type": "stream",
     "text": [
      "epoch      trn_loss   val_loss   accuracy                    \n",
      "    0      0.632228   0.579186   0.697299  \n",
      "\n"
     ]
    },
    {
     "data": {
      "application/vnd.jupyter.widget-view+json": {
       "model_id": "8bda3dc0f39a46dca966ad3bff464d89",
       "version_major": 2,
       "version_minor": 0
      },
      "text/plain": [
       "HBox(children=(IntProgress(value=0, description='Epoch', max=1), HTML(value='')))"
      ]
     },
     "metadata": {},
     "output_type": "display_data"
    },
    {
     "name": "stdout",
     "output_type": "stream",
     "text": [
      "epoch      trn_loss   val_loss   accuracy                    \n",
      "    0      0.627335   0.567023   0.712183  \n",
      "\n"
     ]
    },
    {
     "data": {
      "application/vnd.jupyter.widget-view+json": {
       "model_id": "7bd07bffe1de4586ab9287beef7355e1",
       "version_major": 2,
       "version_minor": 0
      },
      "text/plain": [
       "HBox(children=(IntProgress(value=0, description='Epoch', max=14), HTML(value='')))"
      ]
     },
     "metadata": {},
     "output_type": "display_data"
    },
    {
     "name": "stdout",
     "output_type": "stream",
     "text": [
      "epoch      trn_loss   val_loss   accuracy                    \n",
      "    0      0.605118   0.544273   0.724144  \n",
      "    1      0.608289   0.53731    0.74962                     \n",
      "    2      0.555872   0.496129   0.763737                    \n",
      "    3      0.539669   0.44363    0.791146                    \n",
      "    4      0.500671   0.4288     0.798571                    \n",
      "    5      0.500521   0.665641   0.803755                    \n",
      "    6      0.501636   0.428771   0.817875                    \n",
      "    7      0.45829    0.399794   0.822248                    \n",
      "    8      0.452258   0.404502   0.827565                    \n",
      "    9      0.43673    0.393559   0.827691                    \n",
      "    10     0.442479   2.504114   0.830976                    \n",
      "    11     0.419346   0.372752   0.834863                    \n",
      "    12     0.409346   0.427083   0.834209                    \n",
      "    13     0.408688   0.540973   0.832045                    \n",
      "\n",
      "Time cost: 918.0445899963379\n",
      "##################################################\n",
      "Experiment with training size 50000\n"
     ]
    },
    {
     "data": {
      "application/vnd.jupyter.widget-view+json": {
       "model_id": "910d1850d78e42bdb528fc48b48c88a1",
       "version_major": 2,
       "version_minor": 0
      },
      "text/plain": [
       "HBox(children=(IntProgress(value=0, description='Epoch', max=1), HTML(value='')))"
      ]
     },
     "metadata": {},
     "output_type": "display_data"
    },
    {
     "name": "stdout",
     "output_type": "stream",
     "text": [
      " 78%|███████▊  | 1633/2084 [00:35<00:09, 45.97it/s, loss=2.45] "
     ]
    },
    {
     "data": {
      "application/vnd.jupyter.widget-view+json": {
       "model_id": "f16a6e08b2374ef6b5e5e1ea2ef023d7",
       "version_major": 2,
       "version_minor": 0
      },
      "text/plain": [
       "HBox(children=(IntProgress(value=0, description='Epoch', max=1), HTML(value='')))"
      ]
     },
     "metadata": {},
     "output_type": "display_data"
    },
    {
     "name": "stdout",
     "output_type": "stream",
     "text": [
      "  9%|▉         | 196/2084 [00:04<00:41, 45.26it/s, loss=0.648]\n",
      " 10%|▉         | 206/2084 [00:04<00:41, 45.43it/s, loss=0.642]"
     ]
    },
    {
     "name": "stderr",
     "output_type": "stream",
     "text": [
      "Exception in thread Thread-107:\n",
      "Traceback (most recent call last):\n",
      "  File \"/home/paperspace/anaconda3/envs/fastai/lib/python3.6/threading.py\", line 916, in _bootstrap_inner\n",
      "    self.run()\n",
      "  File \"/home/paperspace/anaconda3/envs/fastai/lib/python3.6/site-packages/tqdm/_monitor.py\", line 62, in run\n",
      "    for instance in self.tqdm_cls._instances:\n",
      "  File \"/home/paperspace/anaconda3/envs/fastai/lib/python3.6/_weakrefset.py\", line 60, in __iter__\n",
      "    for itemref in self.data:\n",
      "RuntimeError: Set changed size during iteration\n",
      "\n"
     ]
    },
    {
     "name": "stdout",
     "output_type": "stream",
     "text": [
      "epoch      trn_loss   val_loss   accuracy                      \n",
      "    0      0.636804   0.560841   0.712397  \n",
      "\n"
     ]
    },
    {
     "data": {
      "application/vnd.jupyter.widget-view+json": {
       "model_id": "abfbf5d2af3f4b558d0d893a9a6a9c55",
       "version_major": 2,
       "version_minor": 0
      },
      "text/plain": [
       "HBox(children=(IntProgress(value=0, description='Epoch', max=1), HTML(value='')))"
      ]
     },
     "metadata": {},
     "output_type": "display_data"
    },
    {
     "name": "stdout",
     "output_type": "stream",
     "text": [
      "epoch      trn_loss   val_loss   accuracy                      \n",
      "    0      0.617974   0.545012   0.731191  \n",
      "\n"
     ]
    },
    {
     "data": {
      "application/vnd.jupyter.widget-view+json": {
       "model_id": "bb0183a38ae84eb682a5c498d87eeb1b",
       "version_major": 2,
       "version_minor": 0
      },
      "text/plain": [
       "HBox(children=(IntProgress(value=0, description='Epoch', max=14), HTML(value='')))"
      ]
     },
     "metadata": {},
     "output_type": "display_data"
    },
    {
     "name": "stdout",
     "output_type": "stream",
     "text": [
      "epoch      trn_loss   val_loss   accuracy                      \n",
      "    0      0.598669   0.509739   0.745293  \n",
      "    1      0.557056   0.44843    0.792898                      \n",
      "    2      0.501326   0.399053   0.821063                      \n",
      "    3      0.465874   0.36433    0.83895                       \n",
      "    4      0.446805   0.347001   0.849821                      \n",
      "    5      0.434113   0.34197    0.856869                      \n",
      "    6      0.397599   0.304276   0.867009                      \n",
      "    7      0.375791   0.301131   0.871894                      \n",
      "    8      0.384966   0.389823   0.878804                      \n",
      "    9      0.343615   0.573747   0.882832                      \n",
      "    10     0.35691    0.266845   0.887769                      \n",
      "    11     0.335292   0.264552   0.891756                      \n",
      "    12     0.322255   0.290042   0.894025                      \n",
      "    13     0.346201   0.288813   0.894486                      \n",
      "\n",
      "Time cost: 2016.8832156658173\n",
      "##################################################\n",
      "Experiment with training size 68714\n"
     ]
    },
    {
     "data": {
      "application/vnd.jupyter.widget-view+json": {
       "model_id": "19e8e06fdfa24bd39cf4eb65b0b8247c",
       "version_major": 2,
       "version_minor": 0
      },
      "text/plain": [
       "HBox(children=(IntProgress(value=0, description='Epoch', max=1), HTML(value='')))"
      ]
     },
     "metadata": {},
     "output_type": "display_data"
    },
    {
     "name": "stdout",
     "output_type": "stream",
     "text": [
      " 78%|███████▊  | 2241/2864 [00:48<00:13, 45.85it/s, loss=2.5]  "
     ]
    },
    {
     "data": {
      "application/vnd.jupyter.widget-view+json": {
       "model_id": "aaab6fed0c274c0e8dbf8b882979b124",
       "version_major": 2,
       "version_minor": 0
      },
      "text/plain": [
       "HBox(children=(IntProgress(value=0, description='Epoch', max=1), HTML(value='')))"
      ]
     },
     "metadata": {},
     "output_type": "display_data"
    },
    {
     "name": "stdout",
     "output_type": "stream",
     "text": [
      "  2%|▏         | 44/2864 [00:01<01:04, 43.47it/s, loss=0.692]\n",
      "  2%|▏         | 49/2864 [00:01<01:08, 40.85it/s, loss=0.685]"
     ]
    },
    {
     "name": "stderr",
     "output_type": "stream",
     "text": [
      "Exception in thread Thread-126:\n",
      "Traceback (most recent call last):\n",
      "  File \"/home/paperspace/anaconda3/envs/fastai/lib/python3.6/threading.py\", line 916, in _bootstrap_inner\n",
      "    self.run()\n",
      "  File \"/home/paperspace/anaconda3/envs/fastai/lib/python3.6/site-packages/tqdm/_monitor.py\", line 62, in run\n",
      "    for instance in self.tqdm_cls._instances:\n",
      "  File \"/home/paperspace/anaconda3/envs/fastai/lib/python3.6/_weakrefset.py\", line 60, in __iter__\n",
      "    for itemref in self.data:\n",
      "RuntimeError: Set changed size during iteration\n",
      "\n"
     ]
    },
    {
     "name": "stdout",
     "output_type": "stream",
     "text": [
      "epoch      trn_loss   val_loss   accuracy                      \n",
      "    0      0.638998   0.626278   0.711735  \n",
      "\n"
     ]
    },
    {
     "data": {
      "application/vnd.jupyter.widget-view+json": {
       "model_id": "70aa25acc67b40e395b1ecfa6377f8ff",
       "version_major": 2,
       "version_minor": 0
      },
      "text/plain": [
       "HBox(children=(IntProgress(value=0, description='Epoch', max=1), HTML(value='')))"
      ]
     },
     "metadata": {},
     "output_type": "display_data"
    },
    {
     "name": "stdout",
     "output_type": "stream",
     "text": [
      "epoch      trn_loss   val_loss   accuracy                      \n",
      "    0      0.612039   0.528373   0.740482  \n",
      "\n"
     ]
    },
    {
     "data": {
      "application/vnd.jupyter.widget-view+json": {
       "model_id": "1e148f89e638470f9204ee79d1fb0487",
       "version_major": 2,
       "version_minor": 0
      },
      "text/plain": [
       "HBox(children=(IntProgress(value=0, description='Epoch', max=14), HTML(value='')))"
      ]
     },
     "metadata": {},
     "output_type": "display_data"
    },
    {
     "name": "stdout",
     "output_type": "stream",
     "text": [
      "epoch      trn_loss   val_loss   accuracy                      \n",
      "    0      0.580506   0.493262   0.762411  \n",
      "    1      0.531004   0.436308   0.79498                       \n",
      "    2      0.495421   0.378798   0.836424                      \n",
      "    3      0.441002   0.343042   0.848467                      \n",
      "    4      0.413379   0.307192   0.870622                      \n",
      "    5      0.370117   0.28155    0.880303                      \n",
      "    6      0.383329   0.489534   0.887555                      \n",
      "    7      0.383189   0.309609   0.897372                      \n",
      "    8      0.342345   0.244473   0.900336                      \n",
      "    9      0.30185    0.228177   0.90746                       \n",
      "    10     0.325772   0.220776   0.911474                      \n",
      "    11     0.327413   0.212767   0.914558                      \n",
      "    12     0.281435   0.209075   0.916814                      \n",
      "    13     0.313629   0.208032   0.916745                      \n",
      "\n",
      "Time cost: 2713.566940307617\n"
     ]
    },
    {
     "data": {
      "image/png": "[encoded data removed]",
      "text/plain": [
       "<Figure size 432x288 with 1 Axes>"
      ]
     },
     "metadata": {},
     "output_type": "display_data"
    }
   ],
   "source": [
    "# The train data contains 68714 examples\n",
    "# The test data contains 22905 examples\n",
    "from time import time\n",
    "val_size = 22905\n",
    "for trn_size in [5000, 10000, 20000, 50000, 68714]:\n",
    "    print('#'*50)\n",
    "    print(f'Experiment with training size {trn_size}')\n",
    "    start = time()\n",
    "    experiment(trn_size, val_size)\n",
    "    t = time() - start\n",
    "    print(f'Time cost: {t}')"
   ]
  },
  {
   "cell_type": "code",
   "execution_count": 71,
   "metadata": {},
   "outputs": [],
   "source": [
    "learn.load(f'68714clas_2')"
   ]
  },
  {
   "cell_type": "code",
   "execution_count": 72,
   "metadata": {},
   "outputs": [
    {
     "name": "stdout",
     "output_type": "stream",
     "text": [
      "0\n",
      "1000\n",
      "2000\n",
      "3000\n",
      "4000\n",
      "5000\n",
      "6000\n",
      "7000\n",
      "8000\n",
      "9000\n",
      "10000\n",
      "11000\n",
      "12000\n",
      "13000\n",
      "14000\n",
      "15000\n",
      "16000\n",
      "17000\n",
      "18000\n",
      "19000\n",
      "20000\n",
      "21000\n",
      "22000\n"
     ]
    }
   ],
   "source": [
    "y = prediction(list(val_clas))"
   ]
  },
  {
   "cell_type": "code",
   "execution_count": 73,
   "metadata": {},
   "outputs": [
    {
     "name": "stdout",
     "output_type": "stream",
     "text": [
      "Accuracy --> 0.9029906134031871\n",
      "Precision --> 0.9386477462437396\n",
      "F1 score --> 0.9239301609038002\n",
      "Recall score --> 0.9096669812592693\n",
      "[[ 7189   882]\n",
      " [ 1340 13494]]\n",
      "             precision    recall  f1-score   support\n",
      "\n",
      "          0       0.84      0.89      0.87      8071\n",
      "          1       0.94      0.91      0.92     14834\n",
      "\n",
      "avg / total       0.90      0.90      0.90     22905\n",
      "\n"
     ]
    }
   ],
   "source": [
    "# trn_size = 68714\n",
    "# val_size = 5000\n",
    "print(f'Accuracy --> {accuracy_score(y, val_labels)}')\n",
    "print(f'Precision --> {precision_score(y, val_labels)}')\n",
    "print(f'F1 score --> {f1_score(y, val_labels)}')\n",
    "print(f'Recall score --> {recall_score(y, val_labels)}')\n",
    "print(confusion_matrix(y, val_labels))\n",
    "print(classification_report(y, val_labels))"
   ]
  },
  {
   "cell_type": "markdown",
   "metadata": {},
   "source": [
    "Some notebook issues here, you might want to run this cell from a python script..."
   ]
  },
  {
   "cell_type": "code",
   "execution_count": null,
   "metadata": {},
   "outputs": [],
   "source": []
  }
 ],
 "metadata": {
  "kernelspec": {
   "display_name": "Python 3",
   "language": "python",
   "name": "python3"
  },
  "language_info": {
   "codemirror_mode": {
    "name": "ipython",
    "version": 3
   },
   "file_extension": ".py",
   "mimetype": "text/x-python",
   "name": "python",
   "nbconvert_exporter": "python",
   "pygments_lexer": "ipython3",
   "version": "3.6.5"
  }
 },
 "nbformat": 4,
 "nbformat_minor": 2
}
